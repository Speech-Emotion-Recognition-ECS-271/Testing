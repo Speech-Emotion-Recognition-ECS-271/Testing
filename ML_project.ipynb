{
  "nbformat": 4,
  "nbformat_minor": 0,
  "metadata": {
    "colab": {
      "name": "ML_project.ipynb",
      "provenance": [],
      "collapsed_sections": [
        "iZJfdJshATja",
        "FszzKHVdO9bm",
        "usGo6MJknHfX",
        "rasZJ-WYO5-9",
        "bL37297lPCGW",
        "dJzRUX4bPIc_",
        "e3iwRSp7PsI-",
        "UqmRqlRsQhF4",
        "Bhvlugc-pO_x",
        "C-2nb5dcq4ii",
        "jZlYeTmBiAvo"
      ],
      "include_colab_link": true
    },
    "kernelspec": {
      "name": "python3",
      "display_name": "Python 3"
    },
    "language_info": {
      "name": "python"
    },
    "accelerator": "GPU"
  },
  "cells": [
    {
      "cell_type": "markdown",
      "metadata": {
        "id": "view-in-github",
        "colab_type": "text"
      },
      "source": [
        "<a href=\"https://colab.research.google.com/github/ryu0315360/Testing/blob/main/ML_project.ipynb\" target=\"_parent\"><img src=\"https://colab.research.google.com/assets/colab-badge.svg\" alt=\"Open In Colab\"/></a>"
      ]
    },
    {
      "cell_type": "markdown",
      "source": [
        "# TODO\n",
        "1. Optimization\n",
        "2. Data augmentation\n",
        "3. Visualization (epoch-accuracy plot, loss plot, heatmap...)"
      ],
      "metadata": {
        "id": "lVW-DX1vczng"
      }
    },
    {
      "cell_type": "markdown",
      "source": [
        "# library"
      ],
      "metadata": {
        "id": "zfmdGg_GOuSp"
      }
    },
    {
      "cell_type": "code",
      "source": [
        "!pip install keras.utils"
      ],
      "metadata": {
        "colab": {
          "base_uri": "https://localhost:8080/"
        },
        "id": "0fgDA31Q4O05",
        "outputId": "c3d7d404-dee0-40d2-96de-718a8a24e42b"
      },
      "execution_count": null,
      "outputs": [
        {
          "output_type": "stream",
          "name": "stdout",
          "text": [
            "Requirement already satisfied: keras.utils in /usr/local/lib/python3.7/dist-packages (1.0.13)\n",
            "Requirement already satisfied: Keras>=2.1.5 in /usr/local/lib/python3.7/dist-packages (from keras.utils) (2.8.0)\n"
          ]
        }
      ]
    },
    {
      "cell_type": "code",
      "source": [
        "# Keras\n",
        "import keras\n",
        "from keras import regularizers\n",
        "from keras.preprocessing import sequence\n",
        "from keras.preprocessing.text import Tokenizer\n",
        "from keras.preprocessing.sequence import pad_sequences\n",
        "from keras.models import Sequential, Model, model_from_json\n",
        "from keras.layers import Dense, Embedding, LSTM\n",
        "from keras.layers import Input, Flatten, Dropout, Activation, BatchNormalization\n",
        "from keras.layers import Conv1D, MaxPooling1D, AveragePooling1D\n",
        "from keras.utils import np_utils\n",
        "from tensorflow.keras.utils import to_categorical\n",
        "from keras.callbacks import (EarlyStopping, LearningRateScheduler,\n",
        "                             ModelCheckpoint, TensorBoard, ReduceLROnPlateau)\n",
        "from keras import losses, models, optimizers\n",
        "from keras.activations import relu, softmax\n",
        "from keras.layers import (Convolution2D, GlobalAveragePooling2D, BatchNormalization, Flatten, Dropout,\n",
        "                          GlobalMaxPool2D, MaxPool2D, concatenate, Activation, Input, Dense)\n",
        "\n",
        "# sklearn\n",
        "from sklearn.preprocessing import LabelEncoder\n",
        "\n",
        "# Other  \n",
        "from tqdm import tqdm, tqdm_pandas\n",
        "import scipy\n",
        "from scipy.stats import skew\n",
        "\n",
        "import json\n",
        "import tensorflow as tf\n",
        "from matplotlib.pyplot import specgram\n",
        "\n",
        "import IPython.display as ipd  # To play sound in the notebook"
      ],
      "metadata": {
        "id": "4Y6FCemDb-Ow"
      },
      "execution_count": null,
      "outputs": []
    },
    {
      "cell_type": "code",
      "execution_count": null,
      "metadata": {
        "id": "CgToxuQVq93n"
      },
      "outputs": [],
      "source": [
        "import pandas as pd\n",
        "import librosa\n",
        "import librosa.display\n",
        "import soundfile\n",
        "import os, glob, pickle, sys\n",
        "import numpy as np\n",
        "import seaborn as sns\n",
        "import matplotlib.pyplot as plt\n",
        "\n",
        "from sklearn.model_selection import train_test_split\n",
        "from sklearn.neural_network import MLPClassifier\n",
        "from sklearn.metrics import accuracy_score\n",
        "from sklearn.preprocessing import StandardScaler, OneHotEncoder\n",
        "from sklearn.metrics import confusion_matrix, classification_report\n",
        "from sklearn.model_selection import train_test_split\n",
        "\n",
        "# to play the audio files\n",
        "from IPython.display import Audio\n",
        "\n",
        "import keras\n",
        "from keras.callbacks import ReduceLROnPlateau\n",
        "from keras.models import Sequential\n",
        "from keras.layers import Dense, Conv1D, MaxPooling1D, Flatten, Dropout, BatchNormalization\n",
        "# from keras.utils import np_utils, to_categorical\n",
        "from keras.callbacks import ModelCheckpoint"
      ]
    },
    {
      "cell_type": "code",
      "source": [
        "import warnings\n",
        "if not sys.warnoptions:\n",
        "    warnings.simplefilter(\"ignore\")\n",
        "warnings.filterwarnings(\"ignore\", category=DeprecationWarning) "
      ],
      "metadata": {
        "id": "YUzo2SguDpCW"
      },
      "execution_count": null,
      "outputs": []
    },
    {
      "cell_type": "code",
      "source": [
        "## path!\n",
        "\n",
        "from google.colab import drive\n",
        "drive.mount('/content/gdrive')\n",
        "\n",
        "path = 'gdrive/MyDrive/Data/Actor_*/*.wav' \n",
        "path_2 = 'gdrive/MyDrive/Data/Actor_02/*.wav' "
      ],
      "metadata": {
        "colab": {
          "base_uri": "https://localhost:8080/"
        },
        "id": "OKaGPl9ew5v_",
        "outputId": "2bb3470f-5d4d-45f1-d74a-5b18023aafc7"
      },
      "execution_count": null,
      "outputs": [
        {
          "output_type": "stream",
          "name": "stdout",
          "text": [
            "Drive already mounted at /content/gdrive; to attempt to forcibly remount, call drive.mount(\"/content/gdrive\", force_remount=True).\n"
          ]
        }
      ]
    },
    {
      "cell_type": "code",
      "source": [
        "pip install pydub"
      ],
      "metadata": {
        "colab": {
          "base_uri": "https://localhost:8080/"
        },
        "id": "ES-dt6EjWYha",
        "outputId": "e496df52-69a6-414b-cd89-49c169d983bb"
      },
      "execution_count": null,
      "outputs": [
        {
          "output_type": "stream",
          "name": "stdout",
          "text": [
            "Requirement already satisfied: pydub in /usr/local/lib/python3.7/dist-packages (0.25.1)\n"
          ]
        }
      ]
    },
    {
      "cell_type": "code",
      "source": [
        "from pydub import AudioSegment"
      ],
      "metadata": {
        "id": "Bu0EghXMWPYZ"
      },
      "execution_count": null,
      "outputs": []
    },
    {
      "cell_type": "markdown",
      "source": [
        "# extract features"
      ],
      "metadata": {
        "id": "rasZJ-WYO5-9"
      }
    },
    {
      "cell_type": "code",
      "source": [
        "def extract_feature_all(file_name, mfcc, chroma, mel): # mel 1d (mean), mel&mfcc 1d\n",
        "\n",
        "  with soundfile.SoundFile(file_name) as sound_file:\n",
        "      X = sound_file.read(dtype=\"float32\")\n",
        "      sample_rate=sound_file.samplerate\n",
        "      result=np.array([])\n",
        "      if chroma:\n",
        "          stft=np.abs(librosa.stft(X))\n",
        "      if mfcc:\n",
        "          mfccs=np.mean(librosa.feature.mfcc(y=X, sr=sample_rate, n_mfcc=40).T, axis=0)\n",
        "          result=np.hstack((result, mfccs))\n",
        "      if chroma:\n",
        "          chroma=np.mean(librosa.feature.chroma_stft(S=stft, sr=sample_rate).T,axis=0)\n",
        "          result=np.hstack((result, chroma))\n",
        "      if mel:\n",
        "          mel=np.mean(librosa.feature.melspectrogram(y=X, sr=sample_rate).T,axis=0)\n",
        "          result=np.hstack((result, mel))\n",
        "          \n",
        "  return result"
      ],
      "metadata": {
        "id": "fJu9vXG-rJ8Q"
      },
      "execution_count": null,
      "outputs": []
    },
    {
      "cell_type": "code",
      "source": [
        "def extract_feature(file_name, feature, plot_mel): # 1d mfcc, 1d mel (flatten)\n",
        "  with soundfile.SoundFile(file_name) as sound_file:\n",
        "    X = sound_file.read(dtype=\"float32\")\n",
        "    sample_rate=sound_file.samplerate\n",
        "    result=np.array([])\n",
        "\n",
        "    if feature == 'mfcc':\n",
        "      mfccs=np.mean(librosa.feature.mfcc(y=X, sr=sample_rate, n_mfcc=40).T, axis=0) # mean...\n",
        "      # temp = librosa.feature.mfcc(y=X, sr=sample_rate, n_mfcc = 40)\n",
        "      # librosa.display.specshow(temp)\n",
        "      # plt.colorbar()\n",
        "      # plt.show()\n",
        "      # print(\"this is shape of temp: \", temp.shape) # (40, 200-300)\n",
        "      # print(\"This is shape of mfccs: \", mfccs.shape) # (40, )\n",
        "      result=np.hstack((result, mfccs))\n",
        "    elif feature == 'mel':\n",
        "      # mel=np.mean(librosa.feature.melspectrogram(y=X, sr=sample_rate).T,axis=0) # mean??\n",
        "      mel = librosa.feature.melspectrogram(y=X, sr=sample_rate, n_mels=128)\n",
        "      # print(\"shape of mel: \", mel.shape)\n",
        "      mel = mel.flatten()\n",
        "      # print(\"shape of mel.flatten(): \", mel.shape) # (12---, )\n",
        "      result=np.hstack((result, mel))\n",
        "      # result = mel\n",
        "\n",
        "      if plot_mel:\n",
        "        # D = librosa.stft(X)  # STFT of X\n",
        "        # S_db = librosa.amplitude_to_db(np.abs(D), ref=np.max)\n",
        "\n",
        "        # fig, ax = plt.subplots()\n",
        "        # img = librosa.display.specshow(S_db, x_axis='time', y_axis='linear', ax=ax)\n",
        "        # ax.set(title='Mel Spectrogram')\n",
        "        # fig.colorbar(img, ax=ax, format=\"%+2.f dB\")\n",
        "        # plt.show()\n",
        "        fig, ax = plt.subplots()\n",
        "        mel_dB = librosa.power_to_db(mel, ref=np.max)\n",
        "        img = librosa.display.specshow(mel_dB, x_axis='time', y_axis='mel', sr=sample_rate, ax=ax)\n",
        "        fig.colorbar(img, ax=ax, format='%+2.0f dB')\n",
        "        ax.set(title='Mel-frequency spectrogram')\n",
        "        print(\"mel_dB: \", mel_dB) \n",
        "        print(\"This is mel_dB.shape : \", mel_dB.shape) # (128, 300-400)\n",
        "\n",
        "\n",
        "    return result"
      ],
      "metadata": {
        "id": "830VXnQ93Q-I"
      },
      "execution_count": null,
      "outputs": []
    },
    {
      "cell_type": "code",
      "source": [
        "def extract_mel2d(file_name, plot_mel = False): # mel 2d\n",
        "\n",
        "  with soundfile.SoundFile(file_name) as sound_file:\n",
        "    X = sound_file.read(dtype=\"float32\")\n",
        "    sample_rate=sound_file.samplerate\n",
        "    # SAMPLE_RATE = 22050\n",
        "    result=np.array([])\n",
        "\n",
        "    mel = librosa.feature.melspectrogram(y=X, sr=sample_rate, n_mels=128)\n",
        "    print(\"shape of mel: \", mel.shape)\n",
        "    # result=np.hstack((result, mel))\n",
        "    result = np.array(mel)\n",
        "    result = np.expand_dims(result, axis=-1)\n",
        "    print(\"shape of result : \", result.shape)\n",
        "\n",
        "    if plot_mel:\n",
        "      fig, ax = plt.subplots()\n",
        "      mel_dB = librosa.power_to_db(mel, ref=np.max)\n",
        "      img = librosa.display.specshow(mel_dB, x_axis='time', y_axis='mel', sr=sample_rate, ax=ax)\n",
        "      fig.colorbar(img, ax=ax, format='%+2.0f dB')\n",
        "      ax.set(title='Mel-frequency spectrogram')\n",
        "      print(\"mel_dB: \", mel_dB) \n",
        "      print(\"This is mel_dB.shape : \", mel_dB.shape) # (128, 300-400)\n",
        "\n",
        "  return result\n"
      ],
      "metadata": {
        "id": "EZf-wN1eFgX7"
      },
      "execution_count": null,
      "outputs": []
    },
    {
      "cell_type": "code",
      "source": [
        "def extract_mfcc2d(file_name): # mfcc 2d\n",
        "  with soundfile.SoundFile(file_name) as sound_file:\n",
        "    X = sound_file.read(dtype=\"float32\")\n",
        "    sample_rate=sound_file.samplerate\n",
        "    # SAMPLE_RATE = 22050\n",
        "    result=np.array([])\n",
        "\n",
        "    mfcc = librosa.feature.mfcc(y=X, sr=sample_rate, n_mfcc = 40)\n",
        "    print(\"shape of mfcc: \", mfcc.shape) # (40, 282)\n",
        "    # result=np.hstack((result, mel))\n",
        "    result = np.array(mfcc)\n",
        "    result = np.expand_dims(mfcc, axis=-1)\n",
        "    print(\"shape of result : \", result.shape)\n",
        "  \n",
        "  return result"
      ],
      "metadata": {
        "id": "vAQb6x5adyVz"
      },
      "execution_count": null,
      "outputs": []
    },
    {
      "cell_type": "code",
      "source": [
        "# Emotions in the RAVDESS dataset\n",
        "emotions={\n",
        "  '01':'neutral',\n",
        "  '02':'calm',\n",
        "  '03':'happy',\n",
        "  '04':'sad',\n",
        "  '05':'angry',\n",
        "  '06':'fearful',\n",
        "  '07':'disgust',\n",
        "  '08':'surprised'\n",
        "}\n",
        "# Emotions to observe\n",
        "# observed_emotions=['calm', 'happy', 'fearful', 'disgust']"
      ],
      "metadata": {
        "id": "uqGPQHDHrM0i"
      },
      "execution_count": null,
      "outputs": []
    },
    {
      "cell_type": "markdown",
      "source": [
        "# load data (1440)"
      ],
      "metadata": {
        "id": "bL37297lPCGW"
      }
    },
    {
      "cell_type": "code",
      "source": [
        "## make all audio data duration 3 sec\n",
        "## just run once. it exports all data to 3 sec long.\n",
        "\n",
        "def padding_duration():\n",
        "  for file in glob.glob(path):\n",
        "\n",
        "    try:\n",
        "      file_name=os.path.basename(file)\n",
        "      # y, sr = librosa.load(file_name, offset=1.0, duration=3.0)\n",
        "      sound = AudioSegment.from_wav(file)\n",
        "      sound = sound.set_channels(1)\n",
        "    except:\n",
        "      print(\"Decoding error\")\n",
        "      continue\n",
        "\n",
        "    pad_ms = 3000  # milliseconds of silence needed # 3sec\n",
        "\n",
        "    print(\"before duration: \", sound.duration_seconds)\n",
        "\n",
        "    if float(sound.duration_seconds) < float(3.0): \n",
        "      print(\"shorter than 3\")\n",
        "      temp = pad_ms - sound.duration_seconds*1000\n",
        "      silence = AudioSegment.silent(duration= temp)\n",
        "      # audio = AudioSegment.from_wav(file)\n",
        "      sound = sound + silence  # Adding silence after the audio\n",
        "      sound.export(file, format='wav')\n",
        "    else:\n",
        "      print(\"longer than 3\")\n",
        "      sound = sound[:pad_ms] \n",
        "      sound.export(file, format=\"wav\")\n",
        "    \n",
        "    print(\"after duration: \", sound.duration_seconds)\n",
        "\n",
        "    if sound.duration_seconds != 3.0:\n",
        "      print(\"duration error\")\n",
        "      return 0\n",
        "\n",
        "  return 0\n",
        "\n",
        "padding_duration()"
      ],
      "metadata": {
        "id": "CgsurUkNGM0Y"
      },
      "execution_count": null,
      "outputs": []
    },
    {
      "cell_type": "code",
      "source": [
        "# all features 1d (mean)\n",
        "def load_data(test_size=0.2): # mel 1d (mean)\n",
        "  x,y=[],[]\n",
        "  for file in glob.glob(path):\n",
        "    try:\n",
        "      print(file)\n",
        "      file_name=os.path.basename(file)\n",
        "      #converting stereo audio to mono\n",
        "      sound = AudioSegment.from_wav(file)\n",
        "      sound = sound.set_channels(1)\n",
        "      sound.export(file, format=\"wav\")\n",
        "\n",
        "      if sound.duration_seconds != 3.0:\n",
        "        print(\"duration error!\")\n",
        "        continue\n",
        "\n",
        "      emotion=emotions[file_name.split(\"-\")[2]]\n",
        "      # if emotion not in observed_emotions:\n",
        "      #     continue\n",
        "      feature=extract_feature_all(file, mfcc=False, chroma=False, mel=True)\n",
        "      x.append(feature)\n",
        "      y.append(emotion)\n",
        "\n",
        "    except:\n",
        "      print(\"decoding error\")\n",
        "      continue\n",
        "\n",
        "  return train_test_split(np.array(x), y, test_size=test_size, random_state=9)"
      ],
      "metadata": {
        "id": "jAU2gr98rUuW"
      },
      "execution_count": null,
      "outputs": []
    },
    {
      "cell_type": "code",
      "source": [
        "# mfcc 1d (mean)\n",
        "def load_data_mfcc1d(test_size = 0.2, feature = 'mfcc', plot_mel = False):\n",
        "  x,y=[],[]\n",
        "  for file in glob.glob(path):\n",
        "    try:\n",
        "      # print(file)\n",
        "      file_name=os.path.basename(file)\n",
        "      #converting stereo audio to mono\n",
        "      sound = AudioSegment.from_wav(file)\n",
        "      sound = sound.set_channels(1)\n",
        "      sound.export(file, format=\"wav\")\n",
        "\n",
        "      if sound.duration_seconds != 3.0:\n",
        "        print(\"duration error!\")\n",
        "        continue\n",
        "\n",
        "      emotion=emotions[file_name.split(\"-\")[2]]\n",
        "      features = extract_feature(file, feature = feature, plot_mel = plot_mel)\n",
        "      # feature = extract_feature_all(file, mfcc= True, chroma = False, mel = True)\n",
        "      x.append(features)\n",
        "      y.append(emotion)\n",
        "    except: # decoding error..\n",
        "      print(\"decoding error\")\n",
        "      continue\n",
        "\n",
        "  return train_test_split(np.array(x), y, test_size=test_size, random_state=9)"
      ],
      "metadata": {
        "id": "-ZguSKwBytLB"
      },
      "execution_count": null,
      "outputs": []
    },
    {
      "cell_type": "code",
      "source": [
        "# mel 1d (flatten) \n",
        "def load_data_mel1d(test_size = 0.2, feature = 'mel', plot_mel = False):\n",
        "  x,y=[],[]\n",
        "  cnt = 1\n",
        "  for file in glob.glob(path):\n",
        "    try:\n",
        "      file_name=os.path.basename(file)\n",
        "      # y, sr = librosa.load(file_name, offset=1.0, duration=3.0)\n",
        "      sound = AudioSegment.from_wav(file)\n",
        "      sound = sound.set_channels(1)\n",
        "\n",
        "      if sound.duration_seconds != 3.0:\n",
        "        print(\"duration error!\")\n",
        "        continue\n",
        "      \n",
        "      # print(\"{}th duration: {}\".format(cnt, sound.duration_seconds))\n",
        "      emotion=emotions[file_name.split(\"-\")[2]]\n",
        "      features = extract_feature(file, feature = feature, plot_mel = plot_mel) # file\n",
        "      # feature = extract_feature_all(file, mfcc= True, chroma = False, mel = True)\n",
        "      x.append(features)\n",
        "      y.append(emotion)\n",
        "      cnt += 1\n",
        "    \n",
        "    except:\n",
        "      print(\"=============Error============\")\n",
        "      continue\n",
        "    \n",
        "\n",
        "  return train_test_split(np.array(x), y, test_size=test_size, random_state=9)\n"
      ],
      "metadata": {
        "id": "cCGm3uvKJKEQ"
      },
      "execution_count": null,
      "outputs": []
    },
    {
      "cell_type": "code",
      "source": [
        "# mel 2d \n",
        "def load_data_mel2d(test_size = 0.2, plot_mel = False):\n",
        "  # x = np.empty(shape = (128, 469, 1))\n",
        "  x = np.array([])\n",
        "  cnt = 0\n",
        "  # x,y=[],[]\n",
        "  y = []\n",
        "  for file in glob.glob(path):\n",
        "    try:\n",
        "      file_name=os.path.basename(file)\n",
        "      #converting stereo audio to mono\n",
        "      sound = AudioSegment.from_wav(file)\n",
        "      sound = sound.set_channels(1)\n",
        "      sound.export(file, format=\"wav\")\n",
        "\n",
        "      if sound.duration_seconds != 3.0:\n",
        "        print(\"duration error!\")\n",
        "        continue\n",
        "\n",
        "      emotion=emotions[file_name.split(\"-\")[2]]\n",
        "      features = extract_mel2d(file, False)\n",
        "      # cnt += 1\n",
        "\n",
        "      if x.size == 0:\n",
        "        features = features.reshape(1, features.shape[0], features.shape[1], features.shape[2])\n",
        "        x = features\n",
        "      else:\n",
        "        features = features.reshape(1, features.shape[0], features.shape[1], features.shape[2])\n",
        "        x = np.vstack((x, features))\n",
        "\n",
        "      print(\"This is x.shape: \", x.shape)\n",
        "      # print(x)\n",
        "      y.append(emotion)\n",
        "      # print(\"append success\")\n",
        "      \n",
        "    except: # decoding error..\n",
        "      print(\"decoding error\")\n",
        "      continue\n",
        "    \n",
        "  try:\n",
        "    temp = np.array(x)  \n",
        "    print(\"This is final np.array(x).shape: \", temp.shape)\n",
        "  except:\n",
        "    print(\"fail to np.array(x).shape\")\n",
        "    return x, y, x, y\n",
        "\n",
        "  # return x, y\n",
        "  return train_test_split(np.array(x), y, test_size=test_size, random_state=9)"
      ],
      "metadata": {
        "id": "IclIVYKgihdI"
      },
      "execution_count": null,
      "outputs": []
    },
    {
      "cell_type": "code",
      "source": [
        "# mfcc 2d \n",
        "def load_data_mfcc2d(test_size = 0.2):\n",
        "  # x = np.empty(shape = (128, 469, 1))\n",
        "  x = np.array([])\n",
        "  cnt = 0\n",
        "  y = []\n",
        "  for file in glob.glob(path):\n",
        "    try:\n",
        "      file_name=os.path.basename(file)\n",
        "      #converting stereo audio to mono\n",
        "      sound = AudioSegment.from_wav(file)\n",
        "      sound = sound.set_channels(1)\n",
        "      sound.export(file, format=\"wav\")\n",
        "\n",
        "      if sound.duration_seconds != 3.0:\n",
        "        print(\"duration error!\")\n",
        "        continue\n",
        "\n",
        "      emotion=emotions[file_name.split(\"-\")[2]]\n",
        "      features = extract_mfcc2d(file)\n",
        "\n",
        "      if x.size == 0:\n",
        "        features = features.reshape(1, features.shape[0], features.shape[1], features.shape[2])\n",
        "        x = features\n",
        "      else:\n",
        "        features = features.reshape(1, features.shape[0], features.shape[1], features.shape[2])\n",
        "        x = np.vstack((x, features))\n",
        "\n",
        "      print(\"This is x.shape: \", x.shape)\n",
        "      y.append(emotion)\n",
        "      \n",
        "    except:\n",
        "      print(\"decoding error\")\n",
        "      continue\n",
        "    \n",
        "  try:\n",
        "    temp = np.array(x)  \n",
        "    print(\"This is final np.array(x).shape: \", temp.shape)\n",
        "  except:\n",
        "    print(\"fail to np.array(x).shape\")\n",
        "    return x, y, x, y\n",
        "\n",
        "  return train_test_split(np.array(x), y, test_size=test_size, random_state=9)"
      ],
      "metadata": {
        "id": "l_Y55moVeTgq"
      },
      "execution_count": null,
      "outputs": []
    },
    {
      "cell_type": "markdown",
      "source": [
        "# train test load"
      ],
      "metadata": {
        "id": "dJzRUX4bPIc_"
      }
    },
    {
      "cell_type": "code",
      "source": [
        "x_train,x_test,y_train,y_test=load_data(test_size=0.25) # 7min 25sec"
      ],
      "metadata": {
        "id": "27yCSGr6rcQq"
      },
      "execution_count": null,
      "outputs": []
    },
    {
      "cell_type": "code",
      "source": [
        "print(x_train.shape)\n",
        "print(x_test.shape)\n",
        "print(len(y_train))\n",
        "print(len(y_test))"
      ],
      "metadata": {
        "id": "SZC2VrSGiBFF"
      },
      "execution_count": null,
      "outputs": []
    },
    {
      "cell_type": "markdown",
      "source": [
        "1. mfcc + melSpectrogram 1d (mean)\n",
        "- x_train.shape : (1072, 168) \n",
        "- x_test.shape: (358, 168)\n",
        "- y_train.shape : list. len 1072\n",
        "- y_test.shape: : list. len 358"
      ],
      "metadata": {
        "id": "mNVSBkEl1M4L"
      }
    },
    {
      "cell_type": "code",
      "source": [
        "x_train_mfcc1d, x_test_mfcc1d, y_train_mfcc1d, y_test_mfcc1d = load_data_mfcc1d(test_size=0.25, feature = 'mfcc', plot_mel = False) # 25sec"
      ],
      "metadata": {
        "id": "Ra8pQCAn46Mj"
      },
      "execution_count": null,
      "outputs": []
    },
    {
      "cell_type": "markdown",
      "source": [
        "2. mfcc 1d (1 data decoding error)\n",
        "- x_train_mfcc1d.shape : (1074, 40) \n",
        "- x_test_mfcc1d.shape : (359, 40)\n",
        "- y_train_mfcc1d: list. len 1074\n",
        "- y_test_mfcc1d: list. len 359  "
      ],
      "metadata": {
        "id": "kV-vfNh1_ufr"
      }
    },
    {
      "cell_type": "code",
      "source": [
        "print(f'Features extracted (mfcc): {x_train_mfcc1d.shape[1]}')"
      ],
      "metadata": {
        "id": "YNqhmqREri2b"
      },
      "execution_count": null,
      "outputs": []
    },
    {
      "cell_type": "code",
      "source": [
        "x_train_mel2d, x_test_mel2d, y_train_mel2d, y_test_mel2d = load_data_mel2d(test_size = 0.25) # 7min 10sec"
      ],
      "metadata": {
        "id": "tie2t2kijOkd"
      },
      "execution_count": null,
      "outputs": []
    },
    {
      "cell_type": "code",
      "source": [
        "print(x_train_mel2d.shape)\n",
        "print(x_test_mel2d.shape)\n",
        "print(len(y_train_mel2d))\n",
        "print(len(y_test_mel2d))"
      ],
      "metadata": {
        "id": "nVSQ_v6RmkRR"
      },
      "execution_count": null,
      "outputs": []
    },
    {
      "cell_type": "markdown",
      "source": [
        "3. mel spectogram 2d\n",
        "- x_train_mel2d.shape: (1070, 128, 469, 1)\n",
        "- x_test_mel2d.shape: (357, 128, 469, 1)\n",
        "- y_train_mel2d: list. len 1070\n",
        "- y_test_mel2d: list. len 357"
      ],
      "metadata": {
        "id": "x4g37h6AmyBs"
      }
    },
    {
      "cell_type": "code",
      "source": [
        "x_train_mel1d, x_test_mel1d, y_train_mel1d, y_test_mel1d = load_data_mel1d(test_size=0.25, feature = 'mel', plot_mel = False) # 6 min"
      ],
      "metadata": {
        "id": "vmx75G7wGiXq"
      },
      "execution_count": null,
      "outputs": []
    },
    {
      "cell_type": "code",
      "source": [
        "print(x_train_mel1d.shape)\n",
        "print(x_test_mel1d.shape)\n",
        "print(len(y_train_mel1d))\n",
        "print(len(y_test_mel1d))"
      ],
      "metadata": {
        "id": "cFe-G30RX0jE"
      },
      "execution_count": null,
      "outputs": []
    },
    {
      "cell_type": "markdown",
      "source": [
        "4. mel spectogram 1d (flatten)\n",
        "- x_train_mel1d.shape: (1072, 36096)\n",
        "- x_test_mel1d.shape: (358, 36096)\n",
        "- y_train_mel1d: list. len 1072\n",
        "- y_test_mel1d: list. len 358"
      ],
      "metadata": {
        "id": "nyExVQT3_rBh"
      }
    },
    {
      "cell_type": "code",
      "source": [
        "x_train_mel1d_mean, x_test_mel1d_mean, y_train_mel1d_mean, y_test_mel1d_mean = load_data(test_size=0.25)"
      ],
      "metadata": {
        "id": "PdwJwq-GFXcW"
      },
      "execution_count": null,
      "outputs": []
    },
    {
      "cell_type": "code",
      "source": [
        "print(x_train_mel1d_mean.shape)\n",
        "print(x_test_mel1d_mean.shape)\n",
        "print(len(y_train_mel1d_mean))\n",
        "print(len(y_test_mel1d_mean))"
      ],
      "metadata": {
        "colab": {
          "base_uri": "https://localhost:8080/"
        },
        "id": "DxqbnHJOFynS",
        "outputId": "f183b5a7-46b2-4b78-8dc2-d6170c88fc20"
      },
      "execution_count": null,
      "outputs": [
        {
          "output_type": "stream",
          "name": "stdout",
          "text": [
            "(1072, 128)\n",
            "(358, 128)\n",
            "1072\n",
            "358\n"
          ]
        }
      ]
    },
    {
      "cell_type": "markdown",
      "source": [
        "5. mel 1d (mean)\n",
        "- x_train_mel1d_mean.shape: (1072, 128)\n",
        "- x_test_mel1d_mean.shape: (358, 128)\n",
        "- y_train_mel1d_mean.shape: (1072, 128)\n",
        "- y_test_mel1d_mean.shape: (358, 128)\n"
      ],
      "metadata": {
        "id": "YF7vVfu0HkCX"
      }
    },
    {
      "cell_type": "code",
      "source": [
        "x_train_mfcc2d, x_test_mfcc2d, y_train_mfcc2d, y_test_mfcc2d = load_data_mfcc2d(test_size=0.25)"
      ],
      "metadata": {
        "id": "iOYEPIKye5Ou"
      },
      "execution_count": null,
      "outputs": []
    },
    {
      "cell_type": "code",
      "source": [
        "print(x_train_mfcc2d.shape)\n",
        "print(x_test_mfcc2d.shape)\n",
        "print(len(y_train_mfcc2d))\n",
        "print(len(y_test_mfcc2d))"
      ],
      "metadata": {
        "colab": {
          "base_uri": "https://localhost:8080/"
        },
        "id": "ZQmBP85phyFX",
        "outputId": "ad177572-7156-4f10-9fba-38b76e654685"
      },
      "execution_count": null,
      "outputs": [
        {
          "output_type": "stream",
          "name": "stdout",
          "text": [
            "(1072, 40, 282, 1)\n",
            "(358, 40, 282, 1)\n",
            "1072\n",
            "358\n"
          ]
        }
      ]
    },
    {
      "cell_type": "markdown",
      "source": [
        "6. mfcc 2d\n",
        "- x_train_mfcc2d.shape: (1072, 40, 282, 1)\n",
        "- x_test_mfcc2d.shape: (358, 40, 282, 1)\n",
        "- y_train_mfcc2d: list. len 1072\n",
        "- y_test_mfcc2d: list. len 358"
      ],
      "metadata": {
        "id": "cqCmrzdxfC-n"
      }
    },
    {
      "cell_type": "markdown",
      "source": [
        "# MLP (mffc & mel 1d, mean)\n",
        "- accuracy: 50.56%\n",
        "\n"
      ],
      "metadata": {
        "id": "rv0WCkm5iOx0"
      }
    },
    {
      "cell_type": "code",
      "source": [
        "# Initialize the Multi Layer Perceptron Classifier\n",
        "model=MLPClassifier(alpha=0.01, batch_size=256, epsilon=1e-08, hidden_layer_sizes=(300,), learning_rate='adaptive', max_iter=500)"
      ],
      "metadata": {
        "id": "P-ylQi2yiVIS"
      },
      "execution_count": null,
      "outputs": []
    },
    {
      "cell_type": "code",
      "source": [
        "# Train the model\n",
        "clf = model.fit(x_train, y_train) # 2 sec"
      ],
      "metadata": {
        "id": "3LODnEEziVIT"
      },
      "execution_count": null,
      "outputs": []
    },
    {
      "cell_type": "code",
      "source": [
        "# Predict for the test set\n",
        "y_pred = model.predict(x_test)"
      ],
      "metadata": {
        "id": "kCIAnLFiiVIT"
      },
      "execution_count": null,
      "outputs": []
    },
    {
      "cell_type": "code",
      "source": [
        "# Calculate the accuracy of our model\n",
        "accuracy = accuracy_score(y_true=y_test, y_pred=y_pred)\n",
        "# Print the accuracy\n",
        "print(\"Accuracy: {:.2f}%\".format(accuracy*100))"
      ],
      "metadata": {
        "colab": {
          "base_uri": "https://localhost:8080/"
        },
        "outputId": "08990811-494c-4abd-f2f4-e54a90303cdf",
        "id": "Dv8f7ifDiVIT"
      },
      "execution_count": null,
      "outputs": [
        {
          "output_type": "stream",
          "name": "stdout",
          "text": [
            "Accuracy: 50.56%\n"
          ]
        }
      ]
    },
    {
      "cell_type": "markdown",
      "source": [
        "# MLP (mfcc 1d, mean)\n",
        "- accuracy 44.01%"
      ],
      "metadata": {
        "id": "e3iwRSp7PsI-"
      }
    },
    {
      "cell_type": "code",
      "source": [
        "# Initialize the Multi Layer Perceptron Classifier\n",
        "model=MLPClassifier(alpha=0.01, batch_size=256, epsilon=1e-08, hidden_layer_sizes=(300,), learning_rate='adaptive', max_iter=500)"
      ],
      "metadata": {
        "id": "c4C0t1_-rlGx"
      },
      "execution_count": null,
      "outputs": []
    },
    {
      "cell_type": "code",
      "source": [
        "# Train the model\n",
        "clf = model.fit(x_train_mfcc1d,y_train_mfcc1d) # 1 sec"
      ],
      "metadata": {
        "id": "jC5uT6dWrs6L"
      },
      "execution_count": null,
      "outputs": []
    },
    {
      "cell_type": "code",
      "source": [
        "# Predict for the test set\n",
        "y_pred_mfcc1d=model.predict(x_test_mfcc1d)"
      ],
      "metadata": {
        "id": "WQ4azwWUr2i8"
      },
      "execution_count": null,
      "outputs": []
    },
    {
      "cell_type": "code",
      "source": [
        "# Calculate the accuracy of our model\n",
        "accuracy=accuracy_score(y_true=y_test_mfcc1d, y_pred=y_pred_mfcc1d)\n",
        "# Print the accuracy\n",
        "print(\"Accuracy: {:.2f}%\".format(accuracy*100))"
      ],
      "metadata": {
        "colab": {
          "base_uri": "https://localhost:8080/"
        },
        "id": "2kFQSunur6aw",
        "outputId": "fa0be389-25b4-421f-b4c1-b859ec145d03"
      },
      "execution_count": null,
      "outputs": [
        {
          "output_type": "stream",
          "name": "stdout",
          "text": [
            "Accuracy: 43.02%\n"
          ]
        }
      ]
    },
    {
      "cell_type": "markdown",
      "source": [
        "## confusion matrix, classification report (debugging)"
      ],
      "metadata": {
        "id": "UqmRqlRsQhF4"
      }
    },
    {
      "cell_type": "code",
      "source": [
        "confusion_matrix(y_true = y_test_mfcc, y_pred = y_pred_mfcc)"
      ],
      "metadata": {
        "colab": {
          "base_uri": "https://localhost:8080/"
        },
        "id": "gld2C3QbQImW",
        "outputId": "c10d4537-3b59-4d1e-8acb-6a7a7d7767df"
      },
      "execution_count": null,
      "outputs": [
        {
          "output_type": "execute_result",
          "data": {
            "text/plain": [
              "array([[32,  2,  2,  0,  4,  0,  1,  2],\n",
              "       [ 0, 39,  1,  0,  2,  0,  2,  0],\n",
              "       [10,  8, 15,  1, 17,  1,  4,  2],\n",
              "       [ 5,  3,  0, 19, 12,  0,  6,  2],\n",
              "       [ 6,  4,  0,  2, 26,  0,  4,  0],\n",
              "       [ 3, 17,  0,  0,  2,  0,  5,  1],\n",
              "       [ 4, 17,  0,  2, 11,  0, 13,  2],\n",
              "       [ 6,  3,  2,  2, 17,  0,  4, 14]])"
            ]
          },
          "metadata": {},
          "execution_count": 147
        }
      ]
    },
    {
      "cell_type": "code",
      "source": [
        "target_names={'neutral', 'calm', 'happy', 'sad', 'angry', 'fearful', 'disgust', 'surprised'}"
      ],
      "metadata": {
        "id": "wMhYjeTvQ5hN"
      },
      "execution_count": null,
      "outputs": []
    },
    {
      "cell_type": "code",
      "source": [
        "print(classification_report(y_true = y_test_mfcc, y_pred = y_pred_mfcc, target_names=target_names))"
      ],
      "metadata": {
        "colab": {
          "base_uri": "https://localhost:8080/"
        },
        "id": "pfsUZ8pTQoqc",
        "outputId": "46d6ff61-5b66-4449-c1a0-1199ef9d76f4"
      },
      "execution_count": null,
      "outputs": [
        {
          "output_type": "stream",
          "name": "stdout",
          "text": [
            "              precision    recall  f1-score   support\n",
            "\n",
            "     fearful       0.48      0.74      0.59        43\n",
            "       happy       0.42      0.89      0.57        44\n",
            "   surprised       0.75      0.26      0.38        58\n",
            "     disgust       0.73      0.40      0.52        47\n",
            "         sad       0.29      0.62      0.39        42\n",
            "       angry       0.00      0.00      0.00        28\n",
            "     neutral       0.33      0.27      0.30        49\n",
            "        calm       0.61      0.29      0.39        48\n",
            "\n",
            "    accuracy                           0.44       359\n",
            "   macro avg       0.45      0.43      0.39       359\n",
            "weighted avg       0.49      0.44      0.41       359\n",
            "\n"
          ]
        }
      ]
    },
    {
      "cell_type": "code",
      "source": [
        "from sklearn.metrics import plot_confusion_matrix\n",
        "\n",
        "plot_confusion_matrix(clf, x_test_mfcc, y_test_mfcc, normalize = 'true')  \n",
        "plt.show()"
      ],
      "metadata": {
        "colab": {
          "base_uri": "https://localhost:8080/",
          "height": 333
        },
        "id": "v6scWzBRRB6H",
        "outputId": "5034188e-28f1-4f58-b200-21aceeaa497c"
      },
      "execution_count": null,
      "outputs": [
        {
          "output_type": "stream",
          "name": "stderr",
          "text": [
            "/usr/local/lib/python3.7/dist-packages/sklearn/utils/deprecation.py:87: FutureWarning: Function plot_confusion_matrix is deprecated; Function `plot_confusion_matrix` is deprecated in 1.0 and will be removed in 1.2. Use one of the class methods: ConfusionMatrixDisplay.from_predictions or ConfusionMatrixDisplay.from_estimator.\n",
            "  warnings.warn(msg, category=FutureWarning)\n"
          ]
        },
        {
          "output_type": "display_data",
          "data": {
            "image/png": "[encoded data removed]",
            "text/plain": [
              "<Figure size 432x288 with 2 Axes>"
            ]
          },
          "metadata": {
            "needs_background": "light"
          }
        }
      ]
    },
    {
      "cell_type": "markdown",
      "source": [
        "# MLP (mel spectrogram 1d, mean)\n",
        "- accuracy: 39.4%"
      ],
      "metadata": {
        "id": "5pzvEoOwisFM"
      }
    },
    {
      "cell_type": "code",
      "source": [
        "# Initialize the Multi Layer Perceptron Classifier\n",
        "model = MLPClassifier(alpha=0.01, batch_size=256, epsilon=1e-08, hidden_layer_sizes=(300,), learning_rate='adaptive', max_iter=500)"
      ],
      "metadata": {
        "id": "-z8LJ84OH11_"
      },
      "execution_count": null,
      "outputs": []
    },
    {
      "cell_type": "code",
      "source": [
        "# Train the model\n",
        "clf = model.fit(x_train_mel1d_mean, y_train_mel1d_mean) # 15sec"
      ],
      "metadata": {
        "id": "vilsGgABH12A"
      },
      "execution_count": null,
      "outputs": []
    },
    {
      "cell_type": "code",
      "source": [
        "# Predict for the test set\n",
        "y_pred_mel1d_mean = model.predict(x_test_mel1d_mean)"
      ],
      "metadata": {
        "id": "sPbjS4kSH12A"
      },
      "execution_count": null,
      "outputs": []
    },
    {
      "cell_type": "code",
      "source": [
        "# Calculate the accuracy of our model\n",
        "accuracy=accuracy_score(y_true=y_test_mel1d_mean, y_pred=y_pred_mel1d_mean)\n",
        "# Print the accuracy\n",
        "print(\"Accuracy: {:.2f}%\".format(accuracy*100))"
      ],
      "metadata": {
        "colab": {
          "base_uri": "https://localhost:8080/"
        },
        "outputId": "a0697b72-adac-4a53-e769-182cc336d04e",
        "id": "NdkEN4VqH12B"
      },
      "execution_count": null,
      "outputs": [
        {
          "output_type": "stream",
          "name": "stdout",
          "text": [
            "Accuracy: 39.39%\n"
          ]
        }
      ]
    },
    {
      "cell_type": "markdown",
      "source": [
        "# MLP (mel spectrogram 1d, flatten) \n",
        "- accuracy : 38.55%"
      ],
      "metadata": {
        "id": "Bhvlugc-pO_x"
      }
    },
    {
      "cell_type": "code",
      "source": [
        "# Initialize the Multi Layer Perceptron Classifier\n",
        "model = MLPClassifier(alpha=0.01, batch_size=256, epsilon=1e-08, hidden_layer_sizes=(300,), learning_rate='adaptive', max_iter=500)"
      ],
      "metadata": {
        "id": "fvyCHZmppVKi"
      },
      "execution_count": null,
      "outputs": []
    },
    {
      "cell_type": "code",
      "source": [
        "# Train the model\n",
        "clf = model.fit(x_train_mel1d, y_train_mel1d) # 3min 40 sec"
      ],
      "metadata": {
        "id": "2DWc4WVjpWfI"
      },
      "execution_count": null,
      "outputs": []
    },
    {
      "cell_type": "code",
      "source": [
        "# Predict for the test set\n",
        "y_pred_mel1d = model.predict(x_test_mel1d)"
      ],
      "metadata": {
        "id": "cjiPT5DypY6I"
      },
      "execution_count": null,
      "outputs": []
    },
    {
      "cell_type": "code",
      "source": [
        "# Calculate the accuracy of our model\n",
        "accuracy=accuracy_score(y_true=y_test_mel1d, y_pred=y_pred_mel1d)\n",
        "# Print the accuracy\n",
        "print(\"Accuracy: {:.2f}%\".format(accuracy*100))"
      ],
      "metadata": {
        "colab": {
          "base_uri": "https://localhost:8080/"
        },
        "id": "swvapSdepasV",
        "outputId": "7e391039-5858-4290-8ff9-a2f56015fce3"
      },
      "execution_count": null,
      "outputs": [
        {
          "output_type": "stream",
          "name": "stdout",
          "text": [
            "Accuracy: 38.55%\n"
          ]
        }
      ]
    },
    {
      "cell_type": "markdown",
      "source": [
        "# CNN conv model (mel 2d)\n",
        "- accuracy 67.04%"
      ],
      "metadata": {
        "id": "C-2nb5dcq4ii"
      }
    },
    {
      "cell_type": "code",
      "source": [
        "import tensorflow.keras.layers as tfl"
      ],
      "metadata": {
        "id": "BgAJLNN6uDPa"
      },
      "execution_count": null,
      "outputs": []
    },
    {
      "cell_type": "code",
      "source": [
        "# one hot encode the target \n",
        "lb = LabelEncoder()\n",
        "y_train_mel2d_onehot = np_utils.to_categorical(lb.fit_transform(y_train_mel2d))\n",
        "y_test_mel2d_onehot = np_utils.to_categorical(lb.fit_transform(y_test_mel2d))"
      ],
      "metadata": {
        "id": "upL7wnj4i7cL"
      },
      "execution_count": null,
      "outputs": []
    },
    {
      "cell_type": "code",
      "source": [
        "print(y_train_mel2d_onehot)\n",
        "print(y_test_mel2d_onehot)\n",
        "print(y_train_mel2d_onehot.shape)\n",
        "print(y_test_mel2d_onehot.shape)"
      ],
      "metadata": {
        "id": "HIk20Leji7cL"
      },
      "execution_count": null,
      "outputs": []
    },
    {
      "cell_type": "code",
      "source": [
        "def convolutional_model(input_shape):\n",
        "    input_img = tf.keras.Input(shape=input_shape)\n",
        "    ## CONV2D: 8 filters 4x4, stride of 1, padding 'SAME'\n",
        "    Z1 = tfl.Conv2D(8, (4, 4), strides = (1, 1), padding = 'SAME')(input_img)\n",
        "    ## RELU\n",
        "    A1 = tfl.ReLU()(Z1)\n",
        "    ## MAXPOOL: window 8x8, stride 8, padding 'SAME'\n",
        "    P1 = tfl.MaxPool2D(pool_size=(8, 8), strides=8, padding = \"SAME\")(A1)\n",
        "    ## CONV2D: 16 filters 2x2, stride 1, padding 'SAME'\n",
        "    Z2 = tfl.Conv2D(16, (2, 2), strides = (1, 1), padding = 'SAME')(P1)\n",
        "    ## RELU\n",
        "    A2 = tfl.ReLU()(Z2)\n",
        "    ## MAXPOOL: window 4x4, stride 4, padding 'SAME'\n",
        "    P2 = tfl.MaxPool2D((4, 4), (4, 4), padding= 'SAME')(A2)\n",
        "    ## FLATTEN\n",
        "    F = tfl.Flatten()(P2)\n",
        "    ## Dense layer\n",
        "    ## 8 neurons in output layer. \n",
        "    outputs = tfl.Dense(8, activation = 'softmax')(F)\n",
        "    \n",
        "    model = tf.keras.Model(inputs=input_img, outputs=outputs)\n",
        "    return model"
      ],
      "metadata": {
        "id": "xrfqDvsAuNY6"
      },
      "execution_count": null,
      "outputs": []
    },
    {
      "cell_type": "code",
      "source": [
        "conv_model = convolutional_model((128, 469, 1)) # input shape(2, 3, 4)\n",
        "conv_model.compile(optimizer='adam',\n",
        "                  loss='categorical_crossentropy',\n",
        "                  metrics=['accuracy'])\n",
        "conv_model.summary()"
      ],
      "metadata": {
        "colab": {
          "base_uri": "https://localhost:8080/"
        },
        "id": "73_Lrb__uOhT",
        "outputId": "9cd85a93-d96d-49b4-a340-524ac8626dbc"
      },
      "execution_count": null,
      "outputs": [
        {
          "output_type": "stream",
          "name": "stdout",
          "text": [
            "Model: \"model_1\"\n",
            "_________________________________________________________________\n",
            " Layer (type)                Output Shape              Param #   \n",
            "=================================================================\n",
            " input_2 (InputLayer)        [(None, 128, 469, 1)]     0         \n",
            "                                                                 \n",
            " conv2d_4 (Conv2D)           (None, 128, 469, 8)       136       \n",
            "                                                                 \n",
            " re_lu (ReLU)                (None, 128, 469, 8)       0         \n",
            "                                                                 \n",
            " max_pooling2d_4 (MaxPooling  (None, 16, 59, 8)        0         \n",
            " 2D)                                                             \n",
            "                                                                 \n",
            " conv2d_5 (Conv2D)           (None, 16, 59, 16)        528       \n",
            "                                                                 \n",
            " re_lu_1 (ReLU)              (None, 16, 59, 16)        0         \n",
            "                                                                 \n",
            " max_pooling2d_5 (MaxPooling  (None, 4, 15, 16)        0         \n",
            " 2D)                                                             \n",
            "                                                                 \n",
            " flatten_1 (Flatten)         (None, 960)               0         \n",
            "                                                                 \n",
            " dense_2 (Dense)             (None, 8)                 7688      \n",
            "                                                                 \n",
            "=================================================================\n",
            "Total params: 8,352\n",
            "Trainable params: 8,352\n",
            "Non-trainable params: 0\n",
            "_________________________________________________________________\n"
          ]
        }
      ]
    },
    {
      "cell_type": "code",
      "source": [
        "history = conv_model.fit(x_test_mel2d, y_test_mel2d_onehot, validation_data=(x_test_mel2d, y_test_mel2d_onehot), batch_size = 16, epochs=20)"
      ],
      "metadata": {
        "colab": {
          "base_uri": "https://localhost:8080/"
        },
        "id": "y3Gnmqzmzlw3",
        "outputId": "7964ecf3-a0fc-45ab-ee11-77b83645eb7f"
      },
      "execution_count": null,
      "outputs": [
        {
          "output_type": "stream",
          "name": "stdout",
          "text": [
            "Epoch 1/20\n",
            "23/23 [==============================] - 1s 37ms/step - loss: 1.1336 - accuracy: 0.6034 - val_loss: 1.1248 - val_accuracy: 0.5978\n",
            "Epoch 2/20\n",
            "23/23 [==============================] - 1s 35ms/step - loss: 1.1220 - accuracy: 0.5978 - val_loss: 1.1130 - val_accuracy: 0.6145\n",
            "Epoch 3/20\n",
            "23/23 [==============================] - 1s 33ms/step - loss: 1.1121 - accuracy: 0.6201 - val_loss: 1.1029 - val_accuracy: 0.6285\n",
            "Epoch 4/20\n",
            "23/23 [==============================] - 1s 30ms/step - loss: 1.1023 - accuracy: 0.6257 - val_loss: 1.0947 - val_accuracy: 0.6285\n",
            "Epoch 5/20\n",
            "23/23 [==============================] - 1s 33ms/step - loss: 1.0941 - accuracy: 0.6313 - val_loss: 1.0869 - val_accuracy: 0.6341\n",
            "Epoch 6/20\n",
            "23/23 [==============================] - 1s 29ms/step - loss: 1.0861 - accuracy: 0.6313 - val_loss: 1.0797 - val_accuracy: 0.6313\n",
            "Epoch 7/20\n",
            "23/23 [==============================] - 1s 33ms/step - loss: 1.0790 - accuracy: 0.6369 - val_loss: 1.0722 - val_accuracy: 0.6397\n",
            "Epoch 8/20\n",
            "23/23 [==============================] - 1s 33ms/step - loss: 1.0734 - accuracy: 0.6313 - val_loss: 1.0653 - val_accuracy: 0.6369\n",
            "Epoch 9/20\n",
            "23/23 [==============================] - 1s 32ms/step - loss: 1.0656 - accuracy: 0.6480 - val_loss: 1.0584 - val_accuracy: 0.6480\n",
            "Epoch 10/20\n",
            "23/23 [==============================] - 1s 33ms/step - loss: 1.0583 - accuracy: 0.6425 - val_loss: 1.0526 - val_accuracy: 0.6453\n",
            "Epoch 11/20\n",
            "23/23 [==============================] - 1s 36ms/step - loss: 1.0538 - accuracy: 0.6425 - val_loss: 1.0460 - val_accuracy: 0.6508\n",
            "Epoch 12/20\n",
            "23/23 [==============================] - 1s 23ms/step - loss: 1.0485 - accuracy: 0.6425 - val_loss: 1.0401 - val_accuracy: 0.6536\n",
            "Epoch 13/20\n",
            "23/23 [==============================] - 1s 29ms/step - loss: 1.0398 - accuracy: 0.6453 - val_loss: 1.0343 - val_accuracy: 0.6564\n",
            "Epoch 14/20\n",
            "23/23 [==============================] - 1s 29ms/step - loss: 1.0352 - accuracy: 0.6480 - val_loss: 1.0284 - val_accuracy: 0.6536\n",
            "Epoch 15/20\n",
            "23/23 [==============================] - 0s 21ms/step - loss: 1.0287 - accuracy: 0.6648 - val_loss: 1.0221 - val_accuracy: 0.6732\n",
            "Epoch 16/20\n",
            "23/23 [==============================] - 1s 28ms/step - loss: 1.0228 - accuracy: 0.6704 - val_loss: 1.0169 - val_accuracy: 0.6676\n",
            "Epoch 17/20\n",
            "23/23 [==============================] - 0s 21ms/step - loss: 1.0191 - accuracy: 0.6620 - val_loss: 1.0120 - val_accuracy: 0.6648\n",
            "Epoch 18/20\n",
            "23/23 [==============================] - 1s 28ms/step - loss: 1.0129 - accuracy: 0.6676 - val_loss: 1.0063 - val_accuracy: 0.6732\n",
            "Epoch 19/20\n",
            "23/23 [==============================] - 1s 28ms/step - loss: 1.0074 - accuracy: 0.6648 - val_loss: 1.0013 - val_accuracy: 0.6760\n",
            "Epoch 20/20\n",
            "23/23 [==============================] - 0s 20ms/step - loss: 1.0024 - accuracy: 0.6732 - val_loss: 0.9954 - val_accuracy: 0.6704\n"
          ]
        }
      ]
    },
    {
      "cell_type": "code",
      "source": [
        "temp = conv_model.evaluate(x_test_mel2d, y_test_mel2d_onehot)\n",
        "# accuracy 67.04"
      ],
      "metadata": {
        "colab": {
          "base_uri": "https://localhost:8080/"
        },
        "id": "BicUS0rnqdzK",
        "outputId": "9d5792dc-4251-49f9-ded8-67a55dd032cc"
      },
      "execution_count": null,
      "outputs": [
        {
          "output_type": "stream",
          "name": "stdout",
          "text": [
            "12/12 [==============================] - 0s 15ms/step - loss: 0.9954 - accuracy: 0.6704\n"
          ]
        }
      ]
    },
    {
      "cell_type": "markdown",
      "source": [
        "# CNN conv model (mfcc 2d)\n",
        "- accuracy: 63.41%"
      ],
      "metadata": {
        "id": "EdQOBIvcWpCu"
      }
    },
    {
      "cell_type": "code",
      "source": [
        "# one hot encode the target \n",
        "lb = LabelEncoder()\n",
        "y_train_mfcc2d_onehot = np_utils.to_categorical(lb.fit_transform(y_train_mfcc2d))\n",
        "y_test_mfcc2d_onehot = np_utils.to_categorical(lb.fit_transform(y_test_mfcc2d))"
      ],
      "metadata": {
        "id": "VUnpnB9XjBK4"
      },
      "execution_count": null,
      "outputs": []
    },
    {
      "cell_type": "code",
      "source": [
        "# print(y_train_mfcc2d_onehot)\n",
        "# print(y_test_mfcc2d_onehot)\n",
        "print(y_train_mfcc2d_onehot.shape)\n",
        "print(y_test_mfcc2d_onehot.shape)"
      ],
      "metadata": {
        "colab": {
          "base_uri": "https://localhost:8080/"
        },
        "id": "t9kZkQv5jBK5",
        "outputId": "435af427-b992-4a7a-f66e-3b5ddedf0ed9"
      },
      "execution_count": null,
      "outputs": [
        {
          "output_type": "stream",
          "name": "stdout",
          "text": [
            "(1072, 8)\n",
            "(358, 8)\n"
          ]
        }
      ]
    },
    {
      "cell_type": "code",
      "source": [
        "conv_model = convolutional_model((x_train_mfcc2d.shape[1], x_train_mfcc2d.shape[2], x_train_mfcc2d.shape[3]))\n",
        "conv_model.compile(optimizer='adam',\n",
        "                  loss='categorical_crossentropy',\n",
        "                  metrics=['accuracy'])\n",
        "conv_model.summary()"
      ],
      "metadata": {
        "colab": {
          "base_uri": "https://localhost:8080/"
        },
        "outputId": "3c28edd0-c4fa-4e12-8263-7adcfba6b029",
        "id": "G11bPvT5ieQw"
      },
      "execution_count": null,
      "outputs": [
        {
          "output_type": "stream",
          "name": "stdout",
          "text": [
            "Model: \"model\"\n",
            "_________________________________________________________________\n",
            " Layer (type)                Output Shape              Param #   \n",
            "=================================================================\n",
            " input_1 (InputLayer)        [(None, 40, 282, 1)]      0         \n",
            "                                                                 \n",
            " conv2d (Conv2D)             (None, 40, 282, 8)        136       \n",
            "                                                                 \n",
            " re_lu (ReLU)                (None, 40, 282, 8)        0         \n",
            "                                                                 \n",
            " max_pooling2d (MaxPooling2D  (None, 5, 36, 8)         0         \n",
            " )                                                               \n",
            "                                                                 \n",
            " conv2d_1 (Conv2D)           (None, 5, 36, 16)         528       \n",
            "                                                                 \n",
            " re_lu_1 (ReLU)              (None, 5, 36, 16)         0         \n",
            "                                                                 \n",
            " max_pooling2d_1 (MaxPooling  (None, 2, 9, 16)         0         \n",
            " 2D)                                                             \n",
            "                                                                 \n",
            " flatten (Flatten)           (None, 288)               0         \n",
            "                                                                 \n",
            " dense (Dense)               (None, 8)                 2312      \n",
            "                                                                 \n",
            "=================================================================\n",
            "Total params: 2,976\n",
            "Trainable params: 2,976\n",
            "Non-trainable params: 0\n",
            "_________________________________________________________________\n"
          ]
        }
      ]
    },
    {
      "cell_type": "code",
      "source": [
        "history = conv_model.fit(x_test_mfcc2d, y_test_mfcc2d_onehot, validation_data=(x_test_mfcc2d, y_test_mfcc2d_onehot), batch_size = 16, epochs=20)"
      ],
      "metadata": {
        "colab": {
          "base_uri": "https://localhost:8080/"
        },
        "outputId": "fdd5aff9-1f6f-41df-e326-e4ebe2ff1d5f",
        "id": "gotCnQsYieQx"
      },
      "execution_count": null,
      "outputs": [
        {
          "output_type": "stream",
          "name": "stdout",
          "text": [
            "Epoch 1/20\n",
            "23/23 [==============================] - 13s 39ms/step - loss: 18.6043 - accuracy: 0.1285 - val_loss: 8.9621 - val_accuracy: 0.1676\n",
            "Epoch 2/20\n",
            "23/23 [==============================] - 0s 17ms/step - loss: 5.9060 - accuracy: 0.1620 - val_loss: 4.4855 - val_accuracy: 0.2011\n",
            "Epoch 3/20\n",
            "23/23 [==============================] - 0s 17ms/step - loss: 3.9778 - accuracy: 0.1927 - val_loss: 3.2965 - val_accuracy: 0.2039\n",
            "Epoch 4/20\n",
            "23/23 [==============================] - 0s 16ms/step - loss: 3.1236 - accuracy: 0.2346 - val_loss: 2.8626 - val_accuracy: 0.2542\n",
            "Epoch 5/20\n",
            "23/23 [==============================] - 0s 18ms/step - loss: 2.7206 - accuracy: 0.2654 - val_loss: 2.5511 - val_accuracy: 0.2682\n",
            "Epoch 6/20\n",
            "23/23 [==============================] - 0s 14ms/step - loss: 2.3820 - accuracy: 0.3017 - val_loss: 2.1831 - val_accuracy: 0.3324\n",
            "Epoch 7/20\n",
            "23/23 [==============================] - 0s 14ms/step - loss: 2.1805 - accuracy: 0.2905 - val_loss: 2.1190 - val_accuracy: 0.3659\n",
            "Epoch 8/20\n",
            "23/23 [==============================] - 0s 12ms/step - loss: 2.0321 - accuracy: 0.3408 - val_loss: 1.9176 - val_accuracy: 0.3575\n",
            "Epoch 9/20\n",
            "23/23 [==============================] - 0s 14ms/step - loss: 1.9075 - accuracy: 0.3631 - val_loss: 1.8975 - val_accuracy: 0.3855\n",
            "Epoch 10/20\n",
            "23/23 [==============================] - 0s 14ms/step - loss: 1.8557 - accuracy: 0.4022 - val_loss: 1.6980 - val_accuracy: 0.4358\n",
            "Epoch 11/20\n",
            "23/23 [==============================] - 0s 14ms/step - loss: 1.6932 - accuracy: 0.4134 - val_loss: 1.6041 - val_accuracy: 0.4441\n",
            "Epoch 12/20\n",
            "23/23 [==============================] - 0s 14ms/step - loss: 1.6564 - accuracy: 0.4106 - val_loss: 1.7032 - val_accuracy: 0.4637\n",
            "Epoch 13/20\n",
            "23/23 [==============================] - 0s 11ms/step - loss: 1.6403 - accuracy: 0.4162 - val_loss: 1.5269 - val_accuracy: 0.4749\n",
            "Epoch 14/20\n",
            "23/23 [==============================] - 0s 12ms/step - loss: 1.5768 - accuracy: 0.4944 - val_loss: 1.5269 - val_accuracy: 0.4553\n",
            "Epoch 15/20\n",
            "23/23 [==============================] - 0s 14ms/step - loss: 1.5885 - accuracy: 0.4413 - val_loss: 1.4624 - val_accuracy: 0.4944\n",
            "Epoch 16/20\n",
            "23/23 [==============================] - 0s 14ms/step - loss: 1.5234 - accuracy: 0.4944 - val_loss: 1.4326 - val_accuracy: 0.4888\n",
            "Epoch 17/20\n",
            "23/23 [==============================] - 0s 11ms/step - loss: 1.3755 - accuracy: 0.5196 - val_loss: 1.2512 - val_accuracy: 0.5782\n",
            "Epoch 18/20\n",
            "23/23 [==============================] - 0s 14ms/step - loss: 1.2919 - accuracy: 0.5698 - val_loss: 1.1868 - val_accuracy: 0.6034\n",
            "Epoch 19/20\n",
            "23/23 [==============================] - 0s 14ms/step - loss: 1.2661 - accuracy: 0.5670 - val_loss: 1.1839 - val_accuracy: 0.5838\n",
            "Epoch 20/20\n",
            "23/23 [==============================] - 0s 11ms/step - loss: 1.2526 - accuracy: 0.5782 - val_loss: 1.0926 - val_accuracy: 0.6341\n"
          ]
        }
      ]
    },
    {
      "cell_type": "code",
      "source": [
        "temp = conv_model.evaluate(x_test_mfcc2d, y_test_mfcc2d_onehot)"
      ],
      "metadata": {
        "colab": {
          "base_uri": "https://localhost:8080/"
        },
        "outputId": "ac744e11-9f71-4d2d-e3f2-0ef8f7e7dd78",
        "id": "N0T7eJPxieQx"
      },
      "execution_count": null,
      "outputs": [
        {
          "output_type": "stream",
          "name": "stdout",
          "text": [
            "12/12 [==============================] - 0s 7ms/step - loss: 1.0926 - accuracy: 0.6341\n"
          ]
        }
      ]
    },
    {
      "cell_type": "markdown",
      "source": [
        "# CNN other model (something.. wrong.. debugging)\n",
        "- accuracy 17.6%"
      ],
      "metadata": {
        "id": "jZlYeTmBiAvo"
      }
    },
    {
      "cell_type": "code",
      "source": [
        "# emotions_list = ['neutral', 'calm', 'happy', 'sad', 'angry', 'fearful', 'disgust', 'surprised']\n",
        "\n",
        "# y_train_mel2d = np.array(y_train_mel2d)\n",
        "\n",
        "# for i, emotion in enumerate(emotions_list):\n",
        "#   y_train_mel2d[y_train_mel2d == emotion] = int(i)\n",
        "\n",
        "# print(y_train_mel2d)"
      ],
      "metadata": {
        "id": "XuBbcEN7wTDP"
      },
      "execution_count": null,
      "outputs": []
    },
    {
      "cell_type": "code",
      "source": [
        "# y_train_mel2d = tf.keras.utils.to_categorical(y_train_mel2d, num_classes=8)"
      ],
      "metadata": {
        "id": "qUj3-mXkv1Be"
      },
      "execution_count": null,
      "outputs": []
    },
    {
      "cell_type": "code",
      "source": [
        "# one hot encode the target \n",
        "lb = LabelEncoder()\n",
        "y_train_mel2d_onehot = np_utils.to_categorical(lb.fit_transform(y_train_mel2d))\n",
        "y_test_mel2d_onehot = np_utils.to_categorical(lb.fit_transform(y_test_mel2d))\n",
        "\n",
        "# Normalization as per the standard NN process\n",
        "# mean = np.mean(x_train_mel2d, axis=0)\n",
        "# std = np.std(x_train_mel2d, axis=0)\n",
        "\n",
        "# x_train_mel2d = (x_train_mel2d - mean)/std\n",
        "# x_test_mel2d = (x_test_mel2d - mean)/std"
      ],
      "metadata": {
        "id": "WH356fCWrN86"
      },
      "execution_count": null,
      "outputs": []
    },
    {
      "cell_type": "code",
      "source": [
        "print(y_train_mel2d_onehot)\n",
        "print(y_test_mel2d_onehot)\n",
        "print(y_train_mel2d_onehot.shape)\n",
        "print(y_test_mel2d_onehot.shape)"
      ],
      "metadata": {
        "id": "XRRiUBXRkp5Z"
      },
      "execution_count": null,
      "outputs": []
    },
    {
      "cell_type": "markdown",
      "source": [
        "- y_train_mel2d_onehot.shape : (1072, 8)\n",
        "- y_test_mel2d_onehot.shape: (358, 8)"
      ],
      "metadata": {
        "id": "h5ocXu7hmr6J"
      }
    },
    {
      "cell_type": "code",
      "source": [
        "# similar to VGG19\n",
        "def get_2d_conv_model(n):\n",
        "    ''' Create a standard deep 2D convolutional neural network'''\n",
        "    nclass = 8\n",
        "    inp = Input(shape=(n,469,1))  #2D matrix of 30 MFCC bands by 216 audio length.\n",
        "    x = Convolution2D(32, (4,10), padding=\"same\")(inp)\n",
        "    x = BatchNormalization()(x)\n",
        "    x = Activation(\"relu\")(x)\n",
        "    x = MaxPool2D()(x)\n",
        "    x = Dropout(rate=0.2)(x)\n",
        "    \n",
        "    x = Convolution2D(32, (4,10), padding=\"same\")(x)\n",
        "    x = BatchNormalization()(x)\n",
        "    x = Activation(\"relu\")(x)\n",
        "    x = MaxPool2D()(x)\n",
        "    x = Dropout(rate=0.2)(x)\n",
        "    \n",
        "    x = Convolution2D(32, (4,10), padding=\"same\")(x)\n",
        "    x = BatchNormalization()(x)\n",
        "    x = Activation(\"relu\")(x)\n",
        "    x = MaxPool2D()(x)\n",
        "    x = Dropout(rate=0.2)(x)\n",
        "    \n",
        "    x = Convolution2D(32, (4,10), padding=\"same\")(x)\n",
        "    x = BatchNormalization()(x)\n",
        "    x = Activation(\"relu\")(x)\n",
        "    x = MaxPool2D()(x)\n",
        "    x = Dropout(rate=0.2)(x)\n",
        "    \n",
        "    x = Flatten()(x)\n",
        "    x = Dense(64)(x)\n",
        "    x = Dropout(rate=0.2)(x)\n",
        "    x = BatchNormalization()(x)\n",
        "    x = Activation(\"relu\")(x)\n",
        "    x = Dropout(rate=0.2)(x)\n",
        "    \n",
        "    out = Dense(nclass, activation=softmax)(x)\n",
        "    model = models.Model(inputs=inp, outputs=out)\n",
        "    \n",
        "    # opt = optimizers.Adam(0.001)\n",
        "    opt = tf.keras.optimizers.Adam(0.001)\n",
        "    model.compile(optimizer=opt, loss=losses.categorical_crossentropy, metrics=['acc'])\n",
        "    return model"
      ],
      "metadata": {
        "id": "9KHC8shGgKVc"
      },
      "execution_count": null,
      "outputs": []
    },
    {
      "cell_type": "code",
      "source": [
        "model = get_2d_conv_model(n=x_train_mel2d.shape[1])"
      ],
      "metadata": {
        "id": "wTzjnaysgj_e"
      },
      "execution_count": null,
      "outputs": []
    },
    {
      "cell_type": "code",
      "source": [
        "model.summary()"
      ],
      "metadata": {
        "id": "6rmc5f3xl_Nd"
      },
      "execution_count": null,
      "outputs": []
    },
    {
      "cell_type": "code",
      "source": [
        "model_history = model.fit(x_train_mel2d, y_train_mel2d_onehot, validation_data=(x_test_mel2d, y_test_mel2d_onehot), batch_size = 16, epochs = 20)\n",
        "# , batch_size=16, verbose = 2, epochs=20)"
      ],
      "metadata": {
        "colab": {
          "base_uri": "https://localhost:8080/"
        },
        "id": "WtwqcO1pl8ld",
        "outputId": "eb7475f2-91b1-44dd-d00a-c8acc6167a9e"
      },
      "execution_count": null,
      "outputs": [
        {
          "output_type": "stream",
          "name": "stdout",
          "text": [
            "Epoch 1/20\n",
            "67/67 [==============================] - 11s 131ms/step - loss: 2.0657 - acc: 0.1782 - val_loss: 1.9040 - val_acc: 0.2291\n",
            "Epoch 2/20\n",
            "67/67 [==============================] - 8s 122ms/step - loss: 1.9888 - acc: 0.2239 - val_loss: 1.9076 - val_acc: 0.2346\n",
            "Epoch 3/20\n",
            "67/67 [==============================] - 8s 123ms/step - loss: 1.9643 - acc: 0.2351 - val_loss: 1.9212 - val_acc: 0.2514\n",
            "Epoch 4/20\n",
            "67/67 [==============================] - 8s 123ms/step - loss: 1.8902 - acc: 0.2407 - val_loss: 1.9148 - val_acc: 0.2458\n",
            "Epoch 5/20\n",
            "67/67 [==============================] - 8s 123ms/step - loss: 1.8928 - acc: 0.2556 - val_loss: 1.9770 - val_acc: 0.2011\n",
            "Epoch 6/20\n",
            "67/67 [==============================] - 8s 123ms/step - loss: 1.8628 - acc: 0.2799 - val_loss: 1.9583 - val_acc: 0.2318\n",
            "Epoch 7/20\n",
            "67/67 [==============================] - 8s 124ms/step - loss: 1.8461 - acc: 0.2836 - val_loss: 1.9517 - val_acc: 0.2291\n",
            "Epoch 8/20\n",
            "67/67 [==============================] - 8s 124ms/step - loss: 1.7972 - acc: 0.3153 - val_loss: 2.3121 - val_acc: 0.1788\n",
            "Epoch 9/20\n",
            "67/67 [==============================] - 8s 124ms/step - loss: 1.8107 - acc: 0.3060 - val_loss: 2.1063 - val_acc: 0.2291\n",
            "Epoch 10/20\n",
            "67/67 [==============================] - 8s 124ms/step - loss: 1.7634 - acc: 0.3321 - val_loss: 1.7781 - val_acc: 0.3575\n",
            "Epoch 11/20\n",
            "67/67 [==============================] - 9s 132ms/step - loss: 1.7160 - acc: 0.3386 - val_loss: 1.9271 - val_acc: 0.2821\n",
            "Epoch 12/20\n",
            "67/67 [==============================] - 9s 131ms/step - loss: 1.7009 - acc: 0.3284 - val_loss: 1.8465 - val_acc: 0.2737\n",
            "Epoch 13/20\n",
            "67/67 [==============================] - 8s 126ms/step - loss: 1.6819 - acc: 0.3563 - val_loss: 1.9362 - val_acc: 0.2179\n",
            "Epoch 14/20\n",
            "67/67 [==============================] - 8s 125ms/step - loss: 1.6636 - acc: 0.3722 - val_loss: 1.8304 - val_acc: 0.2570\n",
            "Epoch 15/20\n",
            "67/67 [==============================] - 8s 124ms/step - loss: 1.6518 - acc: 0.3601 - val_loss: 1.7618 - val_acc: 0.2961\n",
            "Epoch 16/20\n",
            "67/67 [==============================] - 8s 124ms/step - loss: 1.6010 - acc: 0.3974 - val_loss: 3.0442 - val_acc: 0.1732\n",
            "Epoch 17/20\n",
            "67/67 [==============================] - 8s 125ms/step - loss: 1.5960 - acc: 0.3647 - val_loss: 2.9353 - val_acc: 0.2095\n",
            "Epoch 18/20\n",
            "67/67 [==============================] - 9s 132ms/step - loss: 1.5798 - acc: 0.3965 - val_loss: 2.0876 - val_acc: 0.2263\n",
            "Epoch 19/20\n",
            "67/67 [==============================] - 8s 125ms/step - loss: 1.5418 - acc: 0.4011 - val_loss: 2.9534 - val_acc: 0.1676\n",
            "Epoch 20/20\n",
            "67/67 [==============================] - 9s 132ms/step - loss: 1.5356 - acc: 0.4123 - val_loss: 2.1608 - val_acc: 0.1760\n"
          ]
        }
      ]
    },
    {
      "cell_type": "code",
      "source": [
        "model.evaluate(x_test_mel2d, y_test_mel2d_onehot)"
      ],
      "metadata": {
        "colab": {
          "base_uri": "https://localhost:8080/"
        },
        "id": "C1U_arEGnO91",
        "outputId": "7d571c42-5718-4dc8-b08b-85ea698b9a90"
      },
      "execution_count": null,
      "outputs": [
        {
          "output_type": "stream",
          "name": "stdout",
          "text": [
            "12/12 [==============================] - 1s 62ms/step - loss: 2.1608 - acc: 0.1760\n"
          ]
        },
        {
          "output_type": "execute_result",
          "data": {
            "text/plain": [
              "[2.1607978343963623, 0.1759776473045349]"
            ]
          },
          "metadata": {},
          "execution_count": 44
        }
      ]
    }
  ]
}
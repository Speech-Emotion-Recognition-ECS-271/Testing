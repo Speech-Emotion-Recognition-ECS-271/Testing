{
  "nbformat": 4,
  "nbformat_minor": 0,
  "metadata": {
    "colab": {
      "name": "ML_model.ipynb",
      "provenance": [],
      "authorship_tag": "ABX9TyNGwMPhseJLjKQkj0HuZj87",
      "include_colab_link": true
    },
    "kernelspec": {
      "name": "python3",
      "display_name": "Python 3"
    },
    "language_info": {
      "name": "python"
    }
  },
  "cells": [
    {
      "cell_type": "markdown",
      "metadata": {
        "id": "view-in-github",
        "colab_type": "text"
      },
      "source": [
        "<a href=\"https://colab.research.google.com/github/ryu0315360/Testing/blob/main/ML_model.ipynb\" target=\"_parent\"><img src=\"https://colab.research.google.com/assets/colab-badge.svg\" alt=\"Open In Colab\"/></a>"
      ]
    },
    {
      "cell_type": "markdown",
      "source": [
        "# library & class define"
      ],
      "metadata": {
        "id": "NLT_V5PD72l6"
      }
    },
    {
      "cell_type": "code",
      "execution_count": null,
      "metadata": {
        "colab": {
          "base_uri": "https://localhost:8080/"
        },
        "id": "0fgDA31Q4O05",
        "outputId": "36af05de-1c71-4ad3-e571-8f2fe3f23176"
      },
      "outputs": [
        {
          "output_type": "stream",
          "name": "stdout",
          "text": [
            "Collecting keras.utils\n",
            "  Downloading keras-utils-1.0.13.tar.gz (2.4 kB)\n",
            "Requirement already satisfied: Keras>=2.1.5 in /usr/local/lib/python3.7/dist-packages (from keras.utils) (2.8.0)\n",
            "Building wheels for collected packages: keras.utils\n",
            "  Building wheel for keras.utils (setup.py) ... \u001b[?25l\u001b[?25hdone\n",
            "  Created wheel for keras.utils: filename=keras_utils-1.0.13-py3-none-any.whl size=2656 sha256=aa65f257c65e234392f8f28ba04c588c3752d96a43ac9479bb565f0bdaa0139e\n",
            "  Stored in directory: /root/.cache/pip/wheels/d0/dd/3b/493952a5240d486a83805d65360dedadbadeae71d25e2c877f\n",
            "Successfully built keras.utils\n",
            "Installing collected packages: keras.utils\n",
            "Successfully installed keras.utils-1.0.13\n"
          ]
        }
      ],
      "source": [
        "!pip install keras.utils"
      ]
    },
    {
      "cell_type": "code",
      "execution_count": null,
      "metadata": {
        "id": "4Y6FCemDb-Ow"
      },
      "outputs": [],
      "source": [
        "# Keras\n",
        "import keras\n",
        "from keras import regularizers\n",
        "from keras.preprocessing import sequence\n",
        "from keras.preprocessing.text import Tokenizer\n",
        "from keras.preprocessing.sequence import pad_sequences\n",
        "from keras.models import Sequential, Model, model_from_json\n",
        "from keras.layers import Dense, Embedding, LSTM\n",
        "from keras.layers import Input, Flatten, Dropout, Activation, BatchNormalization\n",
        "from keras.layers import Conv1D, MaxPooling1D, AveragePooling1D\n",
        "from keras.utils import np_utils\n",
        "from tensorflow.keras.utils import to_categorical\n",
        "from keras.callbacks import (EarlyStopping, LearningRateScheduler,\n",
        "                             ModelCheckpoint, TensorBoard, ReduceLROnPlateau)\n",
        "from keras import losses, models, optimizers\n",
        "from keras.activations import relu, softmax\n",
        "from keras.layers import (Convolution2D, GlobalAveragePooling2D, BatchNormalization, Flatten, Dropout,\n",
        "                          GlobalMaxPool2D, MaxPool2D, concatenate, Activation, Input, Dense)\n",
        "\n",
        "# sklearn\n",
        "from sklearn.preprocessing import LabelEncoder\n",
        "\n",
        "# Other  \n",
        "from tqdm import tqdm, tqdm_pandas\n",
        "import scipy\n",
        "from scipy.stats import skew\n",
        "\n",
        "import json\n",
        "import tensorflow as tf\n",
        "from matplotlib.pyplot import specgram\n",
        "\n",
        "import IPython.display as ipd  # To play sound in the notebook"
      ]
    },
    {
      "cell_type": "code",
      "execution_count": null,
      "metadata": {
        "id": "CgToxuQVq93n"
      },
      "outputs": [],
      "source": [
        "import pandas as pd\n",
        "import librosa\n",
        "import librosa.display\n",
        "import soundfile\n",
        "import os, glob, pickle, sys\n",
        "import numpy as np\n",
        "import seaborn as sns\n",
        "import matplotlib.pyplot as plt\n",
        "\n",
        "from sklearn.model_selection import train_test_split\n",
        "from sklearn.neural_network import MLPClassifier\n",
        "from sklearn.metrics import accuracy_score\n",
        "from sklearn.preprocessing import StandardScaler, OneHotEncoder\n",
        "from sklearn.metrics import confusion_matrix, classification_report\n",
        "from sklearn.model_selection import train_test_split\n",
        "\n",
        "# to play the audio files\n",
        "from IPython.display import Audio\n",
        "\n",
        "import keras\n",
        "from keras.callbacks import ReduceLROnPlateau\n",
        "from keras.models import Sequential\n",
        "from keras.layers import Dense, Conv1D, MaxPooling1D, Flatten, Dropout, BatchNormalization\n",
        "# from keras.utils import np_utils, to_categorical\n",
        "from keras.callbacks import ModelCheckpoint"
      ]
    },
    {
      "cell_type": "code",
      "execution_count": null,
      "metadata": {
        "id": "YUzo2SguDpCW"
      },
      "outputs": [],
      "source": [
        "import warnings\n",
        "if not sys.warnoptions:\n",
        "    warnings.simplefilter(\"ignore\")\n",
        "warnings.filterwarnings(\"ignore\", category=DeprecationWarning) "
      ]
    },
    {
      "cell_type": "code",
      "execution_count": null,
      "metadata": {
        "colab": {
          "base_uri": "https://localhost:8080/"
        },
        "id": "OKaGPl9ew5v_",
        "outputId": "c6cde49c-4b0c-4fee-8547-736e7ea04595"
      },
      "outputs": [
        {
          "output_type": "stream",
          "name": "stdout",
          "text": [
            "Mounted at /content/gdrive\n"
          ]
        }
      ],
      "source": [
        "## path!\n",
        "\n",
        "from google.colab import drive\n",
        "drive.mount('/content/gdrive')"
      ]
    },
    {
      "cell_type": "code",
      "execution_count": null,
      "metadata": {
        "id": "04JI7Y_orB4K"
      },
      "outputs": [],
      "source": [
        "## from 2sec data (after duration processing)\n",
        "\n",
        "path_orig2 = 'gdrive/MyDrive/data/audio_speech_actors_01-24/2sec_data/*.wav' ## RAVDESS before padding \n",
        "path_tess2 = 'gdrive/MyDrive/TESS_Data/2sec_data/*.wav' "
      ]
    },
    {
      "cell_type": "code",
      "execution_count": null,
      "metadata": {
        "colab": {
          "base_uri": "https://localhost:8080/"
        },
        "id": "ES-dt6EjWYha",
        "outputId": "44ea8993-ff51-4a0a-e406-82778d9dd0b4"
      },
      "outputs": [
        {
          "output_type": "stream",
          "name": "stdout",
          "text": [
            "Collecting pydub\n",
            "  Downloading pydub-0.25.1-py2.py3-none-any.whl (32 kB)\n",
            "Installing collected packages: pydub\n",
            "Successfully installed pydub-0.25.1\n"
          ]
        }
      ],
      "source": [
        "pip install pydub"
      ]
    },
    {
      "cell_type": "code",
      "source": [
        "pip install audiomentations"
      ],
      "metadata": {
        "id": "BIDMLaka9yfc"
      },
      "execution_count": null,
      "outputs": []
    },
    {
      "cell_type": "code",
      "execution_count": null,
      "metadata": {
        "id": "Bu0EghXMWPYZ"
      },
      "outputs": [],
      "source": [
        "from pydub import AudioSegment"
      ]
    },
    {
      "cell_type": "code",
      "execution_count": null,
      "metadata": {
        "id": "BgAJLNN6uDPa"
      },
      "outputs": [],
      "source": [
        "import tensorflow.keras.layers as tfl"
      ]
    },
    {
      "cell_type": "code",
      "execution_count": null,
      "metadata": {
        "id": "wTUf_r9HAMFa"
      },
      "outputs": [],
      "source": [
        "import random\n",
        "import numpy as np\n",
        "import tensorflow as tf\n",
        "random.seed(299)\n",
        "np.random.seed(299)\n",
        "tf.random.set_seed(299)"
      ]
    },
    {
      "cell_type": "code",
      "execution_count": null,
      "metadata": {
        "id": "yLfc7lL5ySrU"
      },
      "outputs": [],
      "source": [
        "# Emotions in the RAVDESS dataset\n",
        "emotions={\n",
        "  '01':'neutral',\n",
        "  '02':'calm',\n",
        "  '03':'happy',\n",
        "  '04':'sad',\n",
        "  '05':'angry',\n",
        "  '06':'fearful',\n",
        "  '07':'disgust',\n",
        "  '08':'surprised'\n",
        "}\n",
        "# Emotions to observe\n",
        "# observed_emotions=['calm', 'happy', 'fearful', 'disgust']"
      ]
    },
    {
      "cell_type": "code",
      "source": [
        "emotions_tess = {\n",
        "  'neutral':'neutral',\n",
        "  # '02':'calm',\n",
        "  'happy':'happy',\n",
        "  'sad':'sad',\n",
        "  'angry':'angry',\n",
        "  'fear':'fearful',\n",
        "  'disgust':'disgust',\n",
        "  # '08':'surprised'\n",
        "}"
      ],
      "metadata": {
        "id": "2BU8hIYN-vsU"
      },
      "execution_count": null,
      "outputs": []
    },
    {
      "cell_type": "markdown",
      "source": [
        "# comparision model- conv2d (mel2d)"
      ],
      "metadata": {
        "id": "HgJ2y5Cn8Lhe"
      }
    },
    {
      "cell_type": "markdown",
      "source": [
        "## data preprocessing (feature extraction, train test split)"
      ],
      "metadata": {
        "id": "Px0rKoKy9rRI"
      }
    },
    {
      "cell_type": "code",
      "source": [
        "def extract_mel2d(file, plot_mel = False): # mel 2d\n",
        "\n",
        "  y, sr = librosa.load(file, sr = 48000)\n",
        "  result=np.array([])\n",
        "\n",
        "  mel = librosa.feature.melspectrogram(y=y, sr=48000, n_mels=128)\n",
        "  # print(\"shape of mel: \", mel.shape)\n",
        "\n",
        "  result = np.array(mel)\n",
        "  result = np.expand_dims(result, axis=-1)\n",
        "  # print(\"shape of result : \", result.shape)\n",
        "\n",
        "  if plot_mel:\n",
        "    fig, ax = plt.subplots()\n",
        "    mel_dB = librosa.power_to_db(mel, ref=np.max)\n",
        "    img = librosa.display.specshow(mel_dB, x_axis='time', y_axis='mel', sr=sr, ax=ax)\n",
        "    fig.colorbar(img, ax=ax, format='%+2.0f dB')\n",
        "    ax.set(title='Mel-frequency spectrogram')\n",
        "    # print(\"mel_dB: \", mel_dB) \n",
        "    # print(\"This is mel_dB.shape : \", mel_dB.shape) # (128, 300-400)\n",
        "    plt.show()\n",
        "\n",
        "  return result"
      ],
      "metadata": {
        "id": "tFiYUxYM9F65"
      },
      "execution_count": null,
      "outputs": []
    },
    {
      "cell_type": "code",
      "source": [
        "# MAIN mel 2d \n",
        "def load_data_mel2d(test_size = 0.2, plot_mel = False):\n",
        "\n",
        "  x = np.array([])\n",
        "  cnt = 0\n",
        "  # x,y=[],[]\n",
        "  y = []\n",
        "\n",
        "  for file in glob.glob(path_tess2):\n",
        "    \n",
        "    try:\n",
        "      file_name=os.path.basename(file)\n",
        "      #converting stereo audio to mono\n",
        "      sound = AudioSegment.from_wav(file)\n",
        "      sound = sound.set_channels(1)\n",
        "      sound.export(file, format=\"wav\")\n",
        "\n",
        "    except:\n",
        "      print(\"decoding error\")\n",
        "      continue\n",
        "    \n",
        "    if 'ps' in file_name:\n",
        "        continue\n",
        "\n",
        "    if sound.duration_seconds != 2.0:\n",
        "      print(\"duration error!\")\n",
        "      continue\n",
        "\n",
        "    \n",
        "    if 'aug' in file_name:\n",
        "      emotion=emotions_tess[file_name.split(\"_\")[2]]\n",
        "    else:\n",
        "      emotion=emotions_tess[file_name.split(\"_\")[2][:-4]]\n",
        "      \n",
        "    features = extract_mel2d(file, plot_mel)\n",
        "    # cnt += 1\n",
        "\n",
        "    if x.size == 0:\n",
        "      features = features.reshape(1, features.shape[0], features.shape[1], features.shape[2])\n",
        "      x = features\n",
        "    else:\n",
        "      features = features.reshape(1, features.shape[0], features.shape[1], features.shape[2])\n",
        "      x = np.vstack((x, features))\n",
        "\n",
        "    print(\"This is x.shape: \", x.shape)\n",
        "    # print(x)\n",
        "    y.append(emotion)\n",
        "    # print(\"append success\") \n",
        "\n",
        "  for file in glob.glob(path_orig2):\n",
        "    \n",
        "    try:\n",
        "      file_name=os.path.basename(file)\n",
        "      #converting stereo audio to mono\n",
        "      sound = AudioSegment.from_wav(file)\n",
        "      sound = sound.set_channels(1)\n",
        "      sound.export(file, format=\"wav\")\n",
        "\n",
        "\n",
        "    except:\n",
        "      print(\"decoding error\")\n",
        "      continue\n",
        "\n",
        "    if sound.duration_seconds != 2.0:\n",
        "      print(\"duration error!\")\n",
        "      continue\n",
        "\n",
        "    emotion=emotions[file_name.split(\"-\")[2]]\n",
        "    features = extract_mel2d(file, plot_mel)\n",
        "    # cnt += 1\n",
        "\n",
        "    if x.size == 0:\n",
        "      features = features.reshape(1, features.shape[0], features.shape[1], features.shape[2])\n",
        "      x = features\n",
        "    else:\n",
        "      features = features.reshape(1, features.shape[0], features.shape[1], features.shape[2])\n",
        "      x = np.vstack((x, features))\n",
        "\n",
        "    print(\"This is x.shape: \", x.shape)\n",
        "    # print(x)\n",
        "    y.append(emotion)\n",
        "    # print(\"append success\")\n",
        "\n",
        "    \n",
        "  try:\n",
        "    temp = np.array(x)  \n",
        "    print(\"This is final np.array(x).shape: \", temp.shape)\n",
        "  except:\n",
        "    print(\"fail to np.array(x).shape\")\n",
        "    return x, y, x, y\n",
        "\n",
        "  # return x, y\n",
        "  return train_test_split(np.array(x), y, test_size=test_size, random_state=9, shuffle=True)"
      ],
      "metadata": {
        "id": "z_pD0yRW9E6D"
      },
      "execution_count": null,
      "outputs": []
    },
    {
      "cell_type": "code",
      "source": [
        "x_train_mel2d, x_test_mel2d, y_train_mel2d, y_test_mel2d = load_data_mel2d(test_size = 0.25, plot_mel = False) "
      ],
      "metadata": {
        "id": "HfpCOh1e8Kuf"
      },
      "execution_count": null,
      "outputs": []
    },
    {
      "cell_type": "code",
      "source": [
        "print(x_train_mel2d.shape) # should be (n, 128, 188)\n",
        "print(x_test_mel2d.shape)\n",
        "print(len(y_train_mel2d))\n",
        "print(len(y_test_mel2d))"
      ],
      "metadata": {
        "id": "wSlYKtHS9UkD"
      },
      "execution_count": null,
      "outputs": []
    },
    {
      "cell_type": "code",
      "source": [
        "## exporting mel2d data\n",
        "\n",
        "with open('gdrive/MyDrive/mel_numpy/x_train_mel2d.npy', 'wb') as f:\n",
        "  np.save(f, x_train_mel2d)\n",
        "\n",
        "with open('gdrive/MyDrive/mel_numpy/y_train_mel2d.npy', 'wb') as f:\n",
        "  np.save(f, y_train_mel2d)\n",
        "\n",
        "with open('gdrive/MyDrive/mel_numpy/x_test_mel2d.npy', 'wb') as f:\n",
        "  np.save(f, x_test_mel2d)\n",
        "\n",
        "with open('gdrive/MyDrive/mel_numpy/y_test_mel2d.npy', 'wb') as f:\n",
        "  np.save(f, y_test_mel2d) "
      ],
      "metadata": {
        "id": "4BzfzDYQ9fQe"
      },
      "execution_count": null,
      "outputs": []
    },
    {
      "cell_type": "markdown",
      "source": [
        "## conv2d model"
      ],
      "metadata": {
        "id": "YT9EgsPS-KUp"
      }
    },
    {
      "cell_type": "code",
      "execution_count": null,
      "metadata": {
        "id": "upL7wnj4i7cL"
      },
      "outputs": [],
      "source": [
        "# one hot encode the target \n",
        "lb = LabelEncoder()\n",
        "y_train_mel2d_onehot = np_utils.to_categorical(lb.fit_transform(y_train_mel2d)) # one hot ?\n",
        "y_test_mel2d_onehot = np_utils.to_categorical(lb.fit_transform(y_test_mel2d))"
      ]
    },
    {
      "cell_type": "code",
      "execution_count": null,
      "metadata": {
        "id": "HIk20Leji7cL"
      },
      "outputs": [],
      "source": [
        "print(y_train_mel2d_onehot)\n",
        "print(y_test_mel2d_onehot)\n",
        "print(y_train_mel2d_onehot.shape)\n",
        "print(y_test_mel2d_onehot.shape)"
      ]
    },
    {
      "cell_type": "code",
      "execution_count": null,
      "metadata": {
        "id": "xrfqDvsAuNY6"
      },
      "outputs": [],
      "source": [
        "def convolutional_model(input_shape):\n",
        "    input_img = tf.keras.Input(shape=input_shape)\n",
        "    ## CONV2D: 8 filters 4x4, stride of 1, padding 'SAME'\n",
        "    Z1 = tfl.Conv2D(8, (4, 4), strides = (1, 1), padding = 'SAME')(input_img)\n",
        "    ## RELU\n",
        "    A1 = tfl.ReLU()(Z1)\n",
        "    ## MAXPOOL: window 8x8, stride 8, padding 'SAME'\n",
        "    P1 = tfl.MaxPool2D(pool_size=(8, 8), strides=8, padding = \"SAME\")(A1)# maxpooling 에서서 padding이이 same인인 건건 뭐지지?\n",
        "    ## CONV2D: 16 filters 2x2, stride 1, padding 'SAME'\n",
        "    D1 = Dropout(rate=0.2)(P1)\n",
        "    \n",
        "    Z2 = tfl.Conv2D(16, (2, 2), strides = (1, 1), padding = 'SAME')(D1) \n",
        "    ## RELU\n",
        "    A2 = tfl.ReLU()(Z2)\n",
        "    ## MAXPOOL: window 4x4, stride 4, padding 'SAME'\n",
        "    P2 = tfl.MaxPool2D((4, 4), (4, 4), padding= 'SAME')(A2)\n",
        "    D2 = Dropout(rate = 0.2)(P2)\n",
        "    ## FLATTEN\n",
        "    F = tfl.Flatten()(D2)\n",
        "    ## Dense layer\n",
        "    ## 8 neurons in output layer. \n",
        "    outputs = tfl.Dense(8, activation = 'softmax')(F)\n",
        "    \n",
        "    model = tf.keras.Model(inputs=input_img, outputs=outputs)\n",
        "    return model"
      ]
    },
    {
      "cell_type": "code",
      "execution_count": null,
      "metadata": {
        "id": "nlZ4891ra95y"
      },
      "outputs": [],
      "source": [
        "optimizer = tf.keras.optimizers.Adam(0.001)"
      ]
    },
    {
      "cell_type": "code",
      "execution_count": null,
      "metadata": {
        "id": "73_Lrb__uOhT"
      },
      "outputs": [],
      "source": [
        "conv_model = convolutional_model((x_train_mel2d.shape[1], x_train_mel2d.shape[2], x_train_mel2d.shape[3]))\n",
        "conv_model.compile(optimizer=optimizer,\n",
        "                  loss='categorical_crossentropy',\n",
        "                  metrics=['accuracy'])\n",
        "conv_model.summary()"
      ]
    },
    {
      "cell_type": "code",
      "execution_count": null,
      "metadata": {
        "id": "y3Gnmqzmzlw3"
      },
      "outputs": [],
      "source": [
        "epoch = 50\n",
        "history = conv_model.fit(x_train_mel2d, y_train_mel2d_onehot, validation_data=(x_test_mel2d, y_test_mel2d_onehot), batch_size = 32, epochs=epoch)"
      ]
    },
    {
      "cell_type": "code",
      "execution_count": null,
      "metadata": {
        "id": "BicUS0rnqdzK"
      },
      "outputs": [],
      "source": [
        "temp = conv_model.evaluate(x_test_mel2d, y_test_mel2d_onehot)"
      ]
    },
    {
      "cell_type": "markdown",
      "source": [
        "### acc loss plot & heatmap"
      ],
      "metadata": {
        "id": "mfR2U1wsAbaz"
      }
    },
    {
      "cell_type": "code",
      "execution_count": null,
      "metadata": {
        "id": "KwVJ1C5h1GyF"
      },
      "outputs": [],
      "source": [
        "print(\"Accuracy of our model on test data : \" , conv_model.evaluate(x_test_mel2d,y_test_mel2d_onehot)[1]*100 , \"%\")\n",
        "\n",
        "epochs = [i for i in range(epoch)] # epoch!\n",
        "fig , ax = plt.subplots(1,2)\n",
        "train_acc = history.history['accuracy']\n",
        "train_loss = history.history['loss']\n",
        "test_acc = history.history['val_accuracy']\n",
        "test_loss = history.history['val_loss']\n",
        "\n",
        "fig.set_size_inches(20,6)\n",
        "ax[0].plot(epochs , train_loss , label = 'Training Loss')\n",
        "ax[0].plot(epochs , test_loss , label = 'Testing Loss')\n",
        "ax[0].set_title('Training & Testing Loss')\n",
        "ax[0].legend()\n",
        "ax[0].set_xlabel(\"Epochs\")\n",
        "\n",
        "ax[1].plot(epochs , train_acc , label = 'Training Accuracy')\n",
        "ax[1].plot(epochs , test_acc , label = 'Testing Accuracy')\n",
        "ax[1].set_title('Training & Testing Accuracy')\n",
        "ax[1].legend()\n",
        "ax[1].set_xlabel(\"Epochs\")\n",
        "plt.show()"
      ]
    },
    {
      "cell_type": "code",
      "execution_count": null,
      "metadata": {
        "id": "PGQtTtyw3oQx"
      },
      "outputs": [],
      "source": [
        "lb = LabelEncoder()\n",
        "emotion = ['neutral', 'calm', 'happy', 'sad', 'angry', 'fearful', 'disgust', 'surprised']\n",
        "lb.fit(emotion)\n",
        "\n",
        "pred_test = conv_model.predict(x_test_mel2d)\n",
        "\n",
        "# print(pred_test.shape)\n",
        "# print(np.argmax(pred_test, axis = 1))\n",
        "# print(np.argmax(pred_test, axis = 1).shape)\n",
        "\n",
        "pred_test = np.argmax(pred_test, axis = 1)\n",
        "y_pred = lb.inverse_transform(pred_test) ## number -> string (emotion)\n",
        "\n",
        "# print(y_pred.shape) # (358,)\n",
        "# print(y_test_mel2d.shape) # list. 358"
      ]
    },
    {
      "cell_type": "code",
      "execution_count": null,
      "metadata": {
        "id": "QHE_Tppt2FcH"
      },
      "outputs": [],
      "source": [
        "cm = confusion_matrix(y_test_mel2d, y_pred)\n",
        "plt.figure(figsize = (12, 10))\n",
        "# cm = pd.DataFrame(cm , index = [i for i in lb.categories_] , columns = [i for i in lb.categories_])\n",
        "cm = pd.DataFrame(cm , index = [i for i in emotion] , columns = [i for i in emotion])\n",
        "sns.heatmap(cm, linecolor='white', cmap='Blues', linewidth=1, annot=True, fmt='')\n",
        "plt.title('Confusion Matrix', size=20)\n",
        "plt.xlabel('Predicted Labels', size=14)\n",
        "plt.ylabel('Actual Labels', size=14)\n",
        "plt.show()"
      ]
    },
    {
      "cell_type": "markdown",
      "source": [
        "# MAIN: conv1d model (1d mfcc + 1d mel)"
      ],
      "metadata": {
        "id": "MMYyeLT5AsrL"
      }
    },
    {
      "cell_type": "markdown",
      "source": [
        "## data preprocessing (feature extraction, train test split)"
      ],
      "metadata": {
        "id": "h2EA8JL7BgMm"
      }
    },
    {
      "cell_type": "code",
      "source": [
        "def extract_feature_all(file_name, mfcc, chroma, mel): # mel 1d (mean), mel&mfcc 1d\n",
        "\n",
        "  with soundfile.SoundFile(file_name) as sound_file:\n",
        "      X = sound_file.read(dtype=\"float32\")\n",
        "      sample_rate=sound_file.samplerate\n",
        "      result=np.array([])\n",
        "      if chroma:\n",
        "          stft=np.abs(librosa.stft(X))\n",
        "      if mfcc:\n",
        "          mfccs=np.mean(librosa.feature.mfcc(y=X, sr=sample_rate, n_mfcc=40).T, axis=0)\n",
        "          result=np.hstack((result, mfccs))\n",
        "      if chroma:\n",
        "          chroma=np.mean(librosa.feature.chroma_stft(S=stft, sr=sample_rate).T,axis=0)\n",
        "          result=np.hstack((result, chroma))\n",
        "      if mel:\n",
        "          mel=np.mean(librosa.feature.melspectrogram(y=X, sr=sample_rate).T,axis=0)\n",
        "          result=np.hstack((result, mel))\n",
        "  # print(\"This is feature shape : \", result.shape)\n",
        "  return result"
      ],
      "metadata": {
        "id": "qbkXkeRVBbSv"
      },
      "execution_count": null,
      "outputs": []
    },
    {
      "cell_type": "code",
      "source": [
        "# all features 1d (mean)\n",
        "def load_data(test_size=0.2): # mel 1d (mean)\n",
        "  x,y=[],[]\n",
        "  for file in glob.glob(path_tess2):\n",
        "    \n",
        "    try:\n",
        "      file_name=os.path.basename(file)\n",
        "      #converting stereo audio to mono\n",
        "      sound = AudioSegment.from_wav(file)\n",
        "      sound = sound.set_channels(1)\n",
        "      sound.export(file, format=\"wav\")\n",
        "      if 'ps' in file_name:\n",
        "        continue\n",
        "\n",
        "    except:\n",
        "      print(\"decoding error\")\n",
        "      continue\n",
        "\n",
        "    if sound.duration_seconds != 2.0:\n",
        "      print(\"duration error!\")\n",
        "      continue\n",
        "\n",
        "    if 'aug' in file_name:\n",
        "      emotion=emotions_tess[file_name.split(\"_\")[2]]\n",
        "    else:\n",
        "      emotion=emotions_tess[file_name.split(\"_\")[2][:-4]]\n",
        "\n",
        "    feature=extract_feature_all(file, mfcc=True, chroma=False, mel=True)\n",
        "    x.append(feature)\n",
        "    y.append(emotion) \n",
        "    print(\"This is x shape: \", x,shape)\n",
        "\n",
        "  for file in glob.glob(path_orig2):\n",
        "    try:\n",
        "      # print(file)\n",
        "      file_name=os.path.basename(file)\n",
        "      #converting stereo audio to mono\n",
        "      sound = AudioSegment.from_wav(file)\n",
        "      sound = sound.set_channels(1)\n",
        "      sound.export(file, format=\"wav\")\n",
        "    except:\n",
        "      print(\"decoding error\")\n",
        "      continue\n",
        "\n",
        "    if sound.duration_seconds !=2.0:\n",
        "      print(\"duration error!\")\n",
        "      continue\n",
        "\n",
        "    emotion=emotions[file_name.split(\"-\")[2]]\n",
        "    # if emotion not in observed_emotions:\n",
        "    #     continue\n",
        "    feature=extract_feature_all(file, mfcc=True, chroma=False, mel=True)\n",
        "    x.append(feature)\n",
        "    y.append(emotion)\n",
        "    print(\"This is x shape : \", x.shape)\n",
        "\n",
        "  \n",
        "    \n",
        "  try:\n",
        "    temp = np.array(x)  \n",
        "    print(\"This is final np.array(x).shape: \", temp.shape)\n",
        "  except:\n",
        "    print(\"fail to np.array(x).shape\")\n",
        "    return x, y, x, y\n",
        "\n",
        "\n",
        "  return train_test_split(np.array(x), y, test_size=test_size, random_state=9, shuffle = True)"
      ],
      "metadata": {
        "id": "enkIRb0rBAr3"
      },
      "execution_count": null,
      "outputs": []
    },
    {
      "cell_type": "code",
      "source": [
        "x_train,x_test,y_train,y_test=load_data(test_size=0.25) # takes long time.."
      ],
      "metadata": {
        "id": "1J7MYDqWAv-z"
      },
      "execution_count": null,
      "outputs": []
    },
    {
      "cell_type": "code",
      "source": [
        "print(x_train.shape)\n",
        "print(x_test.shape)\n",
        "print(len(y_train))\n",
        "print(len(y_test))"
      ],
      "metadata": {
        "id": "tZYbo_oUBtan"
      },
      "execution_count": null,
      "outputs": []
    },
    {
      "cell_type": "code",
      "source": [
        "with open('gdrive/MyDrive/melmfcc_numpy/x_train.npy', 'wb') as f:\n",
        "  np.save(f, x_train)\n",
        "\n",
        "with open('gdrive/MyDrive/melmfcc_numpy/y_train.npy', 'wb') as f:\n",
        "  np.save(f, y_train)\n",
        "\n",
        "with open('gdrive/MyDrive/melmfcc_numpy/x_test.npy', 'wb') as f:\n",
        "  np.save(f, x_test)\n",
        "\n",
        "with open('gdrive/MyDrive/melmfcc_numpy/y_test.npy', 'wb') as f:\n",
        "  np.save(f, y_test) "
      ],
      "metadata": {
        "id": "bu2oDjdvBs0E"
      },
      "execution_count": null,
      "outputs": []
    },
    {
      "cell_type": "markdown",
      "source": [
        "## model (conv1d)"
      ],
      "metadata": {
        "id": "AYYN2R31Byko"
      }
    },
    {
      "cell_type": "code",
      "source": [
        "# one hot encode the target \n",
        "lb = LabelEncoder()\n",
        "y_train_onehot = np_utils.to_categorical(lb.fit_transform(y_train)) # one hot ?\n",
        "y_test_onehot = np_utils.to_categorical(lb.fit_transform(y_test))"
      ],
      "metadata": {
        "id": "D_C86MidB22y"
      },
      "execution_count": null,
      "outputs": []
    },
    {
      "cell_type": "code",
      "source": [
        "scaler_data = StandardScaler()\n",
        "\n",
        "x_train_scale = scaler_data.fit_transform(x_train)\n",
        "x_test_scale = scaler_data.transform(x_test)"
      ],
      "metadata": {
        "id": "QYItcDc9B_Bv"
      },
      "execution_count": null,
      "outputs": []
    },
    {
      "cell_type": "code",
      "source": [
        "x_train_scale = np.expand_dims(x_train_scale, axis=-1)\n",
        "x_test_scale = np.expand_dims(x_test_scale, axis=-1)\n",
        "print(x_train_scale.shape)\n",
        "print(x_test_scale.shape)"
      ],
      "metadata": {
        "id": "8T-4MYo3CDqz"
      },
      "execution_count": null,
      "outputs": []
    },
    {
      "cell_type": "code",
      "source": [
        "Model=Sequential()\n",
        "Model.add(Conv1D(256, kernel_size=5, strides=1, padding='same', activation='relu', input_shape=(x_train.shape[1], 1)))\n",
        "Model.add(MaxPooling1D(pool_size=5, strides = 2, padding = 'same'))\n",
        "\n",
        "Model.add(Conv1D(256, kernel_size=5, strides=1, padding='same', activation='relu'))\n",
        "Model.add(MaxPooling1D(pool_size=5, strides = 2, padding = 'same'))\n",
        "\n",
        "Model.add(Conv1D(128, kernel_size=5, strides=1, padding='same', activation='relu'))\n",
        "Model.add(MaxPooling1D(pool_size=5, strides = 2, padding = 'same'))\n",
        "Model.add(Dropout(0.2))\n",
        "\n",
        "Model.add(Conv1D(64, kernel_size=5, strides=1, padding='same', activation='relu'))\n",
        "Model.add(MaxPooling1D(pool_size=5, strides = 2, padding = 'same'))\n",
        "\n",
        "Model.add(Flatten())\n",
        "Model.add(Dense(units=32, activation='relu'))\n",
        "Model.add(Dropout(0.3))\n",
        "\n",
        "Model.add(Dense(units=8, activation='softmax'))"
      ],
      "metadata": {
        "id": "styS9SjmCQNq"
      },
      "execution_count": null,
      "outputs": []
    },
    {
      "cell_type": "code",
      "source": [
        "Model.compile(optimizer = 'adam' , loss = 'categorical_crossentropy' , metrics = ['accuracy'])"
      ],
      "metadata": {
        "id": "zWesgmkXCpeE"
      },
      "execution_count": null,
      "outputs": []
    },
    {
      "cell_type": "code",
      "source": [
        "Model.summary()"
      ],
      "metadata": {
        "id": "dHrDOXrMCqDG"
      },
      "execution_count": null,
      "outputs": []
    },
    {
      "cell_type": "code",
      "source": [
        "epoch = 50\n",
        "history = Model.fit(x_train_scale, y_train_onehot, batch_size=16, epochs=epoch, validation_data=(x_test_scale, y_test_onehot))"
      ],
      "metadata": {
        "id": "aU2BaNryCrGP"
      },
      "execution_count": null,
      "outputs": []
    },
    {
      "cell_type": "code",
      "source": [
        "temp = Model.evaluate(x_test_scale, y_test_onehot)"
      ],
      "metadata": {
        "id": "ew1LAuuPCviF"
      },
      "execution_count": null,
      "outputs": []
    },
    {
      "cell_type": "markdown",
      "metadata": {
        "id": "cigVcULGo64B"
      },
      "source": [
        "### loss & acc plot, heat map\n"
      ]
    },
    {
      "cell_type": "code",
      "execution_count": null,
      "metadata": {
        "colab": {
          "base_uri": "https://localhost:8080/",
          "height": 282
        },
        "outputId": "dae91ef6-bfb9-470d-e883-3a1045589364",
        "id": "yegMlZKho64B"
      },
      "outputs": [
        {
          "output_type": "stream",
          "name": "stdout",
          "text": [
            "90/90 [==============================] - 0s 3ms/step - loss: 0.6869 - accuracy: 0.7708\n",
            "Accuracy of our model on test data :  77.08333134651184 %\n"
          ]
        },
        {
          "output_type": "display_data",
          "data": {
            "text/plain": [
              "<Figure size 1440x432 with 2 Axes>"
            ],
            "image/png": "[encoded data removed]"
          },
          "metadata": {
            "needs_background": "light"
          }
        }
      ],
      "source": [
        "print(\"Accuracy of our model on test data : \" , Model.evaluate(x_test_scale, y_test_onehot)[1]*100 , \"%\")\n",
        "# epochs = 50\n",
        "\n",
        "epochs = [i for i in range(epoch)] # epoch!\n",
        "fig , ax = plt.subplots(1,2)\n",
        "train_acc = history.history['accuracy']\n",
        "train_loss = history.history['loss']\n",
        "test_acc = history.history['val_accuracy']\n",
        "test_loss = history.history['val_loss']\n",
        "\n",
        "fig.set_size_inches(20,6)\n",
        "ax[0].plot(epochs , train_loss , label = 'Training Loss')\n",
        "ax[0].plot(epochs , test_loss , label = 'Testing Loss')\n",
        "ax[0].set_title('Training & Testing Loss')\n",
        "ax[0].legend()\n",
        "ax[0].set_xlabel(\"Epochs\")\n",
        "\n",
        "ax[1].plot(epochs , train_acc , label = 'Training Accuracy')\n",
        "ax[1].plot(epochs , test_acc , label = 'Testing Accuracy')\n",
        "ax[1].set_title('Training & Testing Accuracy')\n",
        "ax[1].legend()\n",
        "ax[1].set_xlabel(\"Epochs\")\n",
        "plt.show()"
      ]
    },
    {
      "cell_type": "code",
      "execution_count": null,
      "metadata": {
        "id": "Rjhl6cdco64B"
      },
      "outputs": [],
      "source": [
        "lb = LabelEncoder()\n",
        "emotion = ['neutral', 'calm', 'happy', 'sad', 'angry', 'fearful', 'disgust', 'surprised']\n",
        "lb.fit(emotion)\n",
        "\n",
        "pred_test = Model.predict(x_test_scale)\n",
        "\n",
        "# print(pred_test.shape)\n",
        "# print(np.argmax(pred_test, axis = 1))\n",
        "# print(np.argmax(pred_test, axis = 1).shape)\n",
        "\n",
        "pred_test = np.argmax(pred_test, axis = 1)\n",
        "y_pred = lb.inverse_transform(pred_test) ## number -> string (emotion)\n",
        "\n",
        "# print(y_pred.shape) # (358,)\n",
        "# print(y_test_mel2d.shape) # list. 358"
      ]
    },
    {
      "cell_type": "code",
      "execution_count": null,
      "metadata": {
        "id": "o4YVXuYMo64C"
      },
      "outputs": [],
      "source": [
        "cm = confusion_matrix(y_test, y_pred)\n",
        "plt.figure(figsize = (12, 10))\n",
        "# cm = pd.DataFrame(cm , index = [i for i in lb.categories_] , columns = [i for i in lb.categories_])\n",
        "cm = pd.DataFrame(cm , index = [i for i in emotion] , columns = [i for i in emotion])\n",
        "sns.heatmap(cm, linecolor='white', cmap='Blues', linewidth=1, annot=True, fmt='')\n",
        "plt.title('Confusion Matrix', size=20)\n",
        "plt.xlabel('Predicted Labels', size=14)\n",
        "plt.ylabel('Actual Labels', size=14)\n",
        "plt.show()"
      ]
    }
  ]
}
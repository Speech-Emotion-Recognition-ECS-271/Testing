{
  "cells": [
    {
      "cell_type": "markdown",
      "metadata": {
        "id": "view-in-github",
        "colab_type": "text"
      },
      "source": [
        "<a href=\"https://colab.research.google.com/github/Speech-Emotion-Recognition-ECS-271/Testing/blob/main/ML_SER_final.ipynb\" target=\"_parent\"><img src=\"https://colab.research.google.com/assets/colab-badge.svg\" alt=\"Open In Colab\"/></a>"
      ]
    },
    {
      "cell_type": "markdown",
      "metadata": {
        "id": "lVW-DX1vczng"
      },
      "source": [
        "# Speech Emotion Recognition\n",
        "\n",
        "- Augmentation (noise & stretch)\n",
        "- Data preprocessing (duration setting & feature extraction)\n",
        "- Model (CNN, MLP...)\n",
        "- Loss & accuracy plot, heatmap, classification report\n"
      ]
    },
    {
      "cell_type": "markdown",
      "metadata": {
        "id": "zfmdGg_GOuSp"
      },
      "source": [
        "# library & class define"
      ]
    },
    {
      "cell_type": "code",
      "source": [
        "pip install audiomentations"
      ],
      "metadata": {
        "id": "0shonmA4SUbw"
      },
      "execution_count": null,
      "outputs": []
    },
    {
      "cell_type": "code",
      "execution_count": null,
      "metadata": {
        "id": "8rYIrAl6vEUa"
      },
      "outputs": [],
      "source": [
        "pip install audioread"
      ]
    },
    {
      "cell_type": "code",
      "execution_count": null,
      "metadata": {
        "id": "0fgDA31Q4O05"
      },
      "outputs": [],
      "source": [
        "!pip install keras.utils"
      ]
    },
    {
      "cell_type": "code",
      "execution_count": 21,
      "metadata": {
        "id": "ZRewMsWLRjt4"
      },
      "outputs": [],
      "source": [
        "import tensorflow.keras.layers as tfl"
      ]
    },
    {
      "cell_type": "code",
      "execution_count": 22,
      "metadata": {
        "id": "xK2o2SF0Rjt5"
      },
      "outputs": [],
      "source": [
        "import random\n",
        "import numpy as np\n",
        "import tensorflow as tf\n",
        "random.seed(299)\n",
        "np.random.seed(299)\n",
        "tf.random.set_seed(299)"
      ]
    },
    {
      "cell_type": "code",
      "execution_count": 3,
      "metadata": {
        "id": "4Y6FCemDb-Ow"
      },
      "outputs": [],
      "source": [
        "# Keras\n",
        "import keras\n",
        "from keras import regularizers\n",
        "from keras.preprocessing import sequence\n",
        "from keras.preprocessing.text import Tokenizer\n",
        "from keras.preprocessing.sequence import pad_sequences\n",
        "from keras.models import Sequential, Model, model_from_json\n",
        "from keras.layers import Dense, Embedding, LSTM\n",
        "from keras.layers import Input, Flatten, Dropout, Activation, BatchNormalization\n",
        "from keras.layers import Conv1D, MaxPooling1D, AveragePooling1D\n",
        "from keras.utils import np_utils\n",
        "from tensorflow.keras.utils import to_categorical\n",
        "from keras.callbacks import (EarlyStopping, LearningRateScheduler,\n",
        "                             ModelCheckpoint, TensorBoard, ReduceLROnPlateau)\n",
        "from keras import losses, models, optimizers\n",
        "from keras.activations import relu, softmax\n",
        "from keras.layers import (Convolution2D, GlobalAveragePooling2D, BatchNormalization, Flatten, Dropout,\n",
        "                          GlobalMaxPool2D, MaxPool2D, concatenate, Activation, Input, Dense)\n",
        "\n",
        "# sklearn\n",
        "from sklearn.preprocessing import LabelEncoder\n",
        "\n",
        "# Other  \n",
        "from tqdm import tqdm, tqdm_pandas\n",
        "import scipy\n",
        "from scipy.stats import skew\n",
        "\n",
        "import json\n",
        "import tensorflow as tf\n",
        "from matplotlib.pyplot import specgram\n",
        "\n",
        "import IPython.display as ipd  # To play sound in the notebook"
      ]
    },
    {
      "cell_type": "code",
      "execution_count": 4,
      "metadata": {
        "id": "CgToxuQVq93n"
      },
      "outputs": [],
      "source": [
        "import pandas as pd\n",
        "import librosa\n",
        "import librosa.display\n",
        "import soundfile\n",
        "import os, glob, pickle, sys\n",
        "import numpy as np\n",
        "import seaborn as sns\n",
        "import matplotlib.pyplot as plt\n",
        "\n",
        "from sklearn.model_selection import train_test_split\n",
        "from sklearn.neural_network import MLPClassifier\n",
        "from sklearn.metrics import accuracy_score\n",
        "from sklearn.preprocessing import StandardScaler, OneHotEncoder\n",
        "from sklearn.metrics import confusion_matrix, classification_report\n",
        "from sklearn.model_selection import train_test_split\n",
        "\n",
        "# to play the audio files\n",
        "from IPython.display import Audio\n",
        "\n",
        "import keras\n",
        "from keras.callbacks import ReduceLROnPlateau\n",
        "from keras.models import Sequential\n",
        "from keras.layers import Dense, Conv1D, MaxPooling1D, Flatten, Dropout, BatchNormalization\n",
        "# from keras.utils import np_utils, to_categorical\n",
        "from keras.callbacks import ModelCheckpoint"
      ]
    },
    {
      "cell_type": "code",
      "execution_count": 5,
      "metadata": {
        "id": "YUzo2SguDpCW"
      },
      "outputs": [],
      "source": [
        "import warnings\n",
        "if not sys.warnoptions:\n",
        "    warnings.simplefilter(\"ignore\")\n",
        "warnings.filterwarnings(\"ignore\", category=DeprecationWarning) "
      ]
    },
    {
      "cell_type": "code",
      "execution_count": 6,
      "metadata": {
        "colab": {
          "base_uri": "https://localhost:8080/"
        },
        "id": "OKaGPl9ew5v_",
        "outputId": "e5302b20-f1cd-4833-c9b6-7071bd24a620"
      },
      "outputs": [
        {
          "output_type": "stream",
          "name": "stdout",
          "text": [
            "Mounted at /content/gdrive\n"
          ]
        }
      ],
      "source": [
        "## path!\n",
        "\n",
        "from google.colab import drive\n",
        "drive.mount('/content/gdrive')\n",
        "\n",
        "path = 'gdrive/MyDrive/Data/audio_speech_actors_01-24/Actor_*/*.wav' \n",
        "path_2 = 'gdrive/MyDrive/Data/Actor_01/*.wav' "
      ]
    },
    {
      "cell_type": "code",
      "execution_count": 7,
      "metadata": {
        "id": "04JI7Y_orB4K"
      },
      "outputs": [],
      "source": [
        "# path_orig = 'gdrive/MyDrive/data_orig/Audio_Speech_Actors_01-24/Actor_*/*.wav' \n",
        "path_orig = 'gdrive/MyDrive/data/audio_speech_actors_01-24/Actor_*/*.wav' ## RAVDESS before padding \n",
        "path_orig2 = 'gdrive/MyDrive/data/audio_speech_actors_01-24/2sec_data/*.wav' ## RAVDESS before padding \n",
        "path_new = 'gdrive/MyDrive/data_orig/new_folder/Actor_*/*.wav' \n"
      ]
    },
    {
      "cell_type": "code",
      "execution_count": 8,
      "metadata": {
        "id": "ULWLgH2LtITt"
      },
      "outputs": [],
      "source": [
        "path_crema = 'gdrive/MyDrive/CREMA_Data/AudioWAV/*.wav' \n",
        "path_tess = 'gdrive/MyDrive/TESS_Data/dataverse_files/*.wav' \n",
        "path_tess2 = 'gdrive/MyDrive/TESS_Data/2sec_data/*.wav' "
      ]
    },
    {
      "cell_type": "code",
      "execution_count": 9,
      "metadata": {
        "colab": {
          "base_uri": "https://localhost:8080/"
        },
        "id": "ES-dt6EjWYha",
        "outputId": "73941695-98ca-403d-81f8-18c82702bc61"
      },
      "outputs": [
        {
          "output_type": "stream",
          "name": "stdout",
          "text": [
            "Collecting pydub\n",
            "  Downloading pydub-0.25.1-py2.py3-none-any.whl (32 kB)\n",
            "Installing collected packages: pydub\n",
            "Successfully installed pydub-0.25.1\n"
          ]
        }
      ],
      "source": [
        "pip install pydub"
      ]
    },
    {
      "cell_type": "code",
      "execution_count": 10,
      "metadata": {
        "id": "Bu0EghXMWPYZ"
      },
      "outputs": [],
      "source": [
        "from pydub import AudioSegment"
      ]
    },
    {
      "cell_type": "code",
      "execution_count": 12,
      "metadata": {
        "id": "yLfc7lL5ySrU"
      },
      "outputs": [],
      "source": [
        "# Emotions in the RAVDESS dataset\n",
        "emotions={\n",
        "  '01':'neutral',\n",
        "  '02':'calm',\n",
        "  '03':'happy',\n",
        "  '04':'sad',\n",
        "  '05':'angry',\n",
        "  '06':'fearful',\n",
        "  '07':'disgust',\n",
        "  '08':'surprised'\n",
        "}\n"
      ]
    },
    {
      "cell_type": "code",
      "execution_count": 13,
      "metadata": {
        "id": "2BU8hIYN-vsU"
      },
      "outputs": [],
      "source": [
        "# Emotion in the TESS dataset\n",
        "emotions_tess = {\n",
        "  'neutral':'neutral',\n",
        "  # '02':'calm',\n",
        "  'happy':'happy',\n",
        "  'sad':'sad',\n",
        "  'angry':'angry',\n",
        "  'fear':'fearful',\n",
        "  'disgust':'disgust',\n",
        "  # '08':'surprised'\n",
        "}"
      ]
    },
    {
      "cell_type": "markdown",
      "metadata": {
        "id": "bY_7URrEl3Ti"
      },
      "source": [
        "# duration setting & augmentation"
      ]
    },
    {
      "cell_type": "code",
      "execution_count": null,
      "metadata": {
        "colab": {
          "base_uri": "https://localhost:8080/"
        },
        "id": "PRS6yPEXAiCD",
        "outputId": "af51f419-5932-4e73-f0c3-3fb9fb97bce6"
      },
      "outputs": [
        {
          "name": "stdout",
          "output_type": "stream",
          "text": [
            "8398\n"
          ]
        }
      ],
      "source": [
        "def check_duration_error():\n",
        "  cnt = 0\n",
        "  for file in glob.glob(path_tess2):\n",
        "    cnt += 1\n",
        "    sound = AudioSegment.from_wav(file)\n",
        "    sound = sound.set_channels(1)\n",
        "\n",
        "    if sound.duration_seconds != float(2.0):\n",
        "      print(file)\n",
        "      print(sound.duration_seconds)\n",
        "\n",
        "  print(cnt)\n",
        "\n",
        "\n",
        "check_duration_error()"
      ]
    },
    {
      "cell_type": "code",
      "execution_count": null,
      "metadata": {
        "id": "OJLNdAzQaaDD"
      },
      "outputs": [],
      "source": [
        "## Augmentation (X3) # 13 min 31 sec\n",
        "from audiomentations import Compose, AddGaussianNoise, TimeStretch, PitchShift, Shift\n",
        "import numpy as np\n",
        "import soundfile as sf\n",
        "\n",
        "# augment = Compose([\n",
        "#     # AddGaussianNoise(min_amplitude=0.001, max_amplitude=0.015, p=0.5),\n",
        "#     TimeStretch(min_rate=0.8, max_rate=1.25, p=1),\n",
        "#     # PitchShift(min_semitones=-4, max_semitones=4, p=0.5),\n",
        "#     Shift(min_fraction=-0.5, max_fraction=0.5, p=0.5),\n",
        "# ])\n",
        "\n",
        "# Augment/transform/perturb the audio data\n",
        "# augmented_samples = augment(samples=samples, sample_rate=16000)\n",
        "\n",
        "augment_stretch = Compose([\n",
        "    TimeStretch(min_rate=0.8, max_rate=1.25, p=1)\n",
        "])\n",
        "\n",
        "augment_noise = Compose([\n",
        "    AddGaussianNoise(min_amplitude=0.001, max_amplitude=0.015, p=1)\n",
        "])\n",
        "\n",
        "for file in glob.glob(path_tess):\n",
        "\n",
        "  try:\n",
        "    file_name = os.path.basename(file)\n",
        "    y, sr = librosa.load(file)\n",
        "  \n",
        "  except:\n",
        "    print(\"decoding error\")\n",
        "    continue\n",
        "\n",
        "  augmented_samples = augment_stretch(samples=y, sample_rate=sr)\n",
        "  name = str(file)[:-4] + \"_augS_\" + str(i+1) + '.wav' \n",
        "  print(name)\n",
        "  sf.write(name, augmented_samples, sr)\n",
        "\n",
        "  augmented_samples = augment_noise(samples=y, sample_rate=sr)\n",
        "  name = str(file)[:-4] + \"_augN_\" + str(i+1) + '.wav' \n",
        "  print(name)\n",
        "  sf.write(name, augmented_samples, sr)\n",
        "\n",
        "for file in glob.glob(path_orig):\n",
        "\n",
        "  try:\n",
        "    file_name = os.path.basename(file)\n",
        "    y, sr = librosa.load(file)\n",
        "  \n",
        "  except:\n",
        "    print(\"decoding error\")\n",
        "    continue\n",
        "\n",
        "  augmented_samples = augment_stretch(samples=y, sample_rate=sr)\n",
        "  name = str(file)[:-4] + \"_augS_\" + str(i+1) + '.wav' \n",
        "  print(name)\n",
        "  sf.write(name, augmented_samples, sr)\n",
        "\n",
        "  augmented_samples = augment_noise(samples=y, sample_rate=sr)\n",
        "  name = str(file)[:-4] + \"_augN_\" + str(i+1) + '.wav' \n",
        "  print(name)\n",
        "  sf.write(name, augmented_samples, sr)\n"
      ]
    },
    {
      "cell_type": "code",
      "execution_count": null,
      "metadata": {
        "id": "vLXdItIgCzV4"
      },
      "outputs": [],
      "source": [
        "def padding_duration():\n",
        "  for file in glob.glob(path_tess):\n",
        "    try:\n",
        "      file_name=os.path.basename(file)\n",
        "\n",
        "      if file_name.split('_')[2] == 'ps.wav':\n",
        "        print(\"ps\")\n",
        "        continue\n",
        "      # y, sr = librosa.load(file_name, offset=1.0, duration=3.0)\n",
        "      sound = AudioSegment.from_wav(file)\n",
        "      sound = sound.set_channels(1)\n",
        "    except:\n",
        "      print(\"Decoding error\")\n",
        "      continue\n",
        "\n",
        "    pad_ms = 2000  # milliseconds of silence needed # 3sec\n",
        "\n",
        "    #print(\"before duration: \", sound.duration_seconds)\n",
        "\n",
        "    if float(sound.duration_seconds) < float(2.0): \n",
        "      print(\"shorter than 2\")\n",
        "      silence = AudioSegment.silent(duration = 1000)\n",
        "      # print(\"temp: \", temp)\n",
        "      print(\"sound duration: \",sound.duration_seconds)\n",
        "      # audio = AudioSegment.from_wav(file)\n",
        "      sound = silence + sound + silence  # Adding silence after the audio\n",
        "      mid_duration = int((sound.duration_seconds/2)*1000)\n",
        "      sound = sound[mid_duration - 1000:mid_duration+1000]\n",
        "      print(\"new sound duration: \", sound.duration_seconds)\n",
        "      new_filename = '/'.join(file.split('/')[:-2]) + \"/2sec_data/\" + '/'.join(file.split('/')[-1:])\n",
        "      # print(new_filename)\n",
        "      sound.export(new_filename, format='wav')\n",
        "    else:\n",
        "      print(\"longer than 2\")\n",
        "      mid_duration = int((sound.duration_seconds/2)*1000)\n",
        "      print(mid_duration)\n",
        "      sound = sound[mid_duration - 1000:mid_duration +1000]\n",
        "      new_filename = '/'.join(file.split('/')[:-2]) + \"/2sec_data/\" + '/'.join(file.split('/')[-1:])\n",
        "      print(\"new sound duration: \", sound.duration_seconds)\n",
        "      # print(new_filename)\n",
        "      sound.export(new_filename, format=\"wav\") ## exporting to new folder!!\n",
        "    \n",
        "    #print(\"after duration: \", sound.duration_seconds)\n",
        "\n",
        "    if sound.duration_seconds != 2.0:\n",
        "      print(\"duration error\")\n",
        "      return 0\n",
        "\n",
        "  for file in glob.glob(path_orig):\n",
        "    try:\n",
        "      file_name=os.path.basename(file)\n",
        "      print(file)\n",
        "\n",
        "      # y, sr = librosa.load(file_name, offset=1.0, duration=3.0)\n",
        "      sound = AudioSegment.from_wav(file)\n",
        "      sound = sound.set_channels(1)\n",
        "    except:\n",
        "      print(\"Decoding error\")\n",
        "      continue\n",
        "\n",
        "    pad_ms = 2000  # milliseconds of silence needed # 3sec\n",
        "\n",
        "    #print(\"before duration: \", sound.duration_seconds)\n",
        "\n",
        "    if float(sound.duration_seconds) < float(2.0): \n",
        "      print(\"shorter than 2\")\n",
        "\n",
        "      silence = AudioSegment.silent(duration = 1000)\n",
        "      # print(\"temp: \", temp)\n",
        "      print(\"sound duration: \",sound.duration_seconds)\n",
        "      # audio = AudioSegment.from_wav(file)\n",
        "      sound = silence + sound + silence  # Adding silence after the audio\n",
        "      mid_duration = int((sound.duration_seconds/2)*1000)\n",
        "      sound = sound[mid_duration - 1000:mid_duration+1000]\n",
        "      print(\"new sound duration: \", sound.duration_seconds)\n",
        "      new_filename = '/'.join(file.split('/')[:-2]) + \"/2sec_data/\" + '/'.join(file.split('/')[-1:])\n",
        "      # print(new_filename)\n",
        "      sound.export(new_filename, format='wav')\n",
        "    else:\n",
        "      print(\"longer than 2\")\n",
        "      mid_duration = int((sound.duration_seconds/2)*1000)\n",
        "      print(mid_duration)\n",
        "      sound = sound[mid_duration - 1000:mid_duration +1000]\n",
        "      new_filename = '/'.join(file.split('/')[:-2]) + \"/2sec_data/\" + '/'.join(file.split('/')[-1:])\n",
        "      print(\"new sound duration: \", sound.duration_seconds)\n",
        "      print(new_filename)\n",
        "      try:\n",
        "        sound.export(new_filename, format=\"wav\")\n",
        "      except:\n",
        "        print('export 안됨')\n",
        "        continue\n",
        "    \n",
        "    #print(\"after duration: \", sound.duration_seconds)\n",
        "\n",
        "    if sound.duration_seconds != 2.0:\n",
        "      print(\"duration error\")\n",
        "      return 0\n",
        "\n",
        "\n",
        "  return 0\n",
        "\n",
        "padding_duration()"
      ]
    },
    {
      "cell_type": "markdown",
      "metadata": {
        "id": "VDcmBiBVrXL5"
      },
      "source": [
        "# Baseline (MLP) \n",
        "- Accuracy 46.39%"
      ]
    },
    {
      "cell_type": "code",
      "execution_count": null,
      "metadata": {
        "id": "l6rKOfmN_vpm"
      },
      "outputs": [],
      "source": [
        "## Baseline\n",
        "def extract_feature(file_name, feature, plot_mel): # 1d mfcc\n",
        "  with soundfile.SoundFile(file_name) as sound_file:\n",
        "    X = sound_file.read(dtype=\"float32\")\n",
        "    sample_rate=sound_file.samplerate\n",
        "    result=np.array([])\n",
        "\n",
        "    if feature == 'mfcc':\n",
        "      mfccs=np.mean(librosa.feature.mfcc(y=X, sr=sample_rate, n_mfcc=40).T, axis=0) # mean\n",
        "      result=np.hstack((result, mfccs))\n",
        "    elif feature == 'mel':\n",
        "      mel = librosa.feature.melspectrogram(y=X, sr=sample_rate, n_mels=128)\n",
        "      mel = mel.flatten()\n",
        "      result=np.hstack((result, mel))\n",
        "\n",
        "      if plot_mel:\n",
        "        fig, ax = plt.subplots()\n",
        "        mel_dB = librosa.power_to_db(mel, ref=np.max)\n",
        "        img = librosa.display.specshow(mel_dB, x_axis='time', y_axis='mel', sr=sample_rate, ax=ax)\n",
        "        fig.colorbar(img, ax=ax, format='%+2.0f dB')\n",
        "        ax.set(title='Mel-frequency spectrogram')\n",
        "        print(\"mel_dB: \", mel_dB) \n",
        "        print(\"This is mel_dB.shape : \", mel_dB.shape) \n",
        "\n",
        "    return result"
      ]
    },
    {
      "cell_type": "code",
      "execution_count": null,
      "metadata": {
        "id": "Kf-RsqZX_iui"
      },
      "outputs": [],
      "source": [
        "# mfcc 1d \n",
        "def load_data_mfcc1d(test_size = 0.2, feature = 'mfcc', plot_mel = False):\n",
        "  x,y=[],[]\n",
        "\n",
        "  for file in glob.glob(path_orig2):\n",
        "    try:\n",
        "      # print(file)\n",
        "      file_name=os.path.basename(file)\n",
        "      #converting stereo audio to mono\n",
        "      sound = AudioSegment.from_wav(file)\n",
        "      sound = sound.set_channels(1)\n",
        "      sound.export(file, format=\"wav\")\n",
        "\n",
        "    except: # decoding error..\n",
        "      print(\"decoding error\")\n",
        "      continue\n",
        "\n",
        "    if 'aug' in file_name:\n",
        "      print('aug')\n",
        "      continue\n",
        "    \n",
        "    if sound.duration_seconds != 2.0:\n",
        "      print(\"duration error!\")\n",
        "      continue\n",
        "\n",
        "    emotion=emotions[file_name.split(\"-\")[2]]\n",
        "    features = extract_feature(file, feature = feature, plot_mel = plot_mel)\n",
        "    # feature = extract_feature_all(file, mfcc= True, chroma = False, mel = True)\n",
        "    x.append(features)\n",
        "    y.append(emotion)\n",
        "    print(\"x.shape: \", np.array(x).shape)\n",
        "\n",
        "  return train_test_split(np.array(x), y, test_size=test_size, random_state=9, shuffle = True)"
      ]
    },
    {
      "cell_type": "code",
      "execution_count": null,
      "metadata": {
        "id": "NkcTg4myrY3L"
      },
      "outputs": [],
      "source": [
        "x_train_mfcc1d, x_test_mfcc1d, y_train_mfcc1d, y_test_mfcc1d = load_data_mfcc1d(test_size=0.25, feature = 'mfcc', plot_mel = False) # 25sec"
      ]
    },
    {
      "cell_type": "code",
      "execution_count": null,
      "metadata": {
        "colab": {
          "base_uri": "https://localhost:8080/"
        },
        "id": "pq-DeXOy_-m8",
        "outputId": "3448d0e0-ceb0-45ad-f1dc-f175d24ad55e"
      },
      "outputs": [
        {
          "name": "stdout",
          "output_type": "stream",
          "text": [
            "(1080, 40)\n",
            "(360, 40)\n",
            "1080\n",
            "360\n"
          ]
        }
      ],
      "source": [
        "print(x_train_mfcc1d.shape)\n",
        "print(x_test_mfcc1d.shape)\n",
        "print(len(y_train_mfcc1d))\n",
        "print(len(y_test_mfcc1d))"
      ]
    },
    {
      "cell_type": "code",
      "execution_count": null,
      "metadata": {
        "id": "SmgRdmxdAEGq"
      },
      "outputs": [],
      "source": [
        "with open('gdrive/MyDrive/melmfcc_numpy/x_train_mfcc1d.npy', 'wb') as f:\n",
        "  np.save(f, x_train_mfcc1d)\n",
        "\n",
        "with open('gdrive/MyDrive/melmfcc_numpy/y_train_mfcc1d.npy', 'wb') as f:\n",
        "  np.save(f, y_train_mfcc1d)\n",
        "\n",
        "with open('gdrive/MyDrive/melmfcc_numpy/x_test_mfcc1d.npy', 'wb') as f:\n",
        "  np.save(f, x_test_mfcc1d)\n",
        "\n",
        "with open('gdrive/MyDrive/melmfcc_numpy/y_test_mfcc1d.npy', 'wb') as f:\n",
        "  np.save(f, y_test_mfcc1d) "
      ]
    },
    {
      "cell_type": "code",
      "execution_count": null,
      "metadata": {
        "id": "l-6zQOKMLm5H"
      },
      "outputs": [],
      "source": [
        "# Initialize the Multi Layer Perceptron Classifier\n",
        "model = MLPClassifier(alpha=0.01, batch_size=1, epsilon=1e-08, hidden_layer_sizes=(300,), learning_rate='adaptive', max_iter=500)"
      ]
    },
    {
      "cell_type": "code",
      "execution_count": null,
      "metadata": {
        "id": "O0y7zjHzLm5H"
      },
      "outputs": [],
      "source": [
        "# Train the model\n",
        "clf = model.fit(x_train_mfcc1d, y_train_mfcc1d) # 1min"
      ]
    },
    {
      "cell_type": "code",
      "execution_count": null,
      "metadata": {
        "id": "H-briA8RBMaf"
      },
      "outputs": [],
      "source": [
        "model.get_params()"
      ]
    },
    {
      "cell_type": "code",
      "execution_count": null,
      "metadata": {
        "id": "09RmQ61kLm5H"
      },
      "outputs": [],
      "source": [
        "# Predict for the test set\n",
        "y_pred_mfcc1d = model.predict(x_test_mfcc1d)"
      ]
    },
    {
      "cell_type": "code",
      "execution_count": null,
      "metadata": {
        "colab": {
          "base_uri": "https://localhost:8080/"
        },
        "outputId": "0b80cb08-3c5a-4f27-b0bd-2d4f3efe6811",
        "id": "DhDHWk6TLm5H"
      },
      "outputs": [
        {
          "name": "stdout",
          "output_type": "stream",
          "text": [
            "Accuracy: 46.39%\n"
          ]
        }
      ],
      "source": [
        "# Calculate the accuracy of our model\n",
        "accuracy=accuracy_score(y_true=y_test_mfcc1d, y_pred=y_pred_mfcc1d)\n",
        "# Print the accuracy\n",
        "print(\"Accuracy: {:.2f}%\".format(accuracy*100))"
      ]
    },
    {
      "cell_type": "markdown",
      "metadata": {
        "id": "MMYyeLT5AsrL"
      },
      "source": [
        "# Model A: Conv1d model (1d mfcc + 1d mel)\n",
        "- Accuracy: 79.13% (overfitting)"
      ]
    },
    {
      "cell_type": "markdown",
      "metadata": {
        "id": "h2EA8JL7BgMm"
      },
      "source": [
        "## data preprocessing (feature extraction, train test split)"
      ]
    },
    {
      "cell_type": "code",
      "execution_count": null,
      "metadata": {
        "id": "qbkXkeRVBbSv"
      },
      "outputs": [],
      "source": [
        "def extract_feature_all(file_name, mfcc, chroma, mel): # mel&mfcc 1d\n",
        "\n",
        "  with soundfile.SoundFile(file_name) as sound_file:\n",
        "      X = sound_file.read(dtype=\"float32\")\n",
        "      sample_rate=sound_file.samplerate\n",
        "      result=np.array([])\n",
        "      if chroma:\n",
        "          stft=np.abs(librosa.stft(X))\n",
        "      if mfcc:\n",
        "          mfccs=np.mean(librosa.feature.mfcc(y=X, sr=sample_rate, n_mfcc=40).T, axis=0)\n",
        "          result=np.hstack((result, mfccs))\n",
        "      if chroma:\n",
        "          chroma=np.mean(librosa.feature.chroma_stft(S=stft, sr=sample_rate).T,axis=0)\n",
        "          result=np.hstack((result, chroma))\n",
        "      if mel:\n",
        "          mel=np.mean(librosa.feature.melspectrogram(y=X, sr=sample_rate).T,axis=0)\n",
        "          result=np.hstack((result, mel))\n",
        "  # print(\"This is feature shape : \", result.shape)\n",
        "  return result"
      ]
    },
    {
      "cell_type": "code",
      "execution_count": null,
      "metadata": {
        "id": "enkIRb0rBAr3"
      },
      "outputs": [],
      "source": [
        "# all features 1d\n",
        "def load_data(test_size=0.2): \n",
        "  x,y=[],[]\n",
        "  for file in glob.glob(path_tess2):\n",
        "    \n",
        "    try:\n",
        "      file_name=os.path.basename(file)\n",
        "      #converting stereo audio to mono\n",
        "      sound = AudioSegment.from_wav(file)\n",
        "      sound = sound.set_channels(1)\n",
        "      sound.export(file, format=\"wav\")\n",
        "      if 'ps' in file_name:\n",
        "        continue\n",
        "\n",
        "    except:\n",
        "      print(\"decoding error\")\n",
        "      continue\n",
        "\n",
        "    if sound.duration_seconds != 2.0:\n",
        "      print(\"duration error!\")\n",
        "      continue\n",
        "\n",
        "    if 'aug' in file_name:\n",
        "      emotion=emotions_tess[file_name.split(\"_\")[2]]\n",
        "    else:\n",
        "      emotion=emotions_tess[file_name.split(\"_\")[2][:-4]]\n",
        "\n",
        "    feature=extract_feature_all(file, mfcc=True, chroma=False, mel=True)\n",
        "    x.append(feature)\n",
        "    y.append(emotion) \n",
        "    print(\"This is x shape: \", x.shape)\n",
        "\n",
        "  for file in glob.glob(path_orig2):\n",
        "    try:\n",
        "      # print(file)\n",
        "      file_name=os.path.basename(file)\n",
        "      #converting stereo audio to mono\n",
        "      sound = AudioSegment.from_wav(file)\n",
        "      sound = sound.set_channels(1)\n",
        "      sound.export(file, format=\"wav\")\n",
        "    except:\n",
        "      print(\"decoding error\")\n",
        "      continue\n",
        "\n",
        "    if sound.duration_seconds !=2.0:\n",
        "      print(\"duration error!\")\n",
        "      continue\n",
        "\n",
        "    emotion=emotions[file_name.split(\"-\")[2]]\n",
        "    # if emotion not in observed_emotions:\n",
        "    #     continue\n",
        "    feature=extract_feature_all(file, mfcc=True, chroma=False, mel=True)\n",
        "    x.append(feature)\n",
        "    y.append(emotion)\n",
        "    print(\"This is x shape : \", x.shape)\n",
        "\n",
        "  \n",
        "    \n",
        "  try:\n",
        "    temp = np.array(x)  \n",
        "    print(\"This is final np.array(x).shape: \", temp.shape)\n",
        "  except:\n",
        "    print(\"fail to np.array(x).shape\")\n",
        "    return x, y, x, y\n",
        "\n",
        "\n",
        "  return train_test_split(np.array(x), y, test_size=test_size, random_state=9, shuffle = True)"
      ]
    },
    {
      "cell_type": "code",
      "execution_count": null,
      "metadata": {
        "id": "1J7MYDqWAv-z"
      },
      "outputs": [],
      "source": [
        "x_train,x_test,y_train,y_test=load_data(test_size=0.25) # takes long time.."
      ]
    },
    {
      "cell_type": "code",
      "execution_count": null,
      "metadata": {
        "id": "tZYbo_oUBtan"
      },
      "outputs": [],
      "source": [
        "print(x_train.shape)\n",
        "print(x_test.shape)\n",
        "print(len(y_train))\n",
        "print(len(y_test))"
      ]
    },
    {
      "cell_type": "code",
      "execution_count": null,
      "metadata": {
        "id": "bu2oDjdvBs0E"
      },
      "outputs": [],
      "source": [
        "with open('gdrive/MyDrive/melmfcc_numpy/x_train.npy', 'wb') as f:\n",
        "  np.save(f, x_train)\n",
        "\n",
        "with open('gdrive/MyDrive/melmfcc_numpy/y_train.npy', 'wb') as f:\n",
        "  np.save(f, y_train)\n",
        "\n",
        "with open('gdrive/MyDrive/melmfcc_numpy/x_test.npy', 'wb') as f:\n",
        "  np.save(f, x_test)\n",
        "\n",
        "with open('gdrive/MyDrive/melmfcc_numpy/y_test.npy', 'wb') as f:\n",
        "  np.save(f, y_test) "
      ]
    },
    {
      "cell_type": "code",
      "execution_count": null,
      "metadata": {
        "id": "v8LeT3WNyITP"
      },
      "outputs": [],
      "source": [
        "with open('gdrive/MyDrive/melmfcc_numpy/x_train.npy', 'rb') as f:\n",
        "  x_train = np.load(f)\n",
        "\n",
        "with open('gdrive/MyDrive/melmfcc_numpy/y_train.npy', 'rb') as f:\n",
        "  y_train = np.load(f)\n",
        "\n",
        "with open('gdrive/MyDrive/melmfcc_numpy/x_test.npy', 'rb') as f:\n",
        "  x_test = np.load(f)\n",
        "\n",
        "with open('gdrive/MyDrive/melmfcc_numpy/y_test.npy', 'rb') as f:\n",
        "  y_test = np.load(f) "
      ]
    },
    {
      "cell_type": "markdown",
      "metadata": {
        "id": "AYYN2R31Byko"
      },
      "source": [
        "## model (conv1d)"
      ]
    },
    {
      "cell_type": "code",
      "execution_count": null,
      "metadata": {
        "id": "D_C86MidB22y"
      },
      "outputs": [],
      "source": [
        "# one hot encode the target \n",
        "lb = LabelEncoder()\n",
        "y_train_onehot = np_utils.to_categorical(lb.fit_transform(y_train)) # one hot ?\n",
        "y_test_onehot = np_utils.to_categorical(lb.fit_transform(y_test))"
      ]
    },
    {
      "cell_type": "code",
      "execution_count": null,
      "metadata": {
        "id": "QYItcDc9B_Bv"
      },
      "outputs": [],
      "source": [
        "scaler_data = StandardScaler()\n",
        "\n",
        "x_train_scale = scaler_data.fit_transform(x_train)\n",
        "x_test_scale = scaler_data.transform(x_test)"
      ]
    },
    {
      "cell_type": "code",
      "execution_count": null,
      "metadata": {
        "colab": {
          "base_uri": "https://localhost:8080/"
        },
        "id": "8T-4MYo3CDqz",
        "outputId": "ad292985-6428-47d4-edb0-91bbea6de077"
      },
      "outputs": [
        {
          "name": "stdout",
          "output_type": "stream",
          "text": [
            "(8638, 168, 1)\n",
            "(2880, 168, 1)\n"
          ]
        }
      ],
      "source": [
        "x_train_scale = np.expand_dims(x_train_scale, axis=-1)\n",
        "x_test_scale = np.expand_dims(x_test_scale, axis=-1)\n",
        "print(x_train_scale.shape)\n",
        "print(x_test_scale.shape)"
      ]
    },
    {
      "cell_type": "code",
      "execution_count": null,
      "metadata": {
        "id": "styS9SjmCQNq"
      },
      "outputs": [],
      "source": [
        "Model=Sequential()\n",
        "Model.add(Conv1D(256, kernel_size=5, strides=1, padding='same', activation='relu', input_shape=(x_train.shape[1], 1))) # 3\n",
        "Model.add(MaxPooling1D(pool_size=5, strides = 2, padding = 'same'))\n",
        "\n",
        "Model.add(Conv1D(256, kernel_size=5, strides=1, padding='same', activation='relu'))\n",
        "Model.add(MaxPooling1D(pool_size=5, strides = 2, padding = 'same'))\n",
        "\n",
        "Model.add(Conv1D(128, kernel_size=5, strides=1, padding='same', activation='relu'))\n",
        "Model.add(MaxPooling1D(pool_size=5, strides = 2, padding = 'same'))\n",
        "Model.add(Dropout(0.2))\n",
        "\n",
        "Model.add(Conv1D(64, kernel_size=5, strides=1, padding='same', activation='relu'))\n",
        "Model.add(MaxPooling1D(pool_size=5, strides = 2, padding = 'same'))\n",
        "\n",
        "Model.add(Flatten())\n",
        "Model.add(Dense(units=32, activation='relu'))\n",
        "Model.add(Dropout(0.3))\n",
        "\n",
        "Model.add(Dense(units=8, activation='softmax'))"
      ]
    },
    {
      "cell_type": "code",
      "execution_count": null,
      "metadata": {
        "id": "zWesgmkXCpeE"
      },
      "outputs": [],
      "source": [
        "Model.compile(optimizer = 'adam' , loss = 'categorical_crossentropy' , metrics = ['accuracy'])"
      ]
    },
    {
      "cell_type": "code",
      "execution_count": null,
      "metadata": {
        "colab": {
          "base_uri": "https://localhost:8080/"
        },
        "id": "dHrDOXrMCqDG",
        "outputId": "a8535b88-bf84-44ae-a871-2c9d3779989d"
      },
      "outputs": [
        {
          "name": "stdout",
          "output_type": "stream",
          "text": [
            "Model: \"sequential_3\"\n",
            "_________________________________________________________________\n",
            " Layer (type)                Output Shape              Param #   \n",
            "=================================================================\n",
            " conv1d_8 (Conv1D)           (None, 168, 256)          1536      \n",
            "                                                                 \n",
            " max_pooling1d_8 (MaxPooling  (None, 84, 256)          0         \n",
            " 1D)                                                             \n",
            "                                                                 \n",
            " conv1d_9 (Conv1D)           (None, 84, 256)           327936    \n",
            "                                                                 \n",
            " max_pooling1d_9 (MaxPooling  (None, 42, 256)          0         \n",
            " 1D)                                                             \n",
            "                                                                 \n",
            " conv1d_10 (Conv1D)          (None, 42, 128)           163968    \n",
            "                                                                 \n",
            " max_pooling1d_10 (MaxPoolin  (None, 21, 128)          0         \n",
            " g1D)                                                            \n",
            "                                                                 \n",
            " dropout_4 (Dropout)         (None, 21, 128)           0         \n",
            "                                                                 \n",
            " conv1d_11 (Conv1D)          (None, 21, 64)            41024     \n",
            "                                                                 \n",
            " max_pooling1d_11 (MaxPoolin  (None, 11, 64)           0         \n",
            " g1D)                                                            \n",
            "                                                                 \n",
            " flatten_2 (Flatten)         (None, 704)               0         \n",
            "                                                                 \n",
            " dense_4 (Dense)             (None, 32)                22560     \n",
            "                                                                 \n",
            " dropout_5 (Dropout)         (None, 32)                0         \n",
            "                                                                 \n",
            " dense_5 (Dense)             (None, 8)                 264       \n",
            "                                                                 \n",
            "=================================================================\n",
            "Total params: 557,288\n",
            "Trainable params: 557,288\n",
            "Non-trainable params: 0\n",
            "_________________________________________________________________\n"
          ]
        }
      ],
      "source": [
        "Model.summary()"
      ]
    },
    {
      "cell_type": "code",
      "execution_count": null,
      "metadata": {
        "id": "aU2BaNryCrGP"
      },
      "outputs": [],
      "source": [
        "epoch = 50\n",
        "batch = 32\n",
        "history = Model.fit(x_train_scale, y_train_onehot, batch_size=batch, epochs=epoch, validation_data=(x_test_scale, y_test_onehot))"
      ]
    },
    {
      "cell_type": "code",
      "execution_count": null,
      "metadata": {
        "colab": {
          "base_uri": "https://localhost:8080/"
        },
        "id": "ew1LAuuPCviF",
        "outputId": "eeb76bad-00d0-4720-b566-6b207e6d96d2"
      },
      "outputs": [
        {
          "name": "stdout",
          "output_type": "stream",
          "text": [
            "90/90 [==============================] - 4s 45ms/step - loss: 0.6937 - accuracy: 0.7778\n"
          ]
        }
      ],
      "source": [
        "temp = Model.evaluate(x_test_scale, y_test_onehot)"
      ]
    },
    {
      "cell_type": "markdown",
      "metadata": {
        "id": "WfcG7ViHNqtO"
      },
      "source": [
        "### loss & acc plot, heat map\n"
      ]
    },
    {
      "cell_type": "code",
      "execution_count": null,
      "metadata": {
        "colab": {
          "base_uri": "https://localhost:8080/",
          "height": 438
        },
        "outputId": "c4cc6bdd-5375-4268-bc4c-e9510794668a",
        "id": "x4Y2OpHNNqtO"
      },
      "outputs": [
        {
          "name": "stdout",
          "output_type": "stream",
          "text": [
            "90/90 [==============================] - 4s 48ms/step - loss: 0.6875 - accuracy: 0.7913\n",
            "Accuracy of our model on test data :  79.13194298744202 %\n"
          ]
        },
        {
          "data": {
            "image/png": "[encoded data removed]",
            "text/plain": [
              "<Figure size 1440x432 with 2 Axes>"
            ]
          },
          "metadata": {},
          "output_type": "display_data"
        }
      ],
      "source": [
        "print(\"Accuracy of our model on test data : \" , Model.evaluate(x_test_scale, y_test_onehot)[1]*100 , \"%\")\n",
        "# epochs = 50\n",
        "\n",
        "epochs = [i for i in range(epoch)] # epoch!\n",
        "fig , ax = plt.subplots(1,2)\n",
        "train_acc = history.history['accuracy']\n",
        "train_loss = history.history['loss']\n",
        "test_acc = history.history['val_accuracy']\n",
        "test_loss = history.history['val_loss']\n",
        "\n",
        "fig.set_size_inches(20,6)\n",
        "ax[0].plot(epochs , train_loss , label = 'Training Loss')\n",
        "ax[0].plot(epochs , test_loss , label = 'Testing Loss')\n",
        "ax[0].set_title('Training & Testing Loss')\n",
        "ax[0].legend()\n",
        "ax[0].set_xlabel(\"Epochs\")\n",
        "\n",
        "ax[1].plot(epochs , train_acc , label = 'Training Accuracy')\n",
        "ax[1].plot(epochs , test_acc , label = 'Testing Accuracy')\n",
        "ax[1].set_title('Training & Testing Accuracy')\n",
        "ax[1].legend()\n",
        "ax[1].set_xlabel(\"Epochs\")\n",
        "plt.show()"
      ]
    },
    {
      "cell_type": "code",
      "execution_count": null,
      "metadata": {
        "id": "8cMOspx3NqtO"
      },
      "outputs": [],
      "source": [
        "lb = LabelEncoder()\n",
        "emotion = ['neutral', 'calm', 'happy', 'sad', 'angry', 'fearful', 'disgust', 'surprised']\n",
        "lb.fit(emotion)\n",
        "\n",
        "pred_test = Model.predict(x_test_scale)\n",
        "\n",
        "# print(pred_test.shape)\n",
        "# print(np.argmax(pred_test, axis = 1))\n",
        "# print(np.argmax(pred_test, axis = 1).shape)\n",
        "\n",
        "pred_test = np.argmax(pred_test, axis = 1)\n",
        "y_pred = lb.inverse_transform(pred_test) ## number -> string (emotion)\n",
        "\n",
        "# print(y_pred.shape) # (358,)\n",
        "# print(y_test_mel2d.shape) # list. 358"
      ]
    },
    {
      "cell_type": "code",
      "execution_count": null,
      "metadata": {
        "colab": {
          "base_uri": "https://localhost:8080/",
          "height": 630
        },
        "outputId": "f656b9f7-f90e-49b9-aca4-09993a93bce0",
        "id": "yC2WU9TGNqtP"
      },
      "outputs": [
        {
          "data": {
            "image/png": "[encoded data removed]",
            "text/plain": [
              "<Figure size 864x720 with 2 Axes>"
            ]
          },
          "metadata": {},
          "output_type": "display_data"
        }
      ],
      "source": [
        "cm = confusion_matrix(y_test, y_pred)\n",
        "plt.figure(figsize = (12, 10))\n",
        "# cm = pd.DataFrame(cm , index = [i for i in lb.categories_] , columns = [i for i in lb.categories_])\n",
        "cm = pd.DataFrame(cm , index = [i for i in emotion] , columns = [i for i in emotion])\n",
        "sns.heatmap(cm, linecolor='white', cmap='Blues', linewidth=1, annot=True, fmt='')\n",
        "plt.title('Confusion Matrix', size=20)\n",
        "plt.xlabel('Predicted Labels', size=14)\n",
        "plt.ylabel('Actual Labels', size=14)\n",
        "plt.show()"
      ]
    },
    {
      "cell_type": "markdown",
      "metadata": {
        "id": "HgJ2y5Cn8Lhe"
      },
      "source": [
        "# Model B: Conv2d model\n",
        "- Accuracy: 73.75%"
      ]
    },
    {
      "cell_type": "markdown",
      "metadata": {
        "id": "Px0rKoKy9rRI"
      },
      "source": [
        "## data preprocessing (feature extraction, train test split)"
      ]
    },
    {
      "cell_type": "code",
      "execution_count": null,
      "metadata": {
        "id": "tFiYUxYM9F65"
      },
      "outputs": [],
      "source": [
        "def extract_mel2d(file, plot_mel = False): # mel 2d\n",
        "\n",
        "  y, sr = librosa.load(file, sr = 48000)\n",
        "  result=np.array([])\n",
        "\n",
        "  mel = librosa.feature.melspectrogram(y=y, sr=48000, n_mels=128)\n",
        "  # print(\"shape of mel: \", mel.shape)\n",
        "\n",
        "  result = np.array(mel)\n",
        "  result = np.expand_dims(result, axis=-1)\n",
        "  # print(\"shape of result : \", result.shape)\n",
        "\n",
        "  if plot_mel:\n",
        "    fig, ax = plt.subplots()\n",
        "    mel_dB = librosa.power_to_db(mel, ref=np.max)\n",
        "    img = librosa.display.specshow(mel_dB, x_axis='time', y_axis='mel', sr=sr, ax=ax)\n",
        "    fig.colorbar(img, ax=ax, format='%+2.0f dB')\n",
        "    title = 'Mel Spectrogram'\n",
        "\n",
        "    ax.set(title=title)\n",
        "    # print(\"mel_dB: \", mel_dB) \n",
        "    # print(\"This is mel_dB.shape : \", mel_dB.shape) # (128, 300-400)\n",
        "    plt.show()\n",
        "\n",
        "  return result"
      ]
    },
    {
      "cell_type": "code",
      "execution_count": null,
      "metadata": {
        "id": "z_pD0yRW9E6D"
      },
      "outputs": [],
      "source": [
        "# mel 2d \n",
        "def load_data_mel2d(test_size = 0.2, plot_mel = False):\n",
        "\n",
        "  x = np.array([])\n",
        "  cnt = 0\n",
        "  # x,y=[],[]\n",
        "  y = []\n",
        "\n",
        "  for file in glob.glob(path_tess2):\n",
        "    \n",
        "    try:\n",
        "      file_name=os.path.basename(file)\n",
        "      #converting stereo audio to mono\n",
        "      sound = AudioSegment.from_wav(file)\n",
        "      sound = sound.set_channels(1)\n",
        "      sound.export(file, format=\"wav\")\n",
        "\n",
        "    except:\n",
        "      print(\"decoding error\")\n",
        "      continue\n",
        "    \n",
        "    if 'ps' in file_name:\n",
        "        continue\n",
        "\n",
        "    if sound.duration_seconds != 2.0:\n",
        "      print(\"duration error!\")\n",
        "      continue\n",
        "\n",
        "    \n",
        "    if 'aug' in file_name:\n",
        "      emotion=emotions_tess[file_name.split(\"_\")[2]]\n",
        "    else:\n",
        "      emotion=emotions_tess[file_name.split(\"_\")[2][:-4]]\n",
        "      \n",
        "    features = extract_mel2d(file, plot_mel)\n",
        "    # cnt += 1\n",
        "\n",
        "    if x.size == 0:\n",
        "      features = features.reshape(1, features.shape[0], features.shape[1], features.shape[2])\n",
        "      x = features\n",
        "    else:\n",
        "      features = features.reshape(1, features.shape[0], features.shape[1], features.shape[2])\n",
        "      x = np.vstack((x, features))\n",
        "\n",
        "    print(\"This is x.shape: \", x.shape)\n",
        "    # print(x)\n",
        "    y.append(emotion)\n",
        "    # print(\"append success\") \n",
        "\n",
        "  for file in glob.glob(path_orig2):\n",
        "    \n",
        "    try:\n",
        "      file_name=os.path.basename(file)\n",
        "      #converting stereo audio to mono\n",
        "      sound = AudioSegment.from_wav(file)\n",
        "      sound = sound.set_channels(1)\n",
        "      sound.export(file, format=\"wav\")\n",
        "\n",
        "\n",
        "    except:\n",
        "      print(\"decoding error\")\n",
        "      continue\n",
        "\n",
        "    if sound.duration_seconds != 2.0:\n",
        "      print(\"duration error!\")\n",
        "      continue\n",
        "\n",
        "    emotion=emotions[file_name.split(\"-\")[2]]\n",
        "    features = extract_mel2d(file, plot_mel)\n",
        "    # cnt += 1\n",
        "\n",
        "    if x.size == 0:\n",
        "      features = features.reshape(1, features.shape[0], features.shape[1], features.shape[2])\n",
        "      x = features\n",
        "    else:\n",
        "      features = features.reshape(1, features.shape[0], features.shape[1], features.shape[2])\n",
        "      x = np.vstack((x, features))\n",
        "\n",
        "    print(\"This is x.shape: \", x.shape)\n",
        "    # print(x)\n",
        "    y.append(emotion)\n",
        "    # print(\"append success\")\n",
        "\n",
        "    \n",
        "  try:\n",
        "    temp = np.array(x)  \n",
        "    print(\"This is final np.array(x).shape: \", temp.shape)\n",
        "  except:\n",
        "    print(\"fail to np.array(x).shape\")\n",
        "    return x, y, x, y\n",
        "\n",
        "  # return x, y\n",
        "  return train_test_split(np.array(x), y, test_size=test_size, random_state=9, shuffle=True)"
      ]
    },
    {
      "cell_type": "code",
      "execution_count": null,
      "metadata": {
        "id": "HfpCOh1e8Kuf"
      },
      "outputs": [],
      "source": [
        "x_train_mel2d, x_test_mel2d, y_train_mel2d, y_test_mel2d = load_data_mel2d(test_size = 0.25, plot_mel = False) "
      ]
    },
    {
      "cell_type": "code",
      "execution_count": null,
      "metadata": {
        "colab": {
          "base_uri": "https://localhost:8080/"
        },
        "id": "wSlYKtHS9UkD",
        "outputId": "1d882525-c51b-43d8-caab-a3e41fdb2751"
      },
      "outputs": [
        {
          "name": "stdout",
          "output_type": "stream",
          "text": [
            "(8638, 128, 188, 1)\n",
            "(2880, 128, 188, 1)\n",
            "8638\n",
            "2880\n"
          ]
        }
      ],
      "source": [
        "print(x_train_mel2d.shape) # should be (n, 128, 188)\n",
        "print(x_test_mel2d.shape)\n",
        "print(len(y_train_mel2d))\n",
        "print(len(y_test_mel2d))"
      ]
    },
    {
      "cell_type": "code",
      "execution_count": null,
      "metadata": {
        "id": "4BzfzDYQ9fQe"
      },
      "outputs": [],
      "source": [
        "## exporting mel2d data\n",
        "\n",
        "with open('gdrive/MyDrive/mel_numpy/mel_aug_numpy/x_train_mel2d.npy', 'wb') as f:\n",
        "  np.save(f, x_train_mel2d)\n",
        "\n",
        "with open('gdrive/MyDrive/mel_numpy/mel_aug_numpy/y_train_mel2d.npy', 'wb') as f:\n",
        "  np.save(f, y_train_mel2d)\n",
        "\n",
        "with open('gdrive/MyDrive/mel_numpy/mel_aug_numpy/x_test_mel2d.npy', 'wb') as f:\n",
        "  np.save(f, x_test_mel2d)\n",
        "\n",
        "with open('gdrive/MyDrive/mel_numpy/mel_aug_numpy/y_test_mel2d.npy', 'wb') as f:\n",
        "  np.save(f, y_test_mel2d) "
      ]
    },
    {
      "cell_type": "code",
      "execution_count": 15,
      "metadata": {
        "id": "-0V8R3UHiDkZ"
      },
      "outputs": [],
      "source": [
        "with open('gdrive/MyDrive/mel_numpy/mel_aug_numpy/x_train_mel2d.npy', 'rb') as f:\n",
        "  x_train_mel2d = np.load(f)\n",
        "\n",
        "with open('gdrive/MyDrive/mel_numpy/mel_aug_numpy/y_train_mel2d.npy', 'rb') as f:\n",
        "  y_train_mel2d = np.load(f)\n",
        "\n",
        "with open('gdrive/MyDrive/mel_numpy/mel_aug_numpy/x_test_mel2d.npy', 'rb') as f:\n",
        "  x_test_mel2d = np.load(f)\n",
        "\n",
        "with open('gdrive/MyDrive/mel_numpy/mel_aug_numpy/y_test_mel2d.npy', 'rb') as f:\n",
        "  y_test_mel2d = np.load(f)"
      ]
    },
    {
      "cell_type": "markdown",
      "metadata": {
        "id": "YT9EgsPS-KUp"
      },
      "source": [
        "## conv2d model"
      ]
    },
    {
      "cell_type": "code",
      "execution_count": 16,
      "metadata": {
        "id": "9TccqZpz1HiJ"
      },
      "outputs": [],
      "source": [
        "# one hot encode the target \n",
        "lb = LabelEncoder()\n",
        "y_train_mel2d_onehot = np_utils.to_categorical(lb.fit_transform(y_train_mel2d))\n",
        "y_test_mel2d_onehot = np_utils.to_categorical(lb.fit_transform(y_test_mel2d))"
      ]
    },
    {
      "cell_type": "code",
      "execution_count": null,
      "metadata": {
        "id": "oa8r1WGh1HiK"
      },
      "outputs": [],
      "source": [
        "print(y_train_mel2d_onehot)\n",
        "print(y_test_mel2d_onehot)\n",
        "print(y_train_mel2d_onehot.shape)\n",
        "print(y_test_mel2d_onehot.shape)"
      ]
    },
    {
      "cell_type": "code",
      "execution_count": 23,
      "metadata": {
        "id": "5_ax80Cp1HiM"
      },
      "outputs": [],
      "source": [
        "def convolutional_model(input_shape):\n",
        "    input_img = tf.keras.Input(shape=input_shape)\n",
        "    Z1 = tfl.Conv2D(8, (4, 4), strides = (1, 1), padding = 'SAME')(input_img)\n",
        "    A1 = tfl.ReLU()(Z1)\n",
        "    P1 = tfl.MaxPool2D(pool_size=(8, 8), strides=8, padding = \"SAME\")(A1)\n",
        "    D1 = Dropout(rate=0.2)(P1)\n",
        "    \n",
        "    Z2 = tfl.Conv2D(16, (2, 2), strides = (1, 1), padding = 'SAME')(D1) \n",
        "    A2 = tfl.ReLU()(Z2)\n",
        "    P2 = tfl.MaxPool2D((4, 4), (4, 4), padding= 'SAME')(A2)\n",
        "    D2 = Dropout(rate = 0.2)(P2)\n",
        "    F = tfl.Flatten()(D2)\n",
        "    outputs = tfl.Dense(8, activation = 'softmax')(F)\n",
        "    \n",
        "    model = tf.keras.Model(inputs=input_img, outputs=outputs)\n",
        "    return model"
      ]
    },
    {
      "cell_type": "code",
      "execution_count": 24,
      "metadata": {
        "id": "LTbA3bIJ1HiM"
      },
      "outputs": [],
      "source": [
        "optimizer = tf.keras.optimizers.Adam(0.001)"
      ]
    },
    {
      "cell_type": "code",
      "execution_count": 25,
      "metadata": {
        "colab": {
          "base_uri": "https://localhost:8080/"
        },
        "id": "XDNb2T6b1HiN",
        "outputId": "8842f1cb-95b4-4fb6-f620-e8f1786f4a80"
      },
      "outputs": [
        {
          "output_type": "stream",
          "name": "stdout",
          "text": [
            "Model: \"model\"\n",
            "_________________________________________________________________\n",
            " Layer (type)                Output Shape              Param #   \n",
            "=================================================================\n",
            " input_2 (InputLayer)        [(None, 128, 188, 1)]     0         \n",
            "                                                                 \n",
            " conv2d (Conv2D)             (None, 128, 188, 8)       136       \n",
            "                                                                 \n",
            " re_lu (ReLU)                (None, 128, 188, 8)       0         \n",
            "                                                                 \n",
            " max_pooling2d (MaxPooling2D  (None, 16, 24, 8)        0         \n",
            " )                                                               \n",
            "                                                                 \n",
            " dropout (Dropout)           (None, 16, 24, 8)         0         \n",
            "                                                                 \n",
            " conv2d_1 (Conv2D)           (None, 16, 24, 16)        528       \n",
            "                                                                 \n",
            " re_lu_1 (ReLU)              (None, 16, 24, 16)        0         \n",
            "                                                                 \n",
            " max_pooling2d_1 (MaxPooling  (None, 4, 6, 16)         0         \n",
            " 2D)                                                             \n",
            "                                                                 \n",
            " dropout_1 (Dropout)         (None, 4, 6, 16)          0         \n",
            "                                                                 \n",
            " flatten (Flatten)           (None, 384)               0         \n",
            "                                                                 \n",
            " dense (Dense)               (None, 8)                 3080      \n",
            "                                                                 \n",
            "=================================================================\n",
            "Total params: 3,744\n",
            "Trainable params: 3,744\n",
            "Non-trainable params: 0\n",
            "_________________________________________________________________\n"
          ]
        }
      ],
      "source": [
        "conv_model = convolutional_model((x_train_mel2d.shape[1], x_train_mel2d.shape[2], x_train_mel2d.shape[3]))\n",
        "conv_model.compile(optimizer=optimizer,\n",
        "                  loss='categorical_crossentropy',\n",
        "                  metrics=['accuracy'])\n",
        "conv_model.summary()"
      ]
    },
    {
      "cell_type": "code",
      "execution_count": 26,
      "metadata": {
        "colab": {
          "base_uri": "https://localhost:8080/"
        },
        "id": "iYSrp_l21HiN",
        "outputId": "32ec8314-b939-4734-c047-a29c4a662d2e"
      },
      "outputs": [
        {
          "output_type": "stream",
          "name": "stdout",
          "text": [
            "Epoch 1/50\n",
            "270/270 [==============================] - 12s 9ms/step - loss: 2.9172 - accuracy: 0.2890 - val_loss: 1.7479 - val_accuracy: 0.3972\n",
            "Epoch 2/50\n",
            "270/270 [==============================] - 2s 7ms/step - loss: 1.7423 - accuracy: 0.3795 - val_loss: 1.6533 - val_accuracy: 0.4563\n",
            "Epoch 3/50\n",
            "270/270 [==============================] - 2s 7ms/step - loss: 1.6255 - accuracy: 0.4190 - val_loss: 1.5865 - val_accuracy: 0.4684\n",
            "Epoch 4/50\n",
            "270/270 [==============================] - 2s 7ms/step - loss: 1.5351 - accuracy: 0.4619 - val_loss: 1.5123 - val_accuracy: 0.5080\n",
            "Epoch 5/50\n",
            "270/270 [==============================] - 2s 7ms/step - loss: 1.4974 - accuracy: 0.4826 - val_loss: 1.4316 - val_accuracy: 0.5160\n",
            "Epoch 6/50\n",
            "270/270 [==============================] - 2s 7ms/step - loss: 1.4269 - accuracy: 0.5091 - val_loss: 1.3616 - val_accuracy: 0.5517\n",
            "Epoch 7/50\n",
            "270/270 [==============================] - 2s 7ms/step - loss: 1.3868 - accuracy: 0.5366 - val_loss: 1.3223 - val_accuracy: 0.5757\n",
            "Epoch 8/50\n",
            "270/270 [==============================] - 2s 7ms/step - loss: 1.3356 - accuracy: 0.5575 - val_loss: 1.2463 - val_accuracy: 0.5976\n",
            "Epoch 9/50\n",
            "270/270 [==============================] - 2s 7ms/step - loss: 1.2936 - accuracy: 0.5803 - val_loss: 1.2345 - val_accuracy: 0.6347\n",
            "Epoch 10/50\n",
            "270/270 [==============================] - 2s 7ms/step - loss: 1.2379 - accuracy: 0.6059 - val_loss: 1.1930 - val_accuracy: 0.6462\n",
            "Epoch 11/50\n",
            "270/270 [==============================] - 2s 7ms/step - loss: 1.2287 - accuracy: 0.6181 - val_loss: 1.1600 - val_accuracy: 0.6576\n",
            "Epoch 12/50\n",
            "270/270 [==============================] - 2s 7ms/step - loss: 1.1679 - accuracy: 0.6322 - val_loss: 1.1157 - val_accuracy: 0.6788\n",
            "Epoch 13/50\n",
            "270/270 [==============================] - 2s 7ms/step - loss: 1.1403 - accuracy: 0.6418 - val_loss: 1.0845 - val_accuracy: 0.6698\n",
            "Epoch 14/50\n",
            "270/270 [==============================] - 2s 7ms/step - loss: 1.1220 - accuracy: 0.6510 - val_loss: 1.0668 - val_accuracy: 0.6781\n",
            "Epoch 15/50\n",
            "270/270 [==============================] - 2s 7ms/step - loss: 1.0745 - accuracy: 0.6517 - val_loss: 1.0356 - val_accuracy: 0.6875\n",
            "Epoch 16/50\n",
            "270/270 [==============================] - 2s 7ms/step - loss: 1.0597 - accuracy: 0.6589 - val_loss: 1.0159 - val_accuracy: 0.6743\n",
            "Epoch 17/50\n",
            "270/270 [==============================] - 2s 9ms/step - loss: 1.1334 - accuracy: 0.6449 - val_loss: 1.0110 - val_accuracy: 0.6892\n",
            "Epoch 18/50\n",
            "270/270 [==============================] - 3s 10ms/step - loss: 1.0419 - accuracy: 0.6732 - val_loss: 0.9915 - val_accuracy: 0.6938\n",
            "Epoch 19/50\n",
            "270/270 [==============================] - 3s 10ms/step - loss: 1.0318 - accuracy: 0.6743 - val_loss: 1.0164 - val_accuracy: 0.6931\n",
            "Epoch 20/50\n",
            "270/270 [==============================] - 3s 10ms/step - loss: 1.0097 - accuracy: 0.6737 - val_loss: 0.9631 - val_accuracy: 0.6990\n",
            "Epoch 21/50\n",
            "270/270 [==============================] - 3s 10ms/step - loss: 1.0120 - accuracy: 0.6821 - val_loss: 1.0156 - val_accuracy: 0.6917\n",
            "Epoch 22/50\n",
            "270/270 [==============================] - 3s 10ms/step - loss: 0.9755 - accuracy: 0.6884 - val_loss: 0.9760 - val_accuracy: 0.7024\n",
            "Epoch 23/50\n",
            "270/270 [==============================] - 2s 9ms/step - loss: 0.9805 - accuracy: 0.6897 - val_loss: 0.9451 - val_accuracy: 0.7049\n",
            "Epoch 24/50\n",
            "270/270 [==============================] - 2s 7ms/step - loss: 0.9501 - accuracy: 0.6932 - val_loss: 0.9584 - val_accuracy: 0.7066\n",
            "Epoch 25/50\n",
            "270/270 [==============================] - 2s 7ms/step - loss: 0.9481 - accuracy: 0.6946 - val_loss: 0.9040 - val_accuracy: 0.7122\n",
            "Epoch 26/50\n",
            "270/270 [==============================] - 2s 7ms/step - loss: 0.9605 - accuracy: 0.6974 - val_loss: 0.8912 - val_accuracy: 0.7108\n",
            "Epoch 27/50\n",
            "270/270 [==============================] - 2s 7ms/step - loss: 0.9291 - accuracy: 0.7034 - val_loss: 0.9098 - val_accuracy: 0.7167\n",
            "Epoch 28/50\n",
            "270/270 [==============================] - 2s 7ms/step - loss: 0.9374 - accuracy: 0.7005 - val_loss: 0.9583 - val_accuracy: 0.7021\n",
            "Epoch 29/50\n",
            "270/270 [==============================] - 2s 8ms/step - loss: 0.9197 - accuracy: 0.6985 - val_loss: 0.8742 - val_accuracy: 0.7208\n",
            "Epoch 30/50\n",
            "270/270 [==============================] - 2s 8ms/step - loss: 0.9025 - accuracy: 0.7048 - val_loss: 0.8737 - val_accuracy: 0.7243\n",
            "Epoch 31/50\n",
            "270/270 [==============================] - 2s 9ms/step - loss: 0.9151 - accuracy: 0.7035 - val_loss: 0.9368 - val_accuracy: 0.7149\n",
            "Epoch 32/50\n",
            "270/270 [==============================] - 2s 8ms/step - loss: 0.8856 - accuracy: 0.7087 - val_loss: 0.8402 - val_accuracy: 0.7236\n",
            "Epoch 33/50\n",
            "270/270 [==============================] - 2s 9ms/step - loss: 0.8940 - accuracy: 0.7098 - val_loss: 0.8648 - val_accuracy: 0.7226\n",
            "Epoch 34/50\n",
            "270/270 [==============================] - 2s 8ms/step - loss: 0.8896 - accuracy: 0.7164 - val_loss: 0.8621 - val_accuracy: 0.7205\n",
            "Epoch 35/50\n",
            "270/270 [==============================] - 2s 8ms/step - loss: 0.8744 - accuracy: 0.7122 - val_loss: 0.8571 - val_accuracy: 0.7236\n",
            "Epoch 36/50\n",
            "270/270 [==============================] - 2s 8ms/step - loss: 0.8637 - accuracy: 0.7154 - val_loss: 0.8342 - val_accuracy: 0.7299\n",
            "Epoch 37/50\n",
            "270/270 [==============================] - 2s 8ms/step - loss: 0.8696 - accuracy: 0.7149 - val_loss: 0.8338 - val_accuracy: 0.7271\n",
            "Epoch 38/50\n",
            "270/270 [==============================] - 2s 7ms/step - loss: 0.8744 - accuracy: 0.7084 - val_loss: 0.8223 - val_accuracy: 0.7309\n",
            "Epoch 39/50\n",
            "270/270 [==============================] - 2s 7ms/step - loss: 0.8383 - accuracy: 0.7201 - val_loss: 0.8164 - val_accuracy: 0.7299\n",
            "Epoch 40/50\n",
            "270/270 [==============================] - 2s 7ms/step - loss: 0.8527 - accuracy: 0.7229 - val_loss: 0.8254 - val_accuracy: 0.7302\n",
            "Epoch 41/50\n",
            "270/270 [==============================] - 2s 7ms/step - loss: 0.8691 - accuracy: 0.7216 - val_loss: 0.8596 - val_accuracy: 0.7208\n",
            "Epoch 42/50\n",
            "270/270 [==============================] - 2s 8ms/step - loss: 0.8762 - accuracy: 0.7150 - val_loss: 0.8654 - val_accuracy: 0.7128\n",
            "Epoch 43/50\n",
            "270/270 [==============================] - 2s 8ms/step - loss: 0.8616 - accuracy: 0.7160 - val_loss: 0.8272 - val_accuracy: 0.7253\n",
            "Epoch 44/50\n",
            "270/270 [==============================] - 2s 9ms/step - loss: 0.8431 - accuracy: 0.7226 - val_loss: 0.8036 - val_accuracy: 0.7333\n",
            "Epoch 45/50\n",
            "270/270 [==============================] - 2s 8ms/step - loss: 0.8330 - accuracy: 0.7284 - val_loss: 0.8070 - val_accuracy: 0.7295\n",
            "Epoch 46/50\n",
            "270/270 [==============================] - 2s 8ms/step - loss: 0.8371 - accuracy: 0.7247 - val_loss: 0.7951 - val_accuracy: 0.7330\n",
            "Epoch 47/50\n",
            "270/270 [==============================] - 2s 8ms/step - loss: 0.8387 - accuracy: 0.7277 - val_loss: 0.7936 - val_accuracy: 0.7337\n",
            "Epoch 48/50\n",
            "270/270 [==============================] - 2s 8ms/step - loss: 0.8318 - accuracy: 0.7208 - val_loss: 0.7882 - val_accuracy: 0.7399\n",
            "Epoch 49/50\n",
            "270/270 [==============================] - 2s 8ms/step - loss: 0.8152 - accuracy: 0.7279 - val_loss: 0.7882 - val_accuracy: 0.7368\n",
            "Epoch 50/50\n",
            "270/270 [==============================] - 2s 8ms/step - loss: 0.8354 - accuracy: 0.7273 - val_loss: 0.8169 - val_accuracy: 0.7309\n"
          ]
        }
      ],
      "source": [
        "epoch = 50\n",
        "history = conv_model.fit(x_train_mel2d, y_train_mel2d_onehot, validation_data=(x_test_mel2d, y_test_mel2d_onehot), batch_size = 32, epochs=epoch)"
      ]
    },
    {
      "cell_type": "code",
      "execution_count": null,
      "metadata": {
        "id": "eXqDRvvW1HiO"
      },
      "outputs": [],
      "source": [
        "temp = conv_model.evaluate(x_test_mel2d, y_test_mel2d_onehot)"
      ]
    },
    {
      "cell_type": "markdown",
      "metadata": {
        "id": "Btk5U1Pm1HiO"
      },
      "source": [
        "### acc loss plot & heatmap"
      ]
    },
    {
      "cell_type": "code",
      "execution_count": 27,
      "metadata": {
        "colab": {
          "base_uri": "https://localhost:8080/",
          "height": 438
        },
        "id": "UgTuQYJC1HiP",
        "outputId": "c73fbc95-eac5-4c76-9e7b-e8118434d80a"
      },
      "outputs": [
        {
          "output_type": "stream",
          "name": "stdout",
          "text": [
            "90/90 [==============================] - 0s 4ms/step - loss: 0.8169 - accuracy: 0.7309\n",
            "Accuracy of our model on test data :  73.09027910232544 %\n"
          ]
        },
        {
          "output_type": "display_data",
          "data": {
            "text/plain": [
              "<Figure size 1440x432 with 2 Axes>"
            ],
            "image/png": "[encoded data removed]"
          },
          "metadata": {
            "needs_background": "light"
          }
        }
      ],
      "source": [
        "print(\"Accuracy of our model on test data : \" , conv_model.evaluate(x_test_mel2d,y_test_mel2d_onehot)[1]*100 , \"%\")\n",
        "\n",
        "epochs = [i for i in range(epoch)] # epoch!\n",
        "fig , ax = plt.subplots(1,2)\n",
        "train_acc = history.history['accuracy']\n",
        "train_loss = history.history['loss']\n",
        "test_acc = history.history['val_accuracy']\n",
        "test_loss = history.history['val_loss']\n",
        "\n",
        "fig.set_size_inches(20,6)\n",
        "ax[0].plot(epochs , train_loss , label = 'Training Loss')\n",
        "ax[0].plot(epochs , test_loss , label = 'Testing Loss')\n",
        "ax[0].set_title('Training & Testing Loss')\n",
        "ax[0].legend()\n",
        "ax[0].set_xlabel(\"Epochs\")\n",
        "\n",
        "ax[1].plot(epochs , train_acc , label = 'Training Accuracy')\n",
        "ax[1].plot(epochs , test_acc , label = 'Testing Accuracy')\n",
        "ax[1].set_title('Training & Testing Accuracy')\n",
        "ax[1].legend()\n",
        "ax[1].set_xlabel(\"Epochs\")\n",
        "plt.show()"
      ]
    },
    {
      "cell_type": "code",
      "execution_count": null,
      "metadata": {
        "id": "QqS-RBQC1HiP"
      },
      "outputs": [],
      "source": [
        "lb = LabelEncoder()\n",
        "emotion = ['neutral', 'calm', 'happy', 'sad', 'angry', 'fearful', 'disgust', 'surprised']\n",
        "lb.fit(emotion)\n",
        "\n",
        "pred_test = conv_model.predict(x_test_mel2d)\n",
        "\n",
        "# print(pred_test.shape)\n",
        "# print(np.argmax(pred_test, axis = 1))\n",
        "# print(np.argmax(pred_test, axis = 1).shape)\n",
        "\n",
        "pred_test = np.argmax(pred_test, axis = 1)\n",
        "y_pred = lb.inverse_transform(pred_test) ## number -> string (emotion)\n",
        "\n",
        "# print(y_pred.shape) # (358,)\n",
        "# print(y_test_mel2d.shape) # list. 358"
      ]
    },
    {
      "cell_type": "code",
      "execution_count": null,
      "metadata": {
        "id": "cPsd0N2Y1HiP"
      },
      "outputs": [],
      "source": [
        "cm = confusion_matrix(y_test_mel2d, y_pred)\n",
        "plt.figure(figsize = (12, 10))\n",
        "# cm = pd.DataFrame(cm , index = [i for i in lb.categories_] , columns = [i for i in lb.categories_])\n",
        "cm = pd.DataFrame(cm , index = [i for i in emotion] , columns = [i for i in emotion])\n",
        "sns.heatmap(cm, linecolor='white', cmap='Blues', linewidth=1, annot=True, fmt='')\n",
        "plt.title('Confusion Matrix', size=20)\n",
        "plt.xlabel('Predicted Labels', size=14)\n",
        "plt.ylabel('Actual Labels', size=14)\n",
        "plt.show()"
      ]
    },
    {
      "cell_type": "markdown",
      "metadata": {
        "id": "6T3IJiWeQZf6"
      },
      "source": [
        "# Model C: Conv2d model (MAIN model)\n",
        "- Accuracy: 85.14%"
      ]
    },
    {
      "cell_type": "markdown",
      "metadata": {
        "id": "MB1b1-MKQZf8"
      },
      "source": [
        "## data preprocessing (feature extraction, train test split)"
      ]
    },
    {
      "cell_type": "code",
      "execution_count": null,
      "metadata": {
        "id": "aVNnXm5JQZf8"
      },
      "outputs": [],
      "source": [
        "def extract_mel2d(file, plot_mel = False): # mel 2d\n",
        "\n",
        "  y, sr = librosa.load(file, sr = 48000)\n",
        "  result=np.array([])\n",
        "\n",
        "  mel = librosa.feature.melspectrogram(y=y, sr=48000, n_mels=128)\n",
        "  # print(\"shape of mel: \", mel.shape)\n",
        "\n",
        "  result = np.array(mel)\n",
        "  result = np.expand_dims(result, axis=-1)\n",
        "  # print(\"shape of result : \", result.shape)\n",
        "\n",
        "  if plot_mel:\n",
        "    fig, ax = plt.subplots()\n",
        "    mel_dB = librosa.power_to_db(mel, ref=np.max)\n",
        "    img = librosa.display.specshow(mel_dB, x_axis='time', y_axis='mel', sr=sr, ax=ax)\n",
        "    fig.colorbar(img, ax=ax, format='%+2.0f dB')\n",
        "    title = 'Mel Spectrogram'\n",
        "\n",
        "    ax.set(title=title)\n",
        "    # print(\"mel_dB: \", mel_dB) \n",
        "    # print(\"This is mel_dB.shape : \", mel_dB.shape) # (128, 300-400)\n",
        "    plt.show()\n",
        "\n",
        "  return result"
      ]
    },
    {
      "cell_type": "code",
      "execution_count": null,
      "metadata": {
        "id": "oM6XYWVNQZf9"
      },
      "outputs": [],
      "source": [
        "# mel 2d \n",
        "def load_data_mel2d(test_size = 0.2, plot_mel = False):\n",
        "\n",
        "  x = np.array([])\n",
        "  cnt = 0\n",
        "  # x,y=[],[]\n",
        "  y = []\n",
        "\n",
        "  for file in glob.glob(path_tess2):\n",
        "    \n",
        "    try:\n",
        "      file_name=os.path.basename(file)\n",
        "      #converting stereo audio to mono\n",
        "      sound = AudioSegment.from_wav(file)\n",
        "      sound = sound.set_channels(1)\n",
        "      sound.export(file, format=\"wav\")\n",
        "\n",
        "    except:\n",
        "      print(\"decoding error\")\n",
        "      continue\n",
        "    \n",
        "    if 'ps' in file_name:\n",
        "        continue\n",
        "\n",
        "    if sound.duration_seconds != 2.0:\n",
        "      print(\"duration error!\")\n",
        "      continue\n",
        "\n",
        "    \n",
        "    if 'aug' in file_name:\n",
        "      emotion=emotions_tess[file_name.split(\"_\")[2]]\n",
        "    else:\n",
        "      emotion=emotions_tess[file_name.split(\"_\")[2][:-4]]\n",
        "      \n",
        "    features = extract_mel2d(file, plot_mel)\n",
        "    # cnt += 1\n",
        "\n",
        "    if x.size == 0:\n",
        "      features = features.reshape(1, features.shape[0], features.shape[1], features.shape[2])\n",
        "      x = features\n",
        "    else:\n",
        "      features = features.reshape(1, features.shape[0], features.shape[1], features.shape[2])\n",
        "      x = np.vstack((x, features))\n",
        "\n",
        "    print(\"This is x.shape: \", x.shape)\n",
        "    # print(x)\n",
        "    y.append(emotion)\n",
        "    # print(\"append success\") \n",
        "\n",
        "  for file in glob.glob(path_orig2):\n",
        "    \n",
        "    try:\n",
        "      file_name=os.path.basename(file)\n",
        "      #converting stereo audio to mono\n",
        "      sound = AudioSegment.from_wav(file)\n",
        "      sound = sound.set_channels(1)\n",
        "      sound.export(file, format=\"wav\")\n",
        "\n",
        "\n",
        "    except:\n",
        "      print(\"decoding error\")\n",
        "      continue\n",
        "\n",
        "    if sound.duration_seconds != 2.0:\n",
        "      print(\"duration error!\")\n",
        "      continue\n",
        "\n",
        "    emotion=emotions[file_name.split(\"-\")[2]]\n",
        "    features = extract_mel2d(file, plot_mel)\n",
        "    # cnt += 1\n",
        "\n",
        "    if x.size == 0:\n",
        "      features = features.reshape(1, features.shape[0], features.shape[1], features.shape[2])\n",
        "      x = features\n",
        "    else:\n",
        "      features = features.reshape(1, features.shape[0], features.shape[1], features.shape[2])\n",
        "      x = np.vstack((x, features))\n",
        "\n",
        "    print(\"This is x.shape: \", x.shape)\n",
        "    # print(x)\n",
        "    y.append(emotion)\n",
        "    # print(\"append success\")\n",
        "\n",
        "    \n",
        "  try:\n",
        "    temp = np.array(x)  \n",
        "    print(\"This is final np.array(x).shape: \", temp.shape)\n",
        "  except:\n",
        "    print(\"fail to np.array(x).shape\")\n",
        "    return x, y, x, y\n",
        "\n",
        "  # return x, y\n",
        "  return train_test_split(np.array(x), y, test_size=test_size, random_state=9, shuffle=True)"
      ]
    },
    {
      "cell_type": "code",
      "execution_count": null,
      "metadata": {
        "id": "SL56DkLGQZf9"
      },
      "outputs": [],
      "source": [
        "x_train_mel2d, x_test_mel2d, y_train_mel2d, y_test_mel2d = load_data_mel2d(test_size = 0.25, plot_mel = False) "
      ]
    },
    {
      "cell_type": "code",
      "execution_count": null,
      "metadata": {
        "colab": {
          "base_uri": "https://localhost:8080/"
        },
        "outputId": "1d882525-c51b-43d8-caab-a3e41fdb2751",
        "id": "PSzimIsCQZf-"
      },
      "outputs": [
        {
          "name": "stdout",
          "output_type": "stream",
          "text": [
            "(8638, 128, 188, 1)\n",
            "(2880, 128, 188, 1)\n",
            "8638\n",
            "2880\n"
          ]
        }
      ],
      "source": [
        "print(x_train_mel2d.shape) # should be (n, 128, 188)\n",
        "print(x_test_mel2d.shape)\n",
        "print(len(y_train_mel2d))\n",
        "print(len(y_test_mel2d))"
      ]
    },
    {
      "cell_type": "code",
      "execution_count": null,
      "metadata": {
        "id": "67uvENTFQZf-"
      },
      "outputs": [],
      "source": [
        "## exporting mel2d data\n",
        "\n",
        "with open('gdrive/MyDrive/mel_numpy/mel_aug_numpy/x_train_mel2d.npy', 'wb') as f:\n",
        "  np.save(f, x_train_mel2d)\n",
        "\n",
        "with open('gdrive/MyDrive/mel_numpy/mel_aug_numpy/y_train_mel2d.npy', 'wb') as f:\n",
        "  np.save(f, y_train_mel2d)\n",
        "\n",
        "with open('gdrive/MyDrive/mel_numpy/mel_aug_numpy/x_test_mel2d.npy', 'wb') as f:\n",
        "  np.save(f, x_test_mel2d)\n",
        "\n",
        "with open('gdrive/MyDrive/mel_numpy/mel_aug_numpy/y_test_mel2d.npy', 'wb') as f:\n",
        "  np.save(f, y_test_mel2d) "
      ]
    },
    {
      "cell_type": "code",
      "execution_count": null,
      "metadata": {
        "id": "P5SWlvJzQZf-"
      },
      "outputs": [],
      "source": [
        "with open('gdrive/MyDrive/mel_numpy/mel_aug_numpy/x_train_mel2d.npy', 'rb') as f:\n",
        "  x_train_mel2d = np.load(f)\n",
        "\n",
        "with open('gdrive/MyDrive/mel_numpy/mel_aug_numpy/y_train_mel2d.npy', 'rb') as f:\n",
        "  y_train_mel2d = np.load(f)\n",
        "\n",
        "with open('gdrive/MyDrive/mel_numpy/mel_aug_numpy/x_test_mel2d.npy', 'rb') as f:\n",
        "  x_test_mel2d = np.load(f)\n",
        "\n",
        "with open('gdrive/MyDrive/mel_numpy/mel_aug_numpy/y_test_mel2d.npy', 'rb') as f:\n",
        "  y_test_mel2d = np.load(f)"
      ]
    },
    {
      "cell_type": "markdown",
      "metadata": {
        "id": "dn0pVvLoQZf_"
      },
      "source": [
        "## conv2d model"
      ]
    },
    {
      "cell_type": "code",
      "execution_count": null,
      "metadata": {
        "id": "ky3L1HmrQZf_"
      },
      "outputs": [],
      "source": [
        "# one hot encode the target \n",
        "lb = LabelEncoder()\n",
        "y_train_mel2d_onehot = np_utils.to_categorical(lb.fit_transform(y_train_mel2d))\n",
        "y_test_mel2d_onehot = np_utils.to_categorical(lb.fit_transform(y_test_mel2d))"
      ]
    },
    {
      "cell_type": "code",
      "execution_count": null,
      "metadata": {
        "colab": {
          "base_uri": "https://localhost:8080/"
        },
        "outputId": "9c8eaf46-82b5-45bc-a16d-979f050b7e14",
        "id": "y6Uxrr-DQZf_"
      },
      "outputs": [
        {
          "name": "stdout",
          "output_type": "stream",
          "text": [
            "[[0. 0. 0. ... 0. 0. 0.]\n",
            " [0. 0. 0. ... 0. 1. 0.]\n",
            " [0. 0. 0. ... 0. 1. 0.]\n",
            " ...\n",
            " [0. 0. 1. ... 0. 0. 0.]\n",
            " [0. 0. 0. ... 0. 0. 0.]\n",
            " [0. 0. 1. ... 0. 0. 0.]]\n",
            "[[1. 0. 0. ... 0. 0. 0.]\n",
            " [0. 0. 0. ... 0. 0. 0.]\n",
            " [0. 0. 0. ... 0. 0. 0.]\n",
            " ...\n",
            " [0. 0. 1. ... 0. 0. 0.]\n",
            " [1. 0. 0. ... 0. 0. 0.]\n",
            " [0. 0. 1. ... 0. 0. 0.]]\n",
            "(8638, 8)\n",
            "(2880, 8)\n"
          ]
        }
      ],
      "source": [
        "print(y_train_mel2d_onehot)\n",
        "print(y_test_mel2d_onehot)\n",
        "print(y_train_mel2d_onehot.shape)\n",
        "print(y_test_mel2d_onehot.shape)"
      ]
    },
    {
      "cell_type": "code",
      "execution_count": null,
      "metadata": {
        "id": "s3-73rL3QZf_"
      },
      "outputs": [],
      "source": [
        "def convolutional_model(input_shape):\n",
        "    input_img = tf.keras.Input(shape=input_shape)\n",
        "    Z1 = tfl.Conv2D(32, (4, 4), strides = (1, 1), padding = 'SAME')(input_img)\n",
        "    A1 = tfl.ReLU()(Z1)\n",
        "    P1 = tfl.MaxPool2D(pool_size=(8, 8), strides=8, padding = \"SAME\")(A1)\n",
        "    D1 = Dropout(rate=0.2)(P1)\n",
        "    \n",
        "    Z2 = tfl.Conv2D(64, (2, 2), strides = (1, 1), padding = 'SAME')(D1) \n",
        "    A2 = tfl.ReLU()(Z2)\n",
        "    P2 = tfl.MaxPool2D((4, 4), (4, 4), padding= 'SAME')(A2)\n",
        "    D2 = Dropout(rate = 0.2)(P2)\n",
        "    F = tfl.Flatten()(D2)\n",
        "    outputs = tfl.Dense(8, activation = 'softmax')(F)\n",
        "    \n",
        "    model = tf.keras.Model(inputs=input_img, outputs=outputs)\n",
        "    return model"
      ]
    },
    {
      "cell_type": "code",
      "execution_count": null,
      "metadata": {
        "id": "juyqG3FbQZgA"
      },
      "outputs": [],
      "source": [
        "optimizer = tf.keras.optimizers.Adam(0.001)"
      ]
    },
    {
      "cell_type": "code",
      "execution_count": null,
      "metadata": {
        "colab": {
          "base_uri": "https://localhost:8080/"
        },
        "outputId": "d3d51022-f1d4-4e80-c305-fc8defe1dadd",
        "id": "6CEqX60uQZgA"
      },
      "outputs": [
        {
          "output_type": "stream",
          "name": "stdout",
          "text": [
            "Model: \"model\"\n",
            "_________________________________________________________________\n",
            " Layer (type)                Output Shape              Param #   \n",
            "=================================================================\n",
            " input_1 (InputLayer)        [(None, 128, 188, 1)]     0         \n",
            "                                                                 \n",
            " conv2d (Conv2D)             (None, 128, 188, 32)      544       \n",
            "                                                                 \n",
            " re_lu (ReLU)                (None, 128, 188, 32)      0         \n",
            "                                                                 \n",
            " max_pooling2d (MaxPooling2D  (None, 16, 24, 32)       0         \n",
            " )                                                               \n",
            "                                                                 \n",
            " dropout (Dropout)           (None, 16, 24, 32)        0         \n",
            "                                                                 \n",
            " conv2d_1 (Conv2D)           (None, 16, 24, 64)        8256      \n",
            "                                                                 \n",
            " re_lu_1 (ReLU)              (None, 16, 24, 64)        0         \n",
            "                                                                 \n",
            " max_pooling2d_1 (MaxPooling  (None, 4, 6, 64)         0         \n",
            " 2D)                                                             \n",
            "                                                                 \n",
            " dropout_1 (Dropout)         (None, 4, 6, 64)          0         \n",
            "                                                                 \n",
            " flatten (Flatten)           (None, 1536)              0         \n",
            "                                                                 \n",
            " dense (Dense)               (None, 8)                 12296     \n",
            "                                                                 \n",
            "=================================================================\n",
            "Total params: 21,096\n",
            "Trainable params: 21,096\n",
            "Non-trainable params: 0\n",
            "_________________________________________________________________\n"
          ]
        }
      ],
      "source": [
        "conv_model = convolutional_model((x_train_mel2d.shape[1], x_train_mel2d.shape[2], x_train_mel2d.shape[3]))\n",
        "conv_model.compile(optimizer=optimizer,\n",
        "                  loss='categorical_crossentropy',\n",
        "                  metrics=['accuracy'])\n",
        "conv_model.summary()"
      ]
    },
    {
      "cell_type": "code",
      "execution_count": null,
      "metadata": {
        "id": "S1kSg_ssQZgA"
      },
      "outputs": [],
      "source": [
        "epoch = 200\n",
        "history = conv_model.fit(x_train_mel2d, y_train_mel2d_onehot, validation_data=(x_test_mel2d, y_test_mel2d_onehot), batch_size = 32, epochs=epoch)"
      ]
    },
    {
      "cell_type": "code",
      "execution_count": null,
      "metadata": {
        "colab": {
          "base_uri": "https://localhost:8080/"
        },
        "outputId": "0a7a6533-815c-4ab9-f60f-f9b437d2a70e",
        "id": "Hu-9IBLjQZgA"
      },
      "outputs": [
        {
          "name": "stdout",
          "output_type": "stream",
          "text": [
            "90/90 [==============================] - 0s 5ms/step - loss: 0.6285 - accuracy: 0.8691\n"
          ]
        }
      ],
      "source": [
        "temp = conv_model.evaluate(x_test_mel2d, y_test_mel2d_onehot)"
      ]
    },
    {
      "cell_type": "markdown",
      "metadata": {
        "id": "gokmbFv5QZgB"
      },
      "source": [
        "### acc loss plot & heatmap"
      ]
    },
    {
      "cell_type": "code",
      "execution_count": null,
      "metadata": {
        "colab": {
          "base_uri": "https://localhost:8080/",
          "height": 88
        },
        "outputId": "070e32ea-8d2d-4440-e644-58520177105d",
        "id": "fuW3Kn2aQZgB"
      },
      "outputs": [
        {
          "output_type": "stream",
          "name": "stdout",
          "text": [
            "90/90 [==============================] - 0s 5ms/step - loss: 0.6058 - accuracy: 0.8514\n",
            "Accuracy of our model on test data :  85.13888716697693 %\n"
          ]
        },
        {
          "output_type": "display_data",
          "data": {
            "text/plain": [
              "<Figure size 1440x432 with 2 Axes>"
            ],
            "image/png": "[encoded data removed]"
          },
          "metadata": {
            "needs_background": "light"
          }
        }
      ],
      "source": [
        "print(\"Accuracy of our model on test data : \" , conv_model.evaluate(x_test_mel2d,y_test_mel2d_onehot)[1]*100 , \"%\")\n",
        "\n",
        "epochs = [i for i in range(epoch)] # epoch!\n",
        "fig , ax = plt.subplots(1,2)\n",
        "train_acc = history.history['accuracy']\n",
        "train_loss = history.history['loss']\n",
        "test_acc = history.history['val_accuracy']\n",
        "test_loss = history.history['val_loss']\n",
        "\n",
        "fig.set_size_inches(20,6)\n",
        "ax[0].plot(epochs , train_loss , label = 'Training Loss')\n",
        "ax[0].plot(epochs , test_loss , label = 'Testing Loss')\n",
        "ax[0].set_title('Training & Testing Loss')\n",
        "ax[0].legend()\n",
        "ax[0].set_xlabel(\"Epochs\")\n",
        "\n",
        "ax[1].plot(epochs , train_acc , label = 'Training Accuracy')\n",
        "ax[1].plot(epochs , test_acc , label = 'Testing Accuracy')\n",
        "ax[1].set_title('Training & Testing Accuracy')\n",
        "ax[1].legend()\n",
        "ax[1].set_xlabel(\"Epochs\")\n",
        "plt.show()"
      ]
    },
    {
      "cell_type": "code",
      "execution_count": null,
      "metadata": {
        "id": "6CEfmL19QZgB"
      },
      "outputs": [],
      "source": [
        "lb = LabelEncoder()\n",
        "emotion = ['neutral', 'calm', 'happy', 'sad', 'angry', 'fearful', 'disgust', 'surprised']\n",
        "lb.fit(emotion)\n",
        "\n",
        "pred_test = conv_model.predict(x_test_mel2d)\n",
        "\n",
        "# print(pred_test.shape)\n",
        "# print(np.argmax(pred_test, axis = 1))\n",
        "# print(np.argmax(pred_test, axis = 1).shape)\n",
        "\n",
        "pred_test = np.argmax(pred_test, axis = 1)\n",
        "y_pred = lb.inverse_transform(pred_test) ## number -> string (emotion)\n",
        "\n",
        "# print(y_pred.shape) # (358,)\n",
        "# print(y_test_mel2d.shape) # list. 358"
      ]
    },
    {
      "cell_type": "code",
      "execution_count": null,
      "metadata": {
        "colab": {
          "base_uri": "https://localhost:8080/",
          "height": 54
        },
        "outputId": "620c44c2-8516-4278-8e7c-17a848ea8814",
        "id": "kZu_npFXQZgB"
      },
      "outputs": [
        {
          "output_type": "display_data",
          "data": {
            "text/plain": [
              "<Figure size 864x720 with 2 Axes>"
            ],
            "image/png": "[encoded data removed]"
          },
          "metadata": {
            "needs_background": "light"
          }
        }
      ],
      "source": [
        "cm = confusion_matrix(y_test_mel2d, y_pred)\n",
        "plt.figure(figsize = (12, 10))\n",
        "# cm = pd.DataFrame(cm , index = [i for i in lb.categories_] , columns = [i for i in lb.categories_])\n",
        "cm = pd.DataFrame(cm , index = [i for i in emotion] , columns = [i for i in emotion])\n",
        "sns.heatmap(cm, linecolor='white', cmap='Blues', linewidth=1, annot=True, fmt='')\n",
        "plt.title('Confusion Matrix', size=20)\n",
        "plt.xlabel('Predicted Labels', size=14)\n",
        "plt.ylabel('Actual Labels', size=14)\n",
        "plt.show()"
      ]
    },
    {
      "cell_type": "code",
      "execution_count": null,
      "metadata": {
        "colab": {
          "base_uri": "https://localhost:8080/"
        },
        "outputId": "81a59c8d-f871-4595-bc2f-7b11af542d5c",
        "id": "TEZfqwtEQZgC"
      },
      "outputs": [
        {
          "output_type": "stream",
          "name": "stdout",
          "text": [
            "              precision    recall  f1-score   support\n",
            "\n",
            "     neutral       0.93      0.90      0.92       443\n",
            "        calm       0.55      0.92      0.69       159\n",
            "       happy       0.90      0.84      0.87       450\n",
            "         sad       0.87      0.87      0.87       448\n",
            "       angry       0.86      0.85      0.86       404\n",
            "     fearful       0.93      0.88      0.90       394\n",
            "     disgust       0.84      0.78      0.81       435\n",
            "   surprised       0.78      0.75      0.76       147\n",
            "\n",
            "    accuracy                           0.85      2880\n",
            "   macro avg       0.83      0.85      0.83      2880\n",
            "weighted avg       0.86      0.85      0.85      2880\n",
            "\n"
          ]
        }
      ],
      "source": [
        "print(classification_report(y_test_mel2d, y_pred, target_names=emotions.values()))"
      ]
    },
    {
      "cell_type": "markdown",
      "source": [
        "# Other experiments"
      ],
      "metadata": {
        "id": "JHuOHp1PR2T5"
      }
    },
    {
      "cell_type": "markdown",
      "source": [
        "## mel plot, waveplot"
      ],
      "metadata": {
        "id": "_ocHQzf2QASq"
      }
    },
    {
      "cell_type": "code",
      "source": [
        "## waveplot\n",
        "for file in glob.glob(path_tess2):\n",
        "\n",
        "  file_name=os.path.basename(file)\n",
        "  SAMPLE_RATE = 48000\n",
        "  # fname_m = 'recordings/' + 'english381.mp3' \n",
        "  y, sr = librosa.load(file, sr=SAMPLE_RATE)\n",
        "\n",
        "  plt.figure(figsize=(12, 3))\n",
        "  plt.figure()\n",
        "  librosa.display.waveplot(y, sr=sr)\n",
        "\n",
        "  if 'ps' in file_name:\n",
        "    continue\n",
        "\n",
        "  if 'aug' in file_name:\n",
        "    emotion=emotions_tess[file_name.split(\"_\")[2]]\n",
        "    title = 'Audio sample for \\''+emotion+ '\\' from augmentation'\n",
        "  else:\n",
        "    emotion=emotions_tess[file_name.split(\"_\")[2][:-4]]\n",
        "    title = 'Audio sample for \\''+emotion+ '\\' from original'\n",
        "\n",
        "  plt.title(title)\n",
        "  plt.show()"
      ],
      "metadata": {
        "id": "uAvA39A2QD2Q"
      },
      "execution_count": null,
      "outputs": []
    },
    {
      "cell_type": "markdown",
      "metadata": {
        "id": "rasZJ-WYO5-9"
      },
      "source": [
        "## extract features"
      ]
    },
    {
      "cell_type": "code",
      "execution_count": null,
      "metadata": {
        "id": "EZf-wN1eFgX7"
      },
      "outputs": [],
      "source": [
        "def extract_mel2d(file, plot_mel = False): # mel 2d\n",
        "\n",
        "  y, sr = librosa.load(file, sr = 48000)\n",
        "  result=np.array([])\n",
        "\n",
        "  mel = librosa.feature.melspectrogram(y=y, sr=48000, n_mels=128)\n",
        "  # print(\"shape of mel: \", mel.shape)\n",
        "\n",
        "  result = np.array(mel)\n",
        "  result = np.expand_dims(result, axis=-1)\n",
        "  # print(\"shape of result : \", result.shape)\n",
        "\n",
        "  if plot_mel:\n",
        "    fig, ax = plt.subplots()\n",
        "    mel_dB = librosa.power_to_db(mel, ref=np.max)\n",
        "    img = librosa.display.specshow(mel_dB, x_axis='time', y_axis='mel', sr=sr, ax=ax)\n",
        "    fig.colorbar(img, ax=ax, format='%+2.0f dB')\n",
        "    title = 'Mel Spectrogram'\n",
        "    ax.set(title=title)\n",
        "    plt.show()\n",
        "\n",
        "  return result"
      ]
    },
    {
      "cell_type": "code",
      "execution_count": null,
      "metadata": {
        "id": "fJu9vXG-rJ8Q"
      },
      "outputs": [],
      "source": [
        "def extract_feature_all(file_name, mfcc, chroma, mel): # mel 1d (mean), mel&mfcc 1d\n",
        "\n",
        "  with soundfile.SoundFile(file_name) as sound_file:\n",
        "      X = sound_file.read(dtype=\"float32\")\n",
        "      sample_rate=sound_file.samplerate\n",
        "      result=np.array([])\n",
        "      if chroma:\n",
        "          stft=np.abs(librosa.stft(X))\n",
        "      if mfcc:\n",
        "          mfccs=np.mean(librosa.feature.mfcc(y=X, sr=sample_rate, n_mfcc=40).T, axis=0)\n",
        "          result=np.hstack((result, mfccs))\n",
        "      if chroma:\n",
        "          chroma=np.mean(librosa.feature.chroma_stft(S=stft, sr=sample_rate).T,axis=0)\n",
        "          result=np.hstack((result, chroma))\n",
        "      if mel:\n",
        "          mel=np.mean(librosa.feature.melspectrogram(y=X, sr=sample_rate).T,axis=0)\n",
        "          result=np.hstack((result, mel))\n",
        "  print(\"This is feature shape : \", result.shape)\n",
        "  return result"
      ]
    },
    {
      "cell_type": "code",
      "execution_count": null,
      "metadata": {
        "id": "830VXnQ93Q-I"
      },
      "outputs": [],
      "source": [
        "def extract_feature(file_name, feature, plot_mel): # 1d mfcc, 1d mel (flatten)\n",
        "  with soundfile.SoundFile(file_name) as sound_file:\n",
        "    X = sound_file.read(dtype=\"float32\")\n",
        "    sample_rate=sound_file.samplerate\n",
        "    result=np.array([])\n",
        "\n",
        "    if feature == 'mfcc':\n",
        "      mfccs=np.mean(librosa.feature.mfcc(y=X, sr=sample_rate, n_mfcc=40).T, axis=0) # mean...\n",
        "      # temp = librosa.feature.mfcc(y=X, sr=sample_rate, n_mfcc = 40)\n",
        "      # librosa.display.specshow(temp)\n",
        "      # plt.colorbar()\n",
        "      # plt.show()\n",
        "      # print(\"this is shape of temp: \", temp.shape) # (40, 200-300)\n",
        "      # print(\"This is shape of mfccs: \", mfccs.shape) # (40, )\n",
        "      result=np.hstack((result, mfccs))\n",
        "    elif feature == 'mel':\n",
        "      # mel=np.mean(librosa.feature.melspectrogram(y=X, sr=sample_rate).T,axis=0) # mean??\n",
        "      mel = librosa.feature.melspectrogram(y=X, sr=sample_rate, n_mels=128)\n",
        "      # print(\"shape of mel: \", mel.shape)\n",
        "      mel = mel.flatten()\n",
        "      # print(\"shape of mel.flatten(): \", mel.shape) # (12---, )\n",
        "      result=np.hstack((result, mel))\n",
        "      # result = mel\n",
        "\n",
        "      if plot_mel:\n",
        "        # D = librosa.stft(X)  # STFT of X\n",
        "        # S_db = librosa.amplitude_to_db(np.abs(D), ref=np.max)\n",
        "\n",
        "        # fig, ax = plt.subplots()\n",
        "        # img = librosa.display.specshow(S_db, x_axis='time', y_axis='linear', ax=ax)\n",
        "        # ax.set(title='Mel Spectrogram')\n",
        "        # fig.colorbar(img, ax=ax, format=\"%+2.f dB\")\n",
        "        # plt.show()\n",
        "        fig, ax = plt.subplots()\n",
        "        mel_dB = librosa.power_to_db(mel, ref=np.max)\n",
        "        img = librosa.display.specshow(mel_dB, x_axis='time', y_axis='mel', sr=sample_rate, ax=ax)\n",
        "        fig.colorbar(img, ax=ax, format='%+2.0f dB')\n",
        "        ax.set(title='Mel-frequency spectrogram')\n",
        "        print(\"mel_dB: \", mel_dB) \n",
        "        print(\"This is mel_dB.shape : \", mel_dB.shape) # (128, 300-400)\n",
        "\n",
        "\n",
        "    return result"
      ]
    },
    {
      "cell_type": "code",
      "execution_count": null,
      "metadata": {
        "id": "vAQb6x5adyVz"
      },
      "outputs": [],
      "source": [
        "def extract_mfcc2d(file_name): # mfcc 2d\n",
        "  with soundfile.SoundFile(file_name) as sound_file:\n",
        "    X = sound_file.read(dtype=\"float32\")\n",
        "    sample_rate=sound_file.samplerate\n",
        "    # SAMPLE_RATE = 22050\n",
        "    result=np.array([])\n",
        "\n",
        "    mfcc = librosa.feature.mfcc(y=X, sr=sample_rate, n_mfcc = 40)\n",
        "    print(\"shape of mfcc: \", mfcc.shape) # (40, 282)\n",
        "    # result=np.hstack((result, mel))\n",
        "    result = np.array(mfcc)\n",
        "    result = np.expand_dims(mfcc, axis=-1)\n",
        "    print(\"shape of result : \", result.shape)\n",
        "  \n",
        "  return result"
      ]
    },
    {
      "cell_type": "markdown",
      "metadata": {
        "id": "bL37297lPCGW"
      },
      "source": [
        "## load data"
      ]
    },
    {
      "cell_type": "code",
      "execution_count": null,
      "metadata": {
        "id": "IclIVYKgihdI"
      },
      "outputs": [],
      "source": [
        "# MAIN mel 2d \n",
        "def load_data_mel2d(test_size = 0.2, plot_mel = False):\n",
        "  # x = np.empty(shape = (128, 469, 1))\n",
        "  x = np.array([])\n",
        "  cnt = 0\n",
        "  # x,y=[],[]\n",
        "  y = []\n",
        "  for file in glob.glob(path_new):\n",
        "    try:\n",
        "      file_name=os.path.basename(file)\n",
        "      #converting stereo audio to mono\n",
        "      sound = AudioSegment.from_wav(file)\n",
        "      sound = sound.set_channels(1)\n",
        "      sound.export(file, format=\"wav\")\n",
        "\n",
        "      if sound.duration_seconds != 3.0:\n",
        "        print(\"duration error!\")\n",
        "        continue\n",
        "\n",
        "      emotion=emotions[file_name.split(\"-\")[2]]\n",
        "      features = extract_mel2d(file, plot_mel)\n",
        "      # cnt += 1\n",
        "\n",
        "      if x.size == 0:\n",
        "        features = features.reshape(1, features.shape[0], features.shape[1], features.shape[2])\n",
        "        x = features\n",
        "      else:\n",
        "        features = features.reshape(1, features.shape[0], features.shape[1], features.shape[2])\n",
        "        x = np.vstack((x, features))\n",
        "\n",
        "      # print(\"This is x.shape: \", x.shape)\n",
        "      # print(x)\n",
        "      y.append(emotion)\n",
        "      # print(\"append success\")\n",
        "      \n",
        "    except: # decoding error..\n",
        "      print(\"decoding error\")\n",
        "      print(file)\n",
        "      print(sound.duration_seconds)\n",
        "      continue\n",
        "    \n",
        "  try:\n",
        "    temp = np.array(x)  \n",
        "    print(\"This is final np.array(x).shape: \", temp.shape)\n",
        "  except:\n",
        "    print(\"fail to np.array(x).shape\")\n",
        "    return x, y, x, y\n",
        "\n",
        "  # return x, y\n",
        "  return train_test_split(np.array(x), y, test_size=test_size, random_state=9)"
      ]
    },
    {
      "cell_type": "code",
      "execution_count": null,
      "metadata": {
        "id": "jAU2gr98rUuW"
      },
      "outputs": [],
      "source": [
        "# all features 1d (mean)\n",
        "def load_data(test_size=0.2): # mel 1d (mean)\n",
        "  x,y=[],[]\n",
        "  for file in glob.glob(path_tess2):\n",
        "    \n",
        "    try:\n",
        "      file_name=os.path.basename(file)\n",
        "      #converting stereo audio to mono\n",
        "      sound = AudioSegment.from_wav(file)\n",
        "      sound = sound.set_channels(1)\n",
        "      sound.export(file, format=\"wav\")\n",
        "      if 'ps' in file_name:\n",
        "        continue\n",
        "\n",
        "    except:\n",
        "      print(\"decoding error\")\n",
        "      continue\n",
        "\n",
        "    if sound.duration_seconds != 2.0:\n",
        "      print(\"duration error!\")\n",
        "      continue\n",
        "\n",
        "    if 'aug' in file_name:\n",
        "      emotion=emotions_tess[file_name.split(\"_\")[2]]\n",
        "    else:\n",
        "      emotion=emotions_tess[file_name.split(\"_\")[2][:-4]]\n",
        "\n",
        "    feature=extract_feature_all(file, mfcc=True, chroma=False, mel=True)\n",
        "    x.append(feature)\n",
        "    y.append(emotion) \n",
        "\n",
        "  for file in glob.glob(path_orig2):\n",
        "    try:\n",
        "      # print(file)\n",
        "      file_name=os.path.basename(file)\n",
        "      #converting stereo audio to mono\n",
        "      sound = AudioSegment.from_wav(file)\n",
        "      sound = sound.set_channels(1)\n",
        "      sound.export(file, format=\"wav\")\n",
        "    except:\n",
        "      print(\"decoding error\")\n",
        "      continue\n",
        "\n",
        "    if sound.duration_seconds !=2.0:\n",
        "      print(\"duration error!\")\n",
        "      continue\n",
        "\n",
        "    emotion=emotions[file_name.split(\"-\")[2]]\n",
        "    # if emotion not in observed_emotions:\n",
        "    #     continue\n",
        "    feature=extract_feature_all(file, mfcc=True, chroma=False, mel=True)\n",
        "    x.append(feature)\n",
        "    y.append(emotion)\n",
        "\n",
        "\n",
        "  \n",
        "    \n",
        "  try:\n",
        "    temp = np.array(x)  \n",
        "    print(\"This is final np.array(x).shape: \", temp.shape)\n",
        "  except:\n",
        "    print(\"fail to np.array(x).shape\")\n",
        "    return x, y, x, y\n",
        "\n",
        "\n",
        "  return train_test_split(np.array(x), y, test_size=test_size, random_state=9, shuffle = True)"
      ]
    },
    {
      "cell_type": "code",
      "execution_count": null,
      "metadata": {
        "id": "-ZguSKwBytLB"
      },
      "outputs": [],
      "source": [
        "# mfcc 1d (mean)\n",
        "def load_data_mfcc1d(test_size = 0.2, feature = 'mfcc', plot_mel = False):\n",
        "  x,y=[],[]\n",
        "  for file in glob.glob(path_orig2):\n",
        "    try:\n",
        "      # print(file)\n",
        "      file_name=os.path.basename(file)\n",
        "      #converting stereo audio to mono\n",
        "      sound = AudioSegment.from_wav(file)\n",
        "      sound = sound.set_channels(1)\n",
        "      sound.export(file, format=\"wav\")\n",
        "\n",
        "    except: # decoding error..\n",
        "      print(\"decoding error\")\n",
        "      continue\n",
        "\n",
        "    if sound.duration_seconds != 2.0:\n",
        "      print(\"duration error!\")\n",
        "      continue\n",
        "\n",
        "    emotion=emotions[file_name.split(\"-\")[2]]\n",
        "    features = extract_feature(file, feature = feature, plot_mel = plot_mel)\n",
        "    # feature = extract_feature_all(file, mfcc= True, chroma = False, mel = True)\n",
        "    x.append(features)\n",
        "    y.append(emotion)\n",
        "\n",
        "  for file in glob.glob(path_tess2):\n",
        "    try:\n",
        "      # print(file)\n",
        "      file_name=os.path.basename(file)\n",
        "      #converting stereo audio to mono\n",
        "      sound = AudioSegment.from_wav(file)\n",
        "      sound = sound.set_channels(1)\n",
        "      sound.export(file, format=\"wav\")\n",
        "\n",
        "    except: # decoding error..\n",
        "      print(\"decoding error\")\n",
        "      continue\n",
        "\n",
        "    if sound.duration_seconds != 2.0:\n",
        "      print(\"duration error!\")\n",
        "      continue\n",
        "\n",
        "    emotion=emotions_tess[file_name.split(\"_\")[2][:-4]]\n",
        "    features = extract_feature(file, feature = feature, plot_mel = plot_mel)\n",
        "    # feature = extract_feature_all(file, mfcc= True, chroma = False, mel = True)\n",
        "    x.append(features)\n",
        "    y.append(emotion)\n",
        "\n",
        "  return train_test_split(np.array(x), y, test_size=test_size, random_state=9, shuffle = True)"
      ]
    },
    {
      "cell_type": "code",
      "execution_count": null,
      "metadata": {
        "id": "cCGm3uvKJKEQ"
      },
      "outputs": [],
      "source": [
        "# mel 1d (flatten) \n",
        "def load_data_mel1d(test_size = 0.2, feature = 'mel', plot_mel = False):\n",
        "  x,y=[],[]\n",
        "  cnt = 1\n",
        "  for file in glob.glob(path):\n",
        "    try:\n",
        "      file_name=os.path.basename(file)\n",
        "      # y, sr = librosa.load(file_name, offset=1.0, duration=3.0)\n",
        "      sound = AudioSegment.from_wav(file)\n",
        "      sound = sound.set_channels(1)\n",
        "\n",
        "      if sound.duration_seconds != 3.0:\n",
        "        print(\"duration error!\")\n",
        "        continue\n",
        "      \n",
        "      # print(\"{}th duration: {}\".format(cnt, sound.duration_seconds))\n",
        "      emotion=emotions[file_name.split(\"-\")[2]]\n",
        "      features = extract_feature(file, feature = feature, plot_mel = plot_mel) # file\n",
        "      # feature = extract_feature_all(file, mfcc= True, chroma = False, mel = True)\n",
        "      x.append(features)\n",
        "      y.append(emotion)\n",
        "      cnt += 1\n",
        "    \n",
        "    except:\n",
        "      print(\"=============Error============\")\n",
        "      continue\n",
        "    \n",
        "\n",
        "  return train_test_split(np.array(x), y, test_size=test_size, random_state=9)\n"
      ]
    },
    {
      "cell_type": "code",
      "execution_count": null,
      "metadata": {
        "id": "l_Y55moVeTgq"
      },
      "outputs": [],
      "source": [
        "# mfcc 2d \n",
        "def load_data_mfcc2d(test_size = 0.2):\n",
        "  # x = np.empty(shape = (128, 469, 1))\n",
        "  x = np.array([])\n",
        "  cnt = 0\n",
        "  y = []\n",
        "  for file in glob.glob(path):\n",
        "    try:\n",
        "      file_name=os.path.basename(file)\n",
        "      #converting stereo audio to mono\n",
        "      sound = AudioSegment.from_wav(file)\n",
        "      sound = sound.set_channels(1)\n",
        "      sound.export(file, format=\"wav\")\n",
        "\n",
        "      if sound.duration_seconds != 3.0:\n",
        "        print(\"duration error!\")\n",
        "        continue\n",
        "\n",
        "      emotion=emotions[file_name.split(\"-\")[2]]\n",
        "      features = extract_mfcc2d(file)\n",
        "\n",
        "      if x.size == 0:\n",
        "        features = features.reshape(1, features.shape[0], features.shape[1], features.shape[2])\n",
        "        x = features\n",
        "      else:\n",
        "        features = features.reshape(1, features.shape[0], features.shape[1], features.shape[2])\n",
        "        x = np.vstack((x, features))\n",
        "\n",
        "      print(\"This is x.shape: \", x.shape)\n",
        "      y.append(emotion)\n",
        "      \n",
        "    except:\n",
        "      print(\"decoding error\")\n",
        "      continue\n",
        "    \n",
        "  try:\n",
        "    temp = np.array(x)  \n",
        "    print(\"This is final np.array(x).shape: \", temp.shape)\n",
        "  except:\n",
        "    print(\"fail to np.array(x).shape\")\n",
        "    return x, y, x, y\n",
        "\n",
        "  return train_test_split(np.array(x), y, test_size=test_size, random_state=9)"
      ]
    },
    {
      "cell_type": "markdown",
      "metadata": {
        "id": "dJzRUX4bPIc_"
      },
      "source": [
        "## train test load"
      ]
    },
    {
      "cell_type": "code",
      "execution_count": null,
      "metadata": {
        "colab": {
          "background_save": true
        },
        "id": "27yCSGr6rcQq"
      },
      "outputs": [],
      "source": [
        "x_train,x_test,y_train,y_test=load_data(test_size=0.25) # 7min 25sec"
      ]
    },
    {
      "cell_type": "code",
      "execution_count": null,
      "metadata": {
        "colab": {
          "background_save": true
        },
        "id": "Fz86-rhnfyxA"
      },
      "outputs": [],
      "source": [
        "with open('gdrive/MyDrive/melmfcc_numpy/x_train.npy', 'wb') as f:\n",
        "  np.save(f, x_train)\n",
        "\n",
        "with open('gdrive/MyDrive/melmfcc_numpy/y_train.npy', 'wb') as f:\n",
        "  np.save(f, y_train)\n",
        "\n",
        "with open('gdrive/MyDrive/melmfcc_numpy/x_test.npy', 'wb') as f:\n",
        "  np.save(f, x_test)\n",
        "\n",
        "with open('gdrive/MyDrive/melmfcc_numpy/y_test.npy', 'wb') as f:\n",
        "  np.save(f, y_test) "
      ]
    },
    {
      "cell_type": "code",
      "execution_count": null,
      "metadata": {
        "colab": {
          "background_save": true
        },
        "id": "SZC2VrSGiBFF",
        "outputId": "acbbe352-fad0-4b77-bb76-c960b80e2408"
      },
      "outputs": [
        {
          "name": "stdout",
          "output_type": "stream",
          "text": [
            "(8638, 168)\n",
            "(2880, 168)\n",
            "8638\n",
            "2880\n"
          ]
        }
      ],
      "source": [
        "print(x_train.shape)\n",
        "print(x_test.shape)\n",
        "print(len(y_train))\n",
        "print(len(y_test))"
      ]
    },
    {
      "cell_type": "markdown",
      "metadata": {
        "id": "mNVSBkEl1M4L"
      },
      "source": [
        "1. mfcc + melSpectrogram 1d (mean)\n",
        "- x_train.shape : (1072, 168) \n",
        "- x_test.shape: (358, 168)\n",
        "- y_train.shape : list. len 1072\n",
        "- y_test.shape: : list. len 358"
      ]
    },
    {
      "cell_type": "code",
      "execution_count": null,
      "metadata": {
        "colab": {
          "base_uri": "https://localhost:8080/"
        },
        "id": "Ra8pQCAn46Mj",
        "outputId": "6895c04f-88aa-4de0-de17-dcd39800eefc"
      },
      "outputs": [
        {
          "name": "stdout",
          "output_type": "stream",
          "text": [
            "decoding error\n"
          ]
        }
      ],
      "source": [
        "x_train_mfcc1d, x_test_mfcc1d, y_train_mfcc1d, y_test_mfcc1d = load_data_mfcc1d(test_size=0.25, feature = 'mfcc', plot_mel = False) # 25sec"
      ]
    },
    {
      "cell_type": "code",
      "execution_count": null,
      "metadata": {
        "colab": {
          "base_uri": "https://localhost:8080/"
        },
        "id": "UERX9saMbCDL",
        "outputId": "6d3ee935-a17e-44cb-911e-5a544f3b763b"
      },
      "outputs": [
        {
          "name": "stdout",
          "output_type": "stream",
          "text": [
            "(2877, 40)\n",
            "(960, 40)\n",
            "2877\n",
            "960\n"
          ]
        }
      ],
      "source": [
        "print(x_train_mfcc1d.shape)\n",
        "print(x_test_mfcc1d.shape)\n",
        "print(len(y_train_mfcc1d))\n",
        "print(len(y_test_mfcc1d))"
      ]
    },
    {
      "cell_type": "markdown",
      "metadata": {
        "id": "kV-vfNh1_ufr"
      },
      "source": [
        "2. Baseline: mfcc 1d (1 data decoding error)\n",
        "- x_train_mfcc1d.shape : (1074, 40) \n",
        "- x_test_mfcc1d.shape : (359, 40)\n",
        "- y_train_mfcc1d: list. len 1074\n",
        "- y_test_mfcc1d: list. len 359  "
      ]
    },
    {
      "cell_type": "code",
      "execution_count": null,
      "metadata": {
        "id": "YNqhmqREri2b"
      },
      "outputs": [],
      "source": [
        "print(f'Features extracted (mfcc): {x_train_mfcc1d.shape[1]}')"
      ]
    },
    {
      "cell_type": "code",
      "execution_count": null,
      "metadata": {
        "id": "tie2t2kijOkd"
      },
      "outputs": [],
      "source": [
        "x_train_mel2d, x_test_mel2d, y_train_mel2d, y_test_mel2d = load_data_mel2d(test_size = 0.25, plot_mel = False) # 9min"
      ]
    },
    {
      "cell_type": "code",
      "execution_count": null,
      "metadata": {
        "id": "Qm2wofKH9ZJ9"
      },
      "outputs": [],
      "source": [
        "with open('gdrive/MyDrive/mel_numpy/x_train_mel2d.npy', 'wb') as f:\n",
        "  np.save(f, x_train_mel2d)\n",
        "\n",
        "with open('gdrive/MyDrive/mel_numpy/y_train_mel2d.npy', 'wb') as f:\n",
        "  np.save(f, y_train_mel2d)\n",
        "\n",
        "with open('gdrive/MyDrive/mel_numpy/x_test_mel2d.npy', 'wb') as f:\n",
        "  np.save(f, x_test_mel2d)\n",
        "\n",
        "with open('gdrive/MyDrive/mel_numpy/y_test_mel2d.npy', 'wb') as f:\n",
        "  np.save(f, y_test_mel2d)  "
      ]
    },
    {
      "cell_type": "code",
      "execution_count": null,
      "metadata": {
        "id": "qusiJO4G-5UE"
      },
      "outputs": [],
      "source": [
        "with open('gdrive/MyDrive/mel_numpy/x_train_mel2d.npy', 'rb') as f:\n",
        "  x_train_mel2d = np.load(f)\n",
        "\n",
        "with open('gdrive/MyDrive/mel_numpy/y_train_mel2d.npy', 'rb') as f:\n",
        "  y_train_mel2d = np.load(f)\n",
        "\n",
        "with open('gdrive/MyDrive/mel_numpy/x_test_mel2d.npy', 'rb') as f:\n",
        "  x_test_mel2d = np.load(f)\n",
        "\n",
        "with open('gdrive/MyDrive/mel_numpy/y_test_mel2d.npy', 'rb') as f:\n",
        "  y_test_mel2d = np.load(f) "
      ]
    },
    {
      "cell_type": "code",
      "execution_count": null,
      "metadata": {
        "colab": {
          "base_uri": "https://localhost:8080/"
        },
        "id": "nVSQ_v6RmkRR",
        "outputId": "150d26ba-ab58-4a3b-adef-1d849070b44c"
      },
      "outputs": [
        {
          "name": "stdout",
          "output_type": "stream",
          "text": [
            "(5416, 128, 282, 1)\n",
            "(1806, 128, 282, 1)\n",
            "5416\n",
            "1806\n"
          ]
        }
      ],
      "source": [
        "print(x_train_mel2d.shape)\n",
        "print(x_test_mel2d.shape)\n",
        "print(len(y_train_mel2d))\n",
        "print(len(y_test_mel2d))"
      ]
    },
    {
      "cell_type": "markdown",
      "metadata": {
        "id": "x4g37h6AmyBs"
      },
      "source": [
        "3. MAIN: mel spectogram 2d (after augmentation)\n",
        "- x_train_mel2d.shape: (5416, 128, 282, 1)\n",
        "- x_test_mel2d.shape: (1806, 128, 282, 1)\n",
        "- y_train_mel2d: list. len 5416\n",
        "- y_test_mel2d: list. len 1806"
      ]
    },
    {
      "cell_type": "code",
      "execution_count": null,
      "metadata": {
        "id": "vmx75G7wGiXq"
      },
      "outputs": [],
      "source": [
        "x_train_mel1d, x_test_mel1d, y_train_mel1d, y_test_mel1d = load_data_mel1d(test_size=0.25, feature = 'mel', plot_mel = False) # 6 min"
      ]
    },
    {
      "cell_type": "code",
      "execution_count": null,
      "metadata": {
        "id": "cFe-G30RX0jE"
      },
      "outputs": [],
      "source": [
        "print(x_train_mel1d.shape)\n",
        "print(x_test_mel1d.shape)\n",
        "print(len(y_train_mel1d))\n",
        "print(len(y_test_mel1d))"
      ]
    },
    {
      "cell_type": "markdown",
      "metadata": {
        "id": "nyExVQT3_rBh"
      },
      "source": [
        "4. mel spectogram 1d (flatten)\n",
        "- x_train_mel1d.shape: (1072, 36096)\n",
        "- x_test_mel1d.shape: (358, 36096)\n",
        "- y_train_mel1d: list. len 1072\n",
        "- y_test_mel1d: list. len 358"
      ]
    },
    {
      "cell_type": "code",
      "execution_count": null,
      "metadata": {
        "id": "PdwJwq-GFXcW"
      },
      "outputs": [],
      "source": [
        "x_train_mel1d_mean, x_test_mel1d_mean, y_train_mel1d_mean, y_test_mel1d_mean = load_data(test_size=0.25)"
      ]
    },
    {
      "cell_type": "code",
      "execution_count": null,
      "metadata": {
        "colab": {
          "base_uri": "https://localhost:8080/"
        },
        "id": "DxqbnHJOFynS",
        "outputId": "625a9097-da11-4e95-96d1-6149ab4cab34"
      },
      "outputs": [
        {
          "name": "stdout",
          "output_type": "stream",
          "text": [
            "(1071, 128)\n",
            "(358, 128)\n",
            "1071\n",
            "358\n"
          ]
        }
      ],
      "source": [
        "print(x_train_mel1d_mean.shape)\n",
        "print(x_test_mel1d_mean.shape)\n",
        "print(len(y_train_mel1d_mean))\n",
        "print(len(y_test_mel1d_mean))"
      ]
    },
    {
      "cell_type": "markdown",
      "metadata": {
        "id": "YF7vVfu0HkCX"
      },
      "source": [
        "5. mel 1d (mean)\n",
        "- x_train_mel1d_mean.shape: (1072, 128)\n",
        "- x_test_mel1d_mean.shape: (358, 128)\n",
        "- y_train_mel1d_mean.shape: (1072, 128)\n",
        "- y_test_mel1d_mean.shape: (358, 128)\n"
      ]
    },
    {
      "cell_type": "code",
      "execution_count": null,
      "metadata": {
        "id": "iOYEPIKye5Ou"
      },
      "outputs": [],
      "source": [
        "x_train_mfcc2d, x_test_mfcc2d, y_train_mfcc2d, y_test_mfcc2d = load_data_mfcc2d(test_size=0.25)"
      ]
    },
    {
      "cell_type": "code",
      "execution_count": null,
      "metadata": {
        "colab": {
          "base_uri": "https://localhost:8080/"
        },
        "id": "ZQmBP85phyFX",
        "outputId": "ad177572-7156-4f10-9fba-38b76e654685"
      },
      "outputs": [
        {
          "name": "stdout",
          "output_type": "stream",
          "text": [
            "(1072, 40, 282, 1)\n",
            "(358, 40, 282, 1)\n",
            "1072\n",
            "358\n"
          ]
        }
      ],
      "source": [
        "print(x_train_mfcc2d.shape)\n",
        "print(x_test_mfcc2d.shape)\n",
        "print(len(y_train_mfcc2d))\n",
        "print(len(y_test_mfcc2d))"
      ]
    },
    {
      "cell_type": "markdown",
      "metadata": {
        "id": "cqCmrzdxfC-n"
      },
      "source": [
        "6. mfcc 2d\n",
        "- x_train_mfcc2d.shape: (1072, 40, 282, 1)\n",
        "- x_test_mfcc2d.shape: (358, 40, 282, 1)\n",
        "- y_train_mfcc2d: list. len 1072\n",
        "- y_test_mfcc2d: list. len 358"
      ]
    },
    {
      "cell_type": "markdown",
      "metadata": {
        "id": "C-2nb5dcq4ii"
      },
      "source": [
        "## model\n"
      ]
    },
    {
      "cell_type": "markdown",
      "metadata": {
        "id": "kbKjcsejzQPA"
      },
      "source": [
        "## 2d CNN (with batch normalization)\n",
        "- accuracy: 51.4% (overfitting)"
      ]
    },
    {
      "cell_type": "code",
      "execution_count": null,
      "metadata": {
        "id": "5bEh9jF2fVMh"
      },
      "outputs": [],
      "source": [
        "def convolutional_model(input_shape): # add batch normalization\n",
        "    input_img = tf.keras.Input(shape=input_shape)\n",
        "    ## CONV2D: 8 filters 4x4, stride of 1, padding 'SAME'\n",
        "    Z1 = tfl.Conv2D(8, (4, 4), strides = (1, 1), padding = 'SAME')(input_img)\n",
        "    ## RELU\n",
        "    B1 = tfl.BatchNormalization()(Z1)\n",
        "    A1 = tfl.ReLU()(B1)\n",
        "    ## MAXPOOL: window 8x8, stride 8, padding 'SAME'\n",
        "    P1 = tfl.MaxPool2D(pool_size=(8, 8), strides=8, padding = \"SAME\")(A1)# maxpooling 에서서 padding이이 same인인 건건 뭐지지?\n",
        "    ## CONV2D: 16 filters 2x2, stride 1, padding 'SAME'\n",
        "    Z2 = tfl.Conv2D(16, (2, 2), strides = (1, 1), padding = 'SAME')(P1) \n",
        "    ## RELU\n",
        "    B2 = tfl.BatchNormalization()(Z2)\n",
        "    A2 = tfl.ReLU()(B2)\n",
        "    ## MAXPOOL: window 4x4, stride 4, padding 'SAME'\n",
        "    P2 = tfl.MaxPool2D((4, 4), (4, 4), padding= 'SAME')(A2)\n",
        "    ## FLATTEN\n",
        "    F = tfl.Flatten()(P2)\n",
        "    ## Dense layer\n",
        "    ## 8 neurons in output layer. \n",
        "    outputs = tfl.Dense(8, activation = 'softmax')(F)\n",
        "    \n",
        "    model = tf.keras.Model(inputs=input_img, outputs=outputs)\n",
        "    return model"
      ]
    },
    {
      "cell_type": "code",
      "execution_count": null,
      "metadata": {
        "id": "iS5vYvuIfVMn"
      },
      "outputs": [],
      "source": [
        "optimizer = tf.keras.optimizers.Adam(0.001)"
      ]
    },
    {
      "cell_type": "code",
      "execution_count": null,
      "metadata": {
        "colab": {
          "base_uri": "https://localhost:8080/"
        },
        "id": "St8C0hCLfVMo",
        "outputId": "9835af95-1646-48b5-9dad-fde234ab10fb"
      },
      "outputs": [
        {
          "name": "stdout",
          "output_type": "stream",
          "text": [
            "Model: \"model_9\"\n",
            "_________________________________________________________________\n",
            " Layer (type)                Output Shape              Param #   \n",
            "=================================================================\n",
            " input_11 (InputLayer)       [(None, 128, 282, 1)]     0         \n",
            "                                                                 \n",
            " conv2d_19 (Conv2D)          (None, 128, 282, 8)       136       \n",
            "                                                                 \n",
            " batch_normalization_11 (Bat  (None, 128, 282, 8)      32        \n",
            " chNormalization)                                                \n",
            "                                                                 \n",
            " re_lu_19 (ReLU)             (None, 128, 282, 8)       0         \n",
            "                                                                 \n",
            " max_pooling2d_18 (MaxPoolin  (None, 16, 36, 8)        0         \n",
            " g2D)                                                            \n",
            "                                                                 \n",
            " conv2d_20 (Conv2D)          (None, 16, 36, 16)        528       \n",
            "                                                                 \n",
            " batch_normalization_12 (Bat  (None, 16, 36, 16)       64        \n",
            " chNormalization)                                                \n",
            "                                                                 \n",
            " re_lu_20 (ReLU)             (None, 16, 36, 16)        0         \n",
            "                                                                 \n",
            " max_pooling2d_19 (MaxPoolin  (None, 4, 9, 16)         0         \n",
            " g2D)                                                            \n",
            "                                                                 \n",
            " flatten_9 (Flatten)         (None, 576)               0         \n",
            "                                                                 \n",
            " dense_9 (Dense)             (None, 8)                 4616      \n",
            "                                                                 \n",
            "=================================================================\n",
            "Total params: 5,376\n",
            "Trainable params: 5,328\n",
            "Non-trainable params: 48\n",
            "_________________________________________________________________\n"
          ]
        }
      ],
      "source": [
        "conv_model = convolutional_model((x_train_mel2d.shape[1], x_train_mel2d.shape[2], x_train_mel2d.shape[3])) # input shape(2, 3, 4)\n",
        "conv_model.compile(optimizer=optimizer,\n",
        "                  loss='categorical_crossentropy',\n",
        "                  metrics=['accuracy'])\n",
        "conv_model.summary()"
      ]
    },
    {
      "cell_type": "code",
      "execution_count": null,
      "metadata": {
        "colab": {
          "base_uri": "https://localhost:8080/"
        },
        "id": "rok7ujPPfVMp",
        "outputId": "9c99978a-a699-48af-fab5-93179b8029cf"
      },
      "outputs": [
        {
          "name": "stdout",
          "output_type": "stream",
          "text": [
            "Epoch 1/50\n",
            "45/45 [==============================] - 1s 11ms/step - loss: 2.7385 - accuracy: 0.1453 - val_loss: 2.3989 - val_accuracy: 0.2067\n",
            "Epoch 2/50\n",
            "45/45 [==============================] - 0s 7ms/step - loss: 2.2109 - accuracy: 0.2263 - val_loss: 1.9667 - val_accuracy: 0.2318\n",
            "Epoch 3/50\n",
            "45/45 [==============================] - 0s 7ms/step - loss: 2.0624 - accuracy: 0.2626 - val_loss: 1.8624 - val_accuracy: 0.2654\n",
            "Epoch 4/50\n",
            "45/45 [==============================] - 0s 7ms/step - loss: 1.8847 - accuracy: 0.2793 - val_loss: 1.8402 - val_accuracy: 0.2933\n",
            "Epoch 5/50\n",
            "45/45 [==============================] - 0s 7ms/step - loss: 1.8674 - accuracy: 0.2961 - val_loss: 1.8430 - val_accuracy: 0.2709\n",
            "Epoch 6/50\n",
            "45/45 [==============================] - 0s 7ms/step - loss: 1.7888 - accuracy: 0.3268 - val_loss: 1.8202 - val_accuracy: 0.2654\n",
            "Epoch 7/50\n",
            "45/45 [==============================] - 0s 7ms/step - loss: 1.7138 - accuracy: 0.3380 - val_loss: 1.7991 - val_accuracy: 0.2989\n",
            "Epoch 8/50\n",
            "45/45 [==============================] - 0s 7ms/step - loss: 1.7439 - accuracy: 0.3324 - val_loss: 1.7790 - val_accuracy: 0.2849\n",
            "Epoch 9/50\n",
            "45/45 [==============================] - 0s 7ms/step - loss: 1.8004 - accuracy: 0.3128 - val_loss: 1.7599 - val_accuracy: 0.3156\n",
            "Epoch 10/50\n",
            "45/45 [==============================] - 0s 7ms/step - loss: 1.7023 - accuracy: 0.3575 - val_loss: 1.7483 - val_accuracy: 0.3296\n",
            "Epoch 11/50\n",
            "45/45 [==============================] - 0s 7ms/step - loss: 1.7388 - accuracy: 0.3855 - val_loss: 1.7506 - val_accuracy: 0.3324\n",
            "Epoch 12/50\n",
            "45/45 [==============================] - 0s 7ms/step - loss: 1.6070 - accuracy: 0.3827 - val_loss: 1.7881 - val_accuracy: 0.3101\n",
            "Epoch 13/50\n",
            "45/45 [==============================] - 0s 7ms/step - loss: 1.6446 - accuracy: 0.3687 - val_loss: 1.7484 - val_accuracy: 0.3184\n",
            "Epoch 14/50\n",
            "45/45 [==============================] - 0s 7ms/step - loss: 1.5880 - accuracy: 0.4302 - val_loss: 1.7480 - val_accuracy: 0.3156\n",
            "Epoch 15/50\n",
            "45/45 [==============================] - 0s 7ms/step - loss: 1.6579 - accuracy: 0.3547 - val_loss: 1.7414 - val_accuracy: 0.3128\n",
            "Epoch 16/50\n",
            "45/45 [==============================] - 0s 7ms/step - loss: 1.6065 - accuracy: 0.4022 - val_loss: 1.7222 - val_accuracy: 0.3380\n",
            "Epoch 17/50\n",
            "45/45 [==============================] - 0s 7ms/step - loss: 1.5479 - accuracy: 0.4302 - val_loss: 1.7146 - val_accuracy: 0.3380\n",
            "Epoch 18/50\n",
            "45/45 [==============================] - 0s 7ms/step - loss: 1.5520 - accuracy: 0.4050 - val_loss: 1.7284 - val_accuracy: 0.3240\n",
            "Epoch 19/50\n",
            "45/45 [==============================] - 0s 7ms/step - loss: 1.5360 - accuracy: 0.4441 - val_loss: 1.6939 - val_accuracy: 0.3547\n",
            "Epoch 20/50\n",
            "45/45 [==============================] - 0s 7ms/step - loss: 1.5366 - accuracy: 0.4525 - val_loss: 1.6724 - val_accuracy: 0.3827\n",
            "Epoch 21/50\n",
            "45/45 [==============================] - 0s 7ms/step - loss: 1.5655 - accuracy: 0.4218 - val_loss: 1.6946 - val_accuracy: 0.3464\n",
            "Epoch 22/50\n",
            "45/45 [==============================] - 0s 7ms/step - loss: 1.5317 - accuracy: 0.4302 - val_loss: 1.6766 - val_accuracy: 0.3687\n",
            "Epoch 23/50\n",
            "45/45 [==============================] - 0s 7ms/step - loss: 1.5038 - accuracy: 0.4525 - val_loss: 1.6647 - val_accuracy: 0.3911\n",
            "Epoch 24/50\n",
            "45/45 [==============================] - 0s 7ms/step - loss: 1.4385 - accuracy: 0.4525 - val_loss: 1.6750 - val_accuracy: 0.3687\n",
            "Epoch 25/50\n",
            "45/45 [==============================] - 0s 7ms/step - loss: 1.5111 - accuracy: 0.4888 - val_loss: 1.6719 - val_accuracy: 0.3659\n",
            "Epoch 26/50\n",
            "45/45 [==============================] - 0s 7ms/step - loss: 1.4941 - accuracy: 0.4385 - val_loss: 1.6460 - val_accuracy: 0.3966\n",
            "Epoch 27/50\n",
            "45/45 [==============================] - 0s 7ms/step - loss: 1.5473 - accuracy: 0.4888 - val_loss: 1.6550 - val_accuracy: 0.3547\n",
            "Epoch 28/50\n",
            "45/45 [==============================] - 0s 7ms/step - loss: 1.4402 - accuracy: 0.4749 - val_loss: 1.6202 - val_accuracy: 0.4302\n",
            "Epoch 29/50\n",
            "45/45 [==============================] - 0s 7ms/step - loss: 1.4459 - accuracy: 0.4693 - val_loss: 1.6343 - val_accuracy: 0.3743\n",
            "Epoch 30/50\n",
            "45/45 [==============================] - 0s 7ms/step - loss: 1.4286 - accuracy: 0.4804 - val_loss: 1.6283 - val_accuracy: 0.3827\n",
            "Epoch 31/50\n",
            "45/45 [==============================] - 0s 7ms/step - loss: 1.4236 - accuracy: 0.4944 - val_loss: 1.6184 - val_accuracy: 0.3994\n",
            "Epoch 32/50\n",
            "45/45 [==============================] - 0s 7ms/step - loss: 1.4163 - accuracy: 0.4832 - val_loss: 1.6124 - val_accuracy: 0.3994\n",
            "Epoch 33/50\n",
            "45/45 [==============================] - 0s 7ms/step - loss: 1.3905 - accuracy: 0.4693 - val_loss: 1.5823 - val_accuracy: 0.4497\n",
            "Epoch 34/50\n",
            "45/45 [==============================] - 0s 7ms/step - loss: 1.3616 - accuracy: 0.5084 - val_loss: 1.5987 - val_accuracy: 0.4274\n",
            "Epoch 35/50\n",
            "45/45 [==============================] - 0s 7ms/step - loss: 1.5100 - accuracy: 0.4721 - val_loss: 1.6085 - val_accuracy: 0.4078\n",
            "Epoch 36/50\n",
            "45/45 [==============================] - 0s 7ms/step - loss: 1.3606 - accuracy: 0.5251 - val_loss: 1.5794 - val_accuracy: 0.4330\n",
            "Epoch 37/50\n",
            "45/45 [==============================] - 0s 7ms/step - loss: 1.3449 - accuracy: 0.5196 - val_loss: 1.5754 - val_accuracy: 0.4330\n",
            "Epoch 38/50\n",
            "45/45 [==============================] - 0s 7ms/step - loss: 1.3834 - accuracy: 0.5670 - val_loss: 1.5970 - val_accuracy: 0.4022\n",
            "Epoch 39/50\n",
            "45/45 [==============================] - 0s 7ms/step - loss: 1.4098 - accuracy: 0.4972 - val_loss: 1.5977 - val_accuracy: 0.4050\n",
            "Epoch 40/50\n",
            "45/45 [==============================] - 0s 7ms/step - loss: 1.3366 - accuracy: 0.5140 - val_loss: 1.5800 - val_accuracy: 0.4050\n",
            "Epoch 41/50\n",
            "45/45 [==============================] - 0s 7ms/step - loss: 1.3501 - accuracy: 0.5000 - val_loss: 1.5636 - val_accuracy: 0.4218\n",
            "Epoch 42/50\n",
            "45/45 [==============================] - 0s 7ms/step - loss: 1.3243 - accuracy: 0.5587 - val_loss: 1.5268 - val_accuracy: 0.4637\n",
            "Epoch 43/50\n",
            "45/45 [==============================] - 0s 7ms/step - loss: 1.3268 - accuracy: 0.5363 - val_loss: 1.5239 - val_accuracy: 0.4665\n",
            "Epoch 44/50\n",
            "45/45 [==============================] - 0s 7ms/step - loss: 1.2761 - accuracy: 0.5391 - val_loss: 1.5876 - val_accuracy: 0.3939\n",
            "Epoch 45/50\n",
            "45/45 [==============================] - 0s 7ms/step - loss: 1.3968 - accuracy: 0.5307 - val_loss: 1.5335 - val_accuracy: 0.4497\n",
            "Epoch 46/50\n",
            "45/45 [==============================] - 0s 7ms/step - loss: 1.3965 - accuracy: 0.5391 - val_loss: 1.5538 - val_accuracy: 0.4106\n",
            "Epoch 47/50\n",
            "45/45 [==============================] - 0s 7ms/step - loss: 1.3539 - accuracy: 0.4860 - val_loss: 1.5336 - val_accuracy: 0.4553\n",
            "Epoch 48/50\n",
            "45/45 [==============================] - 0s 7ms/step - loss: 1.3073 - accuracy: 0.5587 - val_loss: 1.5070 - val_accuracy: 0.4832\n",
            "Epoch 49/50\n",
            "45/45 [==============================] - 0s 7ms/step - loss: 1.2818 - accuracy: 0.5642 - val_loss: 1.5076 - val_accuracy: 0.4777\n",
            "Epoch 50/50\n",
            "45/45 [==============================] - 0s 7ms/step - loss: 1.1768 - accuracy: 0.5642 - val_loss: 1.5143 - val_accuracy: 0.4581\n"
          ]
        }
      ],
      "source": [
        "history = conv_model.fit(x_test_mel2d, y_test_mel2d_onehot, validation_data=(x_test_mel2d, y_test_mel2d_onehot), batch_size = 8, epochs=50)"
      ]
    },
    {
      "cell_type": "code",
      "execution_count": null,
      "metadata": {
        "colab": {
          "base_uri": "https://localhost:8080/"
        },
        "id": "UsvGym70fVMp",
        "outputId": "cb4954f8-55b4-4aea-e46d-81018ca77811"
      },
      "outputs": [
        {
          "name": "stdout",
          "output_type": "stream",
          "text": [
            "12/12 [==============================] - 0s 5ms/step - loss: 1.5143 - accuracy: 0.4581\n"
          ]
        }
      ],
      "source": [
        "temp = conv_model.evaluate(x_test_mel2d, y_test_mel2d_onehot) # overfitting when with batch norm..\n",
        "# epoch 50\n",
        "# 41.9 (batch 1)\n",
        "# 45.8 (batch 8)\n",
        "# 51.4 (batch 4) (**)\n",
        "# 43.0 (batch 16)\n",
        "\n",
        "# w/o batch normalization: 75%"
      ]
    },
    {
      "cell_type": "markdown",
      "metadata": {
        "id": "08ayIoX_HNha"
      },
      "source": [
        "### loss & acc plot (overfitting)"
      ]
    },
    {
      "cell_type": "code",
      "execution_count": null,
      "metadata": {
        "colab": {
          "base_uri": "https://localhost:8080/",
          "height": 438
        },
        "id": "ui1LqJzvHNhb",
        "outputId": "1113e2b5-2dd8-40c8-93eb-872856b0dfa0"
      },
      "outputs": [
        {
          "name": "stdout",
          "output_type": "stream",
          "text": [
            "12/12 [==============================] - 0s 5ms/step - loss: 1.5792 - accuracy: 0.4246\n",
            "Accuracy of our model on test data :  42.458099126815796 %\n"
          ]
        },
        {
          "data": {
            "image/png": "[encoded data removed]",
            "text/plain": [
              "<Figure size 1440x432 with 2 Axes>"
            ]
          },
          "metadata": {},
          "output_type": "display_data"
        }
      ],
      "source": [
        "print(\"Accuracy of our model on test data : \" , conv_model.evaluate(x_test_mel2d,y_test_mel2d_onehot)[1]*100 , \"%\")\n",
        "\n",
        "epochs = [i for i in range(50)] # epoch!\n",
        "fig , ax = plt.subplots(1,2)\n",
        "train_acc = history.history['accuracy']\n",
        "train_loss = history.history['loss']\n",
        "test_acc = history.history['val_accuracy']\n",
        "test_loss = history.history['val_loss']\n",
        "\n",
        "fig.set_size_inches(20,6)\n",
        "ax[0].plot(epochs , train_loss , label = 'Training Loss')\n",
        "ax[0].plot(epochs , test_loss , label = 'Testing Loss')\n",
        "ax[0].set_title('Training & Testing Loss')\n",
        "ax[0].legend()\n",
        "ax[0].set_xlabel(\"Epochs\")\n",
        "\n",
        "ax[1].plot(epochs , train_acc , label = 'Training Accuracy')\n",
        "ax[1].plot(epochs , test_acc , label = 'Testing Accuracy')\n",
        "ax[1].set_title('Training & Testing Accuracy')\n",
        "ax[1].legend()\n",
        "ax[1].set_xlabel(\"Epochs\")\n",
        "plt.show()"
      ]
    },
    {
      "cell_type": "markdown",
      "metadata": {
        "id": "lGGhCSWfmyrD"
      },
      "source": [
        "## 2d CNN (sparse cross entropy)"
      ]
    },
    {
      "cell_type": "code",
      "execution_count": null,
      "metadata": {
        "id": "CH5FBrGKm1rR"
      },
      "outputs": [],
      "source": [
        "loss='sparse_categorical_crossentropy'"
      ]
    },
    {
      "cell_type": "code",
      "execution_count": null,
      "metadata": {
        "colab": {
          "base_uri": "https://localhost:8080/"
        },
        "id": "ky6NzZ6qm7aI",
        "outputId": "6000b21d-d8e4-4bf9-8da2-6dbabf43b351"
      },
      "outputs": [
        {
          "name": "stdout",
          "output_type": "stream",
          "text": [
            "Model: \"model_9\"\n",
            "_________________________________________________________________\n",
            " Layer (type)                Output Shape              Param #   \n",
            "=================================================================\n",
            " input_10 (InputLayer)       [(None, 128, 282, 1)]     0         \n",
            "                                                                 \n",
            " conv2d_18 (Conv2D)          (None, 128, 282, 8)       136       \n",
            "                                                                 \n",
            " re_lu_18 (ReLU)             (None, 128, 282, 8)       0         \n",
            "                                                                 \n",
            " max_pooling2d_18 (MaxPoolin  (None, 16, 36, 8)        0         \n",
            " g2D)                                                            \n",
            "                                                                 \n",
            " conv2d_19 (Conv2D)          (None, 16, 36, 16)        528       \n",
            "                                                                 \n",
            " re_lu_19 (ReLU)             (None, 16, 36, 16)        0         \n",
            "                                                                 \n",
            " max_pooling2d_19 (MaxPoolin  (None, 4, 9, 16)         0         \n",
            " g2D)                                                            \n",
            "                                                                 \n",
            " flatten_9 (Flatten)         (None, 576)               0         \n",
            "                                                                 \n",
            " dense_9 (Dense)             (None, 8)                 4616      \n",
            "                                                                 \n",
            "=================================================================\n",
            "Total params: 5,280\n",
            "Trainable params: 5,280\n",
            "Non-trainable params: 0\n",
            "_________________________________________________________________\n"
          ]
        }
      ],
      "source": [
        "conv_model = convolutional_model((x_train_mel2d.shape[1], x_train_mel2d.shape[2], x_train_mel2d.shape[3])) \n",
        "conv_model.compile(optimizer=optimizer,\n",
        "                  loss='sparse_categorical_crossentropy',\n",
        "                  metrics=['accuracy'])\n",
        "conv_model.summary()"
      ]
    },
    {
      "cell_type": "code",
      "execution_count": null,
      "metadata": {
        "id": "Ch3eIXz_m-pI"
      },
      "outputs": [],
      "source": [
        "history = conv_model.fit(x_test_mel2d, y_test_mel2d_onehot, validation_data=(x_test_mel2d, y_test_mel2d_onehot), batch_size = 1, epochs=50)\n",
        "temp = conv_model.evaluate(x_test_mel2d, y_test_mel2d)"
      ]
    },
    {
      "cell_type": "markdown",
      "metadata": {
        "id": "nwnMx064KZKl"
      },
      "source": [
        "## 2d CNN (adding layers. deeper)"
      ]
    },
    {
      "cell_type": "code",
      "execution_count": null,
      "metadata": {
        "id": "Wv7M0VVhKmU5"
      },
      "outputs": [],
      "source": [
        "def convolutional_model(input_shape):\n",
        "  input_img = tf.keras.Input(shape=input_shape)\n",
        "  Z1 = tfl.Conv2D(8, (4, 4), strides = (1, 1), padding = 'SAME')(input_img)\n",
        "  A1 = tfl.ReLU()(Z1)\n",
        "  P1 = tfl.MaxPool2D(pool_size=(2, 2), strides=2, padding = \"SAME\")(A1)# (2, 4)?? 원래래 비율율..\n",
        "  D1 = Dropout(rate=0.2)(P1)\n",
        "\n",
        "  ## CONV2D: 16 filters 2x2, stride 1, padding 'SAME'\n",
        "  Z2 = tfl.Conv2D(16, (2, 2), strides = (1, 1), padding = 'SAME')(D1) \n",
        "  A2 = tfl.ReLU()(Z2)\n",
        "  ## MAXPOOL: window 4x4, stride 4, padding 'SAME'\n",
        "  P2 = tfl.MaxPool2D((4, 4), (4, 4), padding= 'SAME')(A2)\n",
        "  D2 = Dropout(rate=0.2)(P2)\n",
        "\n",
        "  ## FLATTEN\n",
        "  F1 = tfl.Flatten()(D2)\n",
        "  F2 = tfl.Dense(256, activation='relu')(F1) # 1024?\n",
        "  # F3 = tfl.Dense(256, activation='relu')(F2)\n",
        "  ## Dense layer\n",
        "  ## 8 neurons in output layer. \n",
        "  outputs = tfl.Dense(8, activation = 'softmax')(F2)\n",
        "\n",
        "  model = tf.keras.Model(inputs=input_img, outputs=outputs)\n",
        "  return model"
      ]
    },
    {
      "cell_type": "code",
      "execution_count": null,
      "metadata": {
        "colab": {
          "base_uri": "https://localhost:8080/"
        },
        "id": "3D7h7UTpKmU7",
        "outputId": "4aa63c8e-8544-4e81-eb58-584afb108cff"
      },
      "outputs": [
        {
          "name": "stdout",
          "output_type": "stream",
          "text": [
            "Model: \"model_17\"\n",
            "_________________________________________________________________\n",
            " Layer (type)                Output Shape              Param #   \n",
            "=================================================================\n",
            " input_18 (InputLayer)       [(None, 128, 282, 1)]     0         \n",
            "                                                                 \n",
            " conv2d_46 (Conv2D)          (None, 128, 282, 8)       136       \n",
            "                                                                 \n",
            " re_lu_22 (ReLU)             (None, 128, 282, 8)       0         \n",
            "                                                                 \n",
            " max_pooling2d_46 (MaxPoolin  (None, 64, 141, 8)       0         \n",
            " g2D)                                                            \n",
            "                                                                 \n",
            " dropout_32 (Dropout)        (None, 64, 141, 8)        0         \n",
            "                                                                 \n",
            " conv2d_47 (Conv2D)          (None, 64, 141, 16)       528       \n",
            "                                                                 \n",
            " re_lu_23 (ReLU)             (None, 64, 141, 16)       0         \n",
            "                                                                 \n",
            " max_pooling2d_47 (MaxPoolin  (None, 16, 36, 16)       0         \n",
            " g2D)                                                            \n",
            "                                                                 \n",
            " dropout_33 (Dropout)        (None, 16, 36, 16)        0         \n",
            "                                                                 \n",
            " flatten_17 (Flatten)        (None, 9216)              0         \n",
            "                                                                 \n",
            " dense_33 (Dense)            (None, 256)               2359552   \n",
            "                                                                 \n",
            " dense_34 (Dense)            (None, 8)                 2056      \n",
            "                                                                 \n",
            "=================================================================\n",
            "Total params: 2,362,272\n",
            "Trainable params: 2,362,272\n",
            "Non-trainable params: 0\n",
            "_________________________________________________________________\n"
          ]
        }
      ],
      "source": [
        "optimizer = tf.keras.optimizers.Adam(0.001)\n",
        "# optimizer = tf.keras.optimizers.RMSprop()\n",
        "conv_model = convolutional_model((x_train_mel2d.shape[1], x_train_mel2d.shape[2], x_train_mel2d.shape[3]))\n",
        "conv_model.compile(optimizer=optimizer,\n",
        "                  loss='categorical_crossentropy',\n",
        "                  metrics=['accuracy'])\n",
        "conv_model.summary()"
      ]
    },
    {
      "cell_type": "code",
      "execution_count": null,
      "metadata": {
        "colab": {
          "base_uri": "https://localhost:8080/"
        },
        "id": "borLnZ-JKmU7",
        "outputId": "98fe6f8f-cea2-49b7-cdc6-691702272ecc"
      },
      "outputs": [
        {
          "name": "stdout",
          "output_type": "stream",
          "text": [
            "Epoch 1/20\n",
            "170/170 [==============================] - 3s 13ms/step - loss: 2.3159 - accuracy: 0.2668 - val_loss: 1.8268 - val_accuracy: 0.2996\n",
            "Epoch 2/20\n",
            "170/170 [==============================] - 2s 11ms/step - loss: 1.7295 - accuracy: 0.3364 - val_loss: 1.7675 - val_accuracy: 0.3178\n",
            "Epoch 3/20\n",
            "170/170 [==============================] - 2s 11ms/step - loss: 1.6470 - accuracy: 0.3713 - val_loss: 1.8083 - val_accuracy: 0.3162\n",
            "Epoch 4/20\n",
            "170/170 [==============================] - 2s 11ms/step - loss: 1.5935 - accuracy: 0.4073 - val_loss: 1.8080 - val_accuracy: 0.3522\n",
            "Epoch 5/20\n",
            "170/170 [==============================] - 2s 11ms/step - loss: 1.5515 - accuracy: 0.4212 - val_loss: 1.8026 - val_accuracy: 0.3594\n",
            "Epoch 6/20\n",
            "170/170 [==============================] - 2s 11ms/step - loss: 1.4682 - accuracy: 0.4655 - val_loss: 1.8243 - val_accuracy: 0.3588\n",
            "Epoch 7/20\n",
            "170/170 [==============================] - 2s 11ms/step - loss: 1.4240 - accuracy: 0.4782 - val_loss: 1.9273 - val_accuracy: 0.3726\n",
            "Epoch 8/20\n",
            "170/170 [==============================] - 2s 11ms/step - loss: 1.4083 - accuracy: 0.5000 - val_loss: 1.8955 - val_accuracy: 0.3859\n",
            "Epoch 9/20\n",
            "170/170 [==============================] - 2s 11ms/step - loss: 1.2869 - accuracy: 0.5390 - val_loss: 2.0051 - val_accuracy: 0.3887\n",
            "Epoch 10/20\n",
            "170/170 [==============================] - 2s 11ms/step - loss: 1.2113 - accuracy: 0.5681 - val_loss: 2.0896 - val_accuracy: 0.4048\n",
            "Epoch 11/20\n",
            "170/170 [==============================] - 2s 11ms/step - loss: 1.2109 - accuracy: 0.5840 - val_loss: 2.1975 - val_accuracy: 0.3798\n",
            "Epoch 12/20\n",
            "170/170 [==============================] - 2s 11ms/step - loss: 1.1016 - accuracy: 0.6108 - val_loss: 2.3060 - val_accuracy: 0.4048\n",
            "Epoch 13/20\n",
            "170/170 [==============================] - 2s 11ms/step - loss: 1.0162 - accuracy: 0.6390 - val_loss: 2.9833 - val_accuracy: 0.4092\n",
            "Epoch 14/20\n",
            "170/170 [==============================] - 2s 11ms/step - loss: 1.1641 - accuracy: 0.6368 - val_loss: 2.4134 - val_accuracy: 0.3876\n",
            "Epoch 15/20\n",
            "170/170 [==============================] - 2s 11ms/step - loss: 1.0553 - accuracy: 0.6497 - val_loss: 2.3318 - val_accuracy: 0.4042\n",
            "Epoch 16/20\n",
            "170/170 [==============================] - 2s 11ms/step - loss: 0.9640 - accuracy: 0.6843 - val_loss: 2.6643 - val_accuracy: 0.3782\n",
            "Epoch 17/20\n",
            "170/170 [==============================] - 2s 11ms/step - loss: 0.9549 - accuracy: 0.6819 - val_loss: 2.8353 - val_accuracy: 0.4081\n",
            "Epoch 18/20\n",
            "170/170 [==============================] - 2s 11ms/step - loss: 0.9193 - accuracy: 0.7079 - val_loss: 2.8246 - val_accuracy: 0.4203\n",
            "Epoch 19/20\n",
            "170/170 [==============================] - 2s 11ms/step - loss: 0.8075 - accuracy: 0.7229 - val_loss: 3.2096 - val_accuracy: 0.4241\n",
            "Epoch 20/20\n",
            "170/170 [==============================] - 2s 11ms/step - loss: 0.8344 - accuracy: 0.7273 - val_loss: 3.1526 - val_accuracy: 0.4330\n"
          ]
        }
      ],
      "source": [
        "history = conv_model.fit(x_train_mel2d, y_train_mel2d_onehot, validation_data=(x_test_mel2d, y_test_mel2d_onehot), batch_size = 8, epochs=20, shuffle=True)"
      ]
    },
    {
      "cell_type": "code",
      "execution_count": null,
      "metadata": {
        "colab": {
          "base_uri": "https://localhost:8080/"
        },
        "id": "vgEMybVgKmU8",
        "outputId": "c2be0b68-ca22-4ed3-c77f-22d4b19fcc05"
      },
      "outputs": [
        {
          "name": "stdout",
          "output_type": "stream",
          "text": [
            "11/11 [==============================] - 0s 6ms/step - loss: 8.8422 - accuracy: 0.5015\n"
          ]
        }
      ],
      "source": [
        "temp = conv_model.evaluate(x_test_mel2d, y_test_mel2d_onehot)"
      ]
    },
    {
      "cell_type": "code",
      "execution_count": null,
      "metadata": {
        "colab": {
          "base_uri": "https://localhost:8080/",
          "height": 436
        },
        "id": "2HD34MEqU4QR",
        "outputId": "48f0dc0b-2931-4150-c5c9-43bbe34d28f0"
      },
      "outputs": [
        {
          "name": "stdout",
          "output_type": "stream",
          "text": [
            "11/11 [==============================] - 0s 6ms/step - loss: 8.8422 - accuracy: 0.5015\n",
            "Accuracy of our model on test data :  50.14577507972717 %\n"
          ]
        },
        {
          "data": {
            "image/png": "[encoded data removed]",
            "text/plain": [
              "<Figure size 1440x432 with 2 Axes>"
            ]
          },
          "metadata": {},
          "output_type": "display_data"
        }
      ],
      "source": [
        "print(\"Accuracy of our model on test data : \" , conv_model.evaluate(x_test_mel2d,y_test_mel2d_onehot)[1]*100 , \"%\")\n",
        "\n",
        "epochs = [i for i in range(50)] # epoch!\n",
        "fig , ax = plt.subplots(1,2)\n",
        "train_acc = history.history['accuracy']\n",
        "train_loss = history.history['loss']\n",
        "test_acc = history.history['val_accuracy']\n",
        "test_loss = history.history['val_loss']\n",
        "\n",
        "fig.set_size_inches(20,6)\n",
        "ax[0].plot(epochs , train_loss , label = 'Training Loss')\n",
        "ax[0].plot(epochs , test_loss , label = 'Testing Loss')\n",
        "ax[0].set_title('Training & Testing Loss')\n",
        "ax[0].legend()\n",
        "ax[0].set_xlabel(\"Epochs\")\n",
        "\n",
        "ax[1].plot(epochs , train_acc , label = 'Training Accuracy')\n",
        "ax[1].plot(epochs , test_acc , label = 'Testing Accuracy')\n",
        "ax[1].set_title('Training & Testing Accuracy')\n",
        "ax[1].legend()\n",
        "ax[1].set_xlabel(\"Epochs\")\n",
        "plt.show()"
      ]
    },
    {
      "cell_type": "code",
      "execution_count": null,
      "metadata": {
        "id": "nRaIAzYIU4QU"
      },
      "outputs": [],
      "source": [
        "lb = LabelEncoder()\n",
        "emotion = ['neutral', 'calm', 'happy', 'sad', 'angry', 'fearful', 'disgust', 'surprised']\n",
        "lb.fit(emotion)\n",
        "\n",
        "pred_test = conv_model.predict(x_test_mel2d)\n",
        "\n",
        "# print(pred_test.shape)\n",
        "# print(np.argmax(pred_test, axis = 1))\n",
        "# print(np.argmax(pred_test, axis = 1).shape)\n",
        "\n",
        "pred_test = np.argmax(pred_test, axis = 1)\n",
        "y_pred = lb.inverse_transform(pred_test) ## number -> string (emotion)\n",
        "\n",
        "# print(y_pred.shape) # (358,)\n",
        "# print(y_test_mel2d.shape) # list. 358"
      ]
    },
    {
      "cell_type": "code",
      "execution_count": null,
      "metadata": {
        "colab": {
          "base_uri": "https://localhost:8080/",
          "height": 630
        },
        "id": "GRrRpUodU4QU",
        "outputId": "81c77d81-6b95-4d98-a342-a7a46d95c098"
      },
      "outputs": [
        {
          "data": {
            "image/png": "[encoded data removed]",
            "text/plain": [
              "<Figure size 864x720 with 2 Axes>"
            ]
          },
          "metadata": {},
          "output_type": "display_data"
        }
      ],
      "source": [
        "cm = confusion_matrix(y_test_mel2d, y_pred)\n",
        "plt.figure(figsize = (12, 10))\n",
        "# cm = pd.DataFrame(cm , index = [i for i in lb.categories_] , columns = [i for i in lb.categories_])\n",
        "cm = pd.DataFrame(cm , index = [i for i in emotion] , columns = [i for i in emotion])\n",
        "sns.heatmap(cm, linecolor='white', cmap='Blues', linewidth=1, annot=True, fmt='')\n",
        "plt.title('Confusion Matrix', size=20)\n",
        "plt.xlabel('Predicted Labels', size=14)\n",
        "plt.ylabel('Actual Labels', size=14)\n",
        "plt.show()"
      ]
    },
    {
      "cell_type": "markdown",
      "metadata": {
        "id": "_LzFIIGuNF4q"
      },
      "source": [
        "## 2d CNN (changing filter size, changing FC)"
      ]
    },
    {
      "cell_type": "code",
      "execution_count": null,
      "metadata": {
        "id": "RIXc2xPZNF4t"
      },
      "outputs": [],
      "source": [
        "def convolutional_model(input_shape):\n",
        "  input_img = tf.keras.Input(shape=input_shape)\n",
        "  Z1 = tfl.Conv2D(8, (4, 4), strides = (1, 1), padding = 'SAME')(input_img)\n",
        "  A1 = tfl.ReLU()(Z1)\n",
        "  P1 = tfl.MaxPool2D(pool_size=(2, 4), strides=(2, 4), padding = \"SAME\")(A1)# (2, 4)?? 원래래 비율율..\n",
        "\n",
        "  ## CONV2D: 16 filters 2x2, stride 1, padding 'SAME'\n",
        "  Z2 = tfl.Conv2D(16, (2, 2), strides = (1, 1), padding = 'SAME')(P1) \n",
        "  A2 = tfl.ReLU()(Z2)\n",
        "  ## MAXPOOL: window 4x4, stride 4, padding 'SAME'\n",
        "  P2 = tfl.MaxPool2D((2, 4), (2, 4), padding= 'SAME')(A2)\n",
        "  ## FLATTEN\n",
        "  F1 = tfl.Flatten()(P2)\n",
        "  F2 = tfl.Dense(120, activation='relu')(F1) # 1024?\n",
        "  # F3 = tfl.Dense(256, activation='relu')(F2)\n",
        "  ## Dense layer\n",
        "  ## 8 neurons in output layer. \n",
        "  outputs = tfl.Dense(8, activation = 'softmax')(F2)\n",
        "\n",
        "  model = tf.keras.Model(inputs=input_img, outputs=outputs)\n",
        "  return model"
      ]
    },
    {
      "cell_type": "code",
      "execution_count": null,
      "metadata": {
        "colab": {
          "base_uri": "https://localhost:8080/"
        },
        "id": "qmB5KFNUNF4t",
        "outputId": "d1d95a45-6253-4cb5-a765-d38a5c2ecccc"
      },
      "outputs": [
        {
          "name": "stdout",
          "output_type": "stream",
          "text": [
            "Model: \"model_23\"\n",
            "_________________________________________________________________\n",
            " Layer (type)                Output Shape              Param #   \n",
            "=================================================================\n",
            " input_24 (InputLayer)       [(None, 128, 188, 1)]     0         \n",
            "                                                                 \n",
            " conv2d_58 (Conv2D)          (None, 128, 188, 8)       136       \n",
            "                                                                 \n",
            " re_lu_34 (ReLU)             (None, 128, 188, 8)       0         \n",
            "                                                                 \n",
            " max_pooling2d_58 (MaxPoolin  (None, 64, 47, 8)        0         \n",
            " g2D)                                                            \n",
            "                                                                 \n",
            " conv2d_59 (Conv2D)          (None, 64, 47, 16)        528       \n",
            "                                                                 \n",
            " re_lu_35 (ReLU)             (None, 64, 47, 16)        0         \n",
            "                                                                 \n",
            " max_pooling2d_59 (MaxPoolin  (None, 32, 12, 16)       0         \n",
            " g2D)                                                            \n",
            "                                                                 \n",
            " flatten_23 (Flatten)        (None, 6144)              0         \n",
            "                                                                 \n",
            " dense_45 (Dense)            (None, 120)               737400    \n",
            "                                                                 \n",
            " dense_46 (Dense)            (None, 8)                 968       \n",
            "                                                                 \n",
            "=================================================================\n",
            "Total params: 739,032\n",
            "Trainable params: 739,032\n",
            "Non-trainable params: 0\n",
            "_________________________________________________________________\n"
          ]
        }
      ],
      "source": [
        "optimizer = tf.keras.optimizers.Adam(0.001)\n",
        "# optimizer = tf.keras.optimizers.RMSprop()\n",
        "conv_model = convolutional_model((x_train_mel2d.shape[1], x_train_mel2d.shape[2], x_train_mel2d.shape[3]))\n",
        "conv_model.compile(optimizer=optimizer,\n",
        "                  loss='categorical_crossentropy',\n",
        "                  metrics=['accuracy'])\n",
        "conv_model.summary()"
      ]
    },
    {
      "cell_type": "code",
      "execution_count": null,
      "metadata": {
        "id": "AGF5ivaYelqZ"
      },
      "outputs": [],
      "source": [
        "# Normalization as per the standard NN process\n",
        "mean = np.mean(x_train_mel2d, axis=0)\n",
        "std = np.std(x_train_mel2d, axis=0)\n",
        "\n",
        "x_train_mel2d_norm = (x_train_mel2d - mean)/std\n",
        "x_test_mel2d_norm = (x_test_mel2d - mean)/std"
      ]
    },
    {
      "cell_type": "code",
      "execution_count": null,
      "metadata": {
        "colab": {
          "base_uri": "https://localhost:8080/"
        },
        "id": "MEv6Yn20NF4u",
        "outputId": "10c63095-5bf9-4ff6-b17a-c298d6eaf270"
      },
      "outputs": [
        {
          "name": "stdout",
          "output_type": "stream",
          "text": [
            "Epoch 1/20\n",
            "90/90 [==============================] - 1s 9ms/step - loss: 1.3834 - accuracy: 0.6279 - val_loss: 1.0799 - val_accuracy: 0.6979\n",
            "Epoch 2/20\n",
            "90/90 [==============================] - 1s 7ms/step - loss: 0.7806 - accuracy: 0.7578 - val_loss: 1.1094 - val_accuracy: 0.7333\n",
            "Epoch 3/20\n",
            "90/90 [==============================] - 1s 7ms/step - loss: 0.5757 - accuracy: 0.8019 - val_loss: 1.0873 - val_accuracy: 0.7427\n",
            "Epoch 4/20\n",
            "90/90 [==============================] - 1s 7ms/step - loss: 0.5031 - accuracy: 0.8238 - val_loss: 1.1128 - val_accuracy: 0.7490\n",
            "Epoch 5/20\n",
            "90/90 [==============================] - 1s 7ms/step - loss: 0.4698 - accuracy: 0.8436 - val_loss: 1.2309 - val_accuracy: 0.7531\n",
            "Epoch 6/20\n",
            "90/90 [==============================] - 1s 7ms/step - loss: 0.5402 - accuracy: 0.8419 - val_loss: 1.3591 - val_accuracy: 0.7469\n",
            "Epoch 7/20\n",
            "90/90 [==============================] - 1s 7ms/step - loss: 0.4789 - accuracy: 0.8464 - val_loss: 1.4247 - val_accuracy: 0.7292\n",
            "Epoch 8/20\n",
            "90/90 [==============================] - 1s 7ms/step - loss: 0.4220 - accuracy: 0.8628 - val_loss: 1.4254 - val_accuracy: 0.7750\n",
            "Epoch 9/20\n",
            "90/90 [==============================] - 1s 7ms/step - loss: 0.3419 - accuracy: 0.8871 - val_loss: 1.4466 - val_accuracy: 0.7698\n",
            "Epoch 10/20\n",
            "90/90 [==============================] - 1s 7ms/step - loss: 0.2855 - accuracy: 0.9065 - val_loss: 1.6900 - val_accuracy: 0.7708\n",
            "Epoch 11/20\n",
            "90/90 [==============================] - 1s 7ms/step - loss: 0.3211 - accuracy: 0.9034 - val_loss: 1.4211 - val_accuracy: 0.7792\n",
            "Epoch 12/20\n",
            "90/90 [==============================] - 1s 7ms/step - loss: 0.3150 - accuracy: 0.9048 - val_loss: 1.6242 - val_accuracy: 0.7802\n",
            "Epoch 13/20\n",
            "90/90 [==============================] - 1s 7ms/step - loss: 0.2656 - accuracy: 0.9163 - val_loss: 1.8878 - val_accuracy: 0.7833\n",
            "Epoch 14/20\n",
            "90/90 [==============================] - 1s 7ms/step - loss: 0.2316 - accuracy: 0.9243 - val_loss: 1.9182 - val_accuracy: 0.7854\n",
            "Epoch 15/20\n",
            "90/90 [==============================] - 1s 7ms/step - loss: 0.2027 - accuracy: 0.9319 - val_loss: 2.2125 - val_accuracy: 0.7740\n",
            "Epoch 16/20\n",
            "90/90 [==============================] - 1s 7ms/step - loss: 0.2107 - accuracy: 0.9291 - val_loss: 2.2351 - val_accuracy: 0.7844\n",
            "Epoch 17/20\n",
            "90/90 [==============================] - 1s 7ms/step - loss: 0.2861 - accuracy: 0.9256 - val_loss: 2.2692 - val_accuracy: 0.7563\n",
            "Epoch 18/20\n",
            "90/90 [==============================] - 1s 7ms/step - loss: 0.2128 - accuracy: 0.9347 - val_loss: 2.3109 - val_accuracy: 0.7875\n",
            "Epoch 19/20\n",
            "90/90 [==============================] - 1s 7ms/step - loss: 0.1685 - accuracy: 0.9482 - val_loss: 2.6198 - val_accuracy: 0.7854\n",
            "Epoch 20/20\n",
            "90/90 [==============================] - 1s 7ms/step - loss: 0.1569 - accuracy: 0.9482 - val_loss: 2.9977 - val_accuracy: 0.7823\n"
          ]
        }
      ],
      "source": [
        "history = conv_model.fit(x_train_mel2d, y_train_mel2d_onehot, validation_data=(x_test_mel2d, y_test_mel2d_onehot), batch_size = 32, epochs=20, shuffle = True)"
      ]
    },
    {
      "cell_type": "code",
      "execution_count": null,
      "metadata": {
        "colab": {
          "base_uri": "https://localhost:8080/"
        },
        "id": "RfNAHEQPNF4u",
        "outputId": "0e419b12-201c-41bd-cf28-cdfb27426fd7"
      },
      "outputs": [
        {
          "name": "stdout",
          "output_type": "stream",
          "text": [
            "30/30 [==============================] - 0s 3ms/step - loss: 2.9977 - accuracy: 0.7823\n"
          ]
        }
      ],
      "source": [
        "temp = conv_model.evaluate(x_test_mel2d, y_test_mel2d_onehot)"
      ]
    },
    {
      "cell_type": "code",
      "execution_count": null,
      "metadata": {
        "colab": {
          "base_uri": "https://localhost:8080/",
          "height": 435
        },
        "id": "d3Tkf9hBNF4u",
        "outputId": "fc553f9f-b817-4474-a83e-08e9c66f5d3b"
      },
      "outputs": [
        {
          "name": "stdout",
          "output_type": "stream",
          "text": [
            "30/30 [==============================] - 0s 4ms/step - loss: 2.9977 - accuracy: 0.7823\n",
            "Accuracy of our model on test data :  78.22916507720947 %\n"
          ]
        },
        {
          "data": {
            "image/png": "[encoded data removed]",
            "text/plain": [
              "<Figure size 1440x432 with 2 Axes>"
            ]
          },
          "metadata": {},
          "output_type": "display_data"
        }
      ],
      "source": [
        "print(\"Accuracy of our model on test data : \" , conv_model.evaluate(x_test_mel2d,y_test_mel2d_onehot)[1]*100 , \"%\")\n",
        "\n",
        "epochs = [i for i in range(20)] # epoch!\n",
        "fig , ax = plt.subplots(1,2)\n",
        "train_acc = history.history['accuracy']\n",
        "train_loss = history.history['loss']\n",
        "test_acc = history.history['val_accuracy']\n",
        "test_loss = history.history['val_loss']\n",
        "\n",
        "fig.set_size_inches(20,6)\n",
        "ax[0].plot(epochs , train_loss , label = 'Training Loss')\n",
        "ax[0].plot(epochs , test_loss , label = 'Testing Loss')\n",
        "ax[0].set_title('Training & Testing Loss')\n",
        "ax[0].legend()\n",
        "ax[0].set_xlabel(\"Epochs\")\n",
        "\n",
        "ax[1].plot(epochs , train_acc , label = 'Training Accuracy')\n",
        "ax[1].plot(epochs , test_acc , label = 'Testing Accuracy')\n",
        "ax[1].set_title('Training & Testing Accuracy')\n",
        "ax[1].legend()\n",
        "ax[1].set_xlabel(\"Epochs\")\n",
        "plt.show()"
      ]
    },
    {
      "cell_type": "code",
      "execution_count": null,
      "metadata": {
        "id": "TM-F9CrcNF4u"
      },
      "outputs": [],
      "source": [
        "lb = LabelEncoder()\n",
        "emotion = ['neutral', 'calm', 'happy', 'sad', 'angry', 'fearful', 'disgust', 'surprised']\n",
        "lb.fit(emotion)\n",
        "\n",
        "pred_test = conv_model.predict(x_test_mel2d)\n",
        "\n",
        "# print(pred_test.shape)\n",
        "# print(np.argmax(pred_test, axis = 1))\n",
        "# print(np.argmax(pred_test, axis = 1).shape)\n",
        "\n",
        "pred_test = np.argmax(pred_test, axis = 1)\n",
        "y_pred = lb.inverse_transform(pred_test) ## number -> string (emotion)\n",
        "\n",
        "# print(y_pred.shape) # (358,)\n",
        "# print(y_test_mel2d.shape) # list. 358"
      ]
    },
    {
      "cell_type": "code",
      "execution_count": null,
      "metadata": {
        "colab": {
          "base_uri": "https://localhost:8080/",
          "height": 630
        },
        "id": "cEQOsNegNF4u",
        "outputId": "16b14d12-558b-4a06-ede1-97e1b4ee2fc1"
      },
      "outputs": [
        {
          "data": {
            "image/png": "[encoded data removed]",
            "text/plain": [
              "<Figure size 864x720 with 2 Axes>"
            ]
          },
          "metadata": {},
          "output_type": "display_data"
        }
      ],
      "source": [
        "cm = confusion_matrix(y_test_mel2d, y_pred)\n",
        "plt.figure(figsize = (12, 10))\n",
        "# cm = pd.DataFrame(cm , index = [i for i in lb.categories_] , columns = [i for i in lb.categories_])\n",
        "cm = pd.DataFrame(cm , index = [i for i in emotion] , columns = [i for i in emotion])\n",
        "sns.heatmap(cm, linecolor='white', cmap='Blues', linewidth=1, annot=True, fmt='')\n",
        "plt.title('Confusion Matrix', size=20)\n",
        "plt.xlabel('Predicted Labels', size=14)\n",
        "plt.ylabel('Actual Labels', size=14)\n",
        "plt.show()"
      ]
    },
    {
      "cell_type": "markdown",
      "metadata": {
        "id": "EdQOBIvcWpCu"
      },
      "source": [
        "## 2d CNN (mfcc 2d)\n",
        "- accuracy: 63.41%"
      ]
    },
    {
      "cell_type": "code",
      "execution_count": null,
      "metadata": {
        "id": "VUnpnB9XjBK4"
      },
      "outputs": [],
      "source": [
        "# one hot encode the target \n",
        "lb = LabelEncoder()\n",
        "y_train_mfcc2d_onehot = np_utils.to_categorical(lb.fit_transform(y_train_mfcc2d))\n",
        "y_test_mfcc2d_onehot = np_utils.to_categorical(lb.fit_transform(y_test_mfcc2d))"
      ]
    },
    {
      "cell_type": "code",
      "execution_count": null,
      "metadata": {
        "colab": {
          "base_uri": "https://localhost:8080/"
        },
        "id": "t9kZkQv5jBK5",
        "outputId": "435af427-b992-4a7a-f66e-3b5ddedf0ed9"
      },
      "outputs": [
        {
          "name": "stdout",
          "output_type": "stream",
          "text": [
            "(1072, 8)\n",
            "(358, 8)\n"
          ]
        }
      ],
      "source": [
        "# print(y_train_mfcc2d_onehot)\n",
        "# print(y_test_mfcc2d_onehot)\n",
        "print(y_train_mfcc2d_onehot.shape)\n",
        "print(y_test_mfcc2d_onehot.shape)"
      ]
    },
    {
      "cell_type": "code",
      "execution_count": null,
      "metadata": {
        "colab": {
          "base_uri": "https://localhost:8080/"
        },
        "id": "G11bPvT5ieQw",
        "outputId": "3c28edd0-c4fa-4e12-8263-7adcfba6b029"
      },
      "outputs": [
        {
          "name": "stdout",
          "output_type": "stream",
          "text": [
            "Model: \"model\"\n",
            "_________________________________________________________________\n",
            " Layer (type)                Output Shape              Param #   \n",
            "=================================================================\n",
            " input_1 (InputLayer)        [(None, 40, 282, 1)]      0         \n",
            "                                                                 \n",
            " conv2d (Conv2D)             (None, 40, 282, 8)        136       \n",
            "                                                                 \n",
            " re_lu (ReLU)                (None, 40, 282, 8)        0         \n",
            "                                                                 \n",
            " max_pooling2d (MaxPooling2D  (None, 5, 36, 8)         0         \n",
            " )                                                               \n",
            "                                                                 \n",
            " conv2d_1 (Conv2D)           (None, 5, 36, 16)         528       \n",
            "                                                                 \n",
            " re_lu_1 (ReLU)              (None, 5, 36, 16)         0         \n",
            "                                                                 \n",
            " max_pooling2d_1 (MaxPooling  (None, 2, 9, 16)         0         \n",
            " 2D)                                                             \n",
            "                                                                 \n",
            " flatten (Flatten)           (None, 288)               0         \n",
            "                                                                 \n",
            " dense (Dense)               (None, 8)                 2312      \n",
            "                                                                 \n",
            "=================================================================\n",
            "Total params: 2,976\n",
            "Trainable params: 2,976\n",
            "Non-trainable params: 0\n",
            "_________________________________________________________________\n"
          ]
        }
      ],
      "source": [
        "conv_model = convolutional_model((x_train_mfcc2d.shape[1], x_train_mfcc2d.shape[2], x_train_mfcc2d.shape[3]))\n",
        "conv_model.compile(optimizer='adam',\n",
        "                  loss='categorical_crossentropy',\n",
        "                  metrics=['accuracy'])\n",
        "conv_model.summary()"
      ]
    },
    {
      "cell_type": "code",
      "execution_count": null,
      "metadata": {
        "colab": {
          "base_uri": "https://localhost:8080/"
        },
        "id": "gotCnQsYieQx",
        "outputId": "fdd5aff9-1f6f-41df-e326-e4ebe2ff1d5f"
      },
      "outputs": [
        {
          "name": "stdout",
          "output_type": "stream",
          "text": [
            "Epoch 1/20\n",
            "23/23 [==============================] - 13s 39ms/step - loss: 18.6043 - accuracy: 0.1285 - val_loss: 8.9621 - val_accuracy: 0.1676\n",
            "Epoch 2/20\n",
            "23/23 [==============================] - 0s 17ms/step - loss: 5.9060 - accuracy: 0.1620 - val_loss: 4.4855 - val_accuracy: 0.2011\n",
            "Epoch 3/20\n",
            "23/23 [==============================] - 0s 17ms/step - loss: 3.9778 - accuracy: 0.1927 - val_loss: 3.2965 - val_accuracy: 0.2039\n",
            "Epoch 4/20\n",
            "23/23 [==============================] - 0s 16ms/step - loss: 3.1236 - accuracy: 0.2346 - val_loss: 2.8626 - val_accuracy: 0.2542\n",
            "Epoch 5/20\n",
            "23/23 [==============================] - 0s 18ms/step - loss: 2.7206 - accuracy: 0.2654 - val_loss: 2.5511 - val_accuracy: 0.2682\n",
            "Epoch 6/20\n",
            "23/23 [==============================] - 0s 14ms/step - loss: 2.3820 - accuracy: 0.3017 - val_loss: 2.1831 - val_accuracy: 0.3324\n",
            "Epoch 7/20\n",
            "23/23 [==============================] - 0s 14ms/step - loss: 2.1805 - accuracy: 0.2905 - val_loss: 2.1190 - val_accuracy: 0.3659\n",
            "Epoch 8/20\n",
            "23/23 [==============================] - 0s 12ms/step - loss: 2.0321 - accuracy: 0.3408 - val_loss: 1.9176 - val_accuracy: 0.3575\n",
            "Epoch 9/20\n",
            "23/23 [==============================] - 0s 14ms/step - loss: 1.9075 - accuracy: 0.3631 - val_loss: 1.8975 - val_accuracy: 0.3855\n",
            "Epoch 10/20\n",
            "23/23 [==============================] - 0s 14ms/step - loss: 1.8557 - accuracy: 0.4022 - val_loss: 1.6980 - val_accuracy: 0.4358\n",
            "Epoch 11/20\n",
            "23/23 [==============================] - 0s 14ms/step - loss: 1.6932 - accuracy: 0.4134 - val_loss: 1.6041 - val_accuracy: 0.4441\n",
            "Epoch 12/20\n",
            "23/23 [==============================] - 0s 14ms/step - loss: 1.6564 - accuracy: 0.4106 - val_loss: 1.7032 - val_accuracy: 0.4637\n",
            "Epoch 13/20\n",
            "23/23 [==============================] - 0s 11ms/step - loss: 1.6403 - accuracy: 0.4162 - val_loss: 1.5269 - val_accuracy: 0.4749\n",
            "Epoch 14/20\n",
            "23/23 [==============================] - 0s 12ms/step - loss: 1.5768 - accuracy: 0.4944 - val_loss: 1.5269 - val_accuracy: 0.4553\n",
            "Epoch 15/20\n",
            "23/23 [==============================] - 0s 14ms/step - loss: 1.5885 - accuracy: 0.4413 - val_loss: 1.4624 - val_accuracy: 0.4944\n",
            "Epoch 16/20\n",
            "23/23 [==============================] - 0s 14ms/step - loss: 1.5234 - accuracy: 0.4944 - val_loss: 1.4326 - val_accuracy: 0.4888\n",
            "Epoch 17/20\n",
            "23/23 [==============================] - 0s 11ms/step - loss: 1.3755 - accuracy: 0.5196 - val_loss: 1.2512 - val_accuracy: 0.5782\n",
            "Epoch 18/20\n",
            "23/23 [==============================] - 0s 14ms/step - loss: 1.2919 - accuracy: 0.5698 - val_loss: 1.1868 - val_accuracy: 0.6034\n",
            "Epoch 19/20\n",
            "23/23 [==============================] - 0s 14ms/step - loss: 1.2661 - accuracy: 0.5670 - val_loss: 1.1839 - val_accuracy: 0.5838\n",
            "Epoch 20/20\n",
            "23/23 [==============================] - 0s 11ms/step - loss: 1.2526 - accuracy: 0.5782 - val_loss: 1.0926 - val_accuracy: 0.6341\n"
          ]
        }
      ],
      "source": [
        "history = conv_model.fit(x_test_mfcc2d, y_test_mfcc2d_onehot, validation_data=(x_test_mfcc2d, y_test_mfcc2d_onehot), batch_size = 16, epochs=20)"
      ]
    },
    {
      "cell_type": "code",
      "execution_count": null,
      "metadata": {
        "colab": {
          "base_uri": "https://localhost:8080/"
        },
        "id": "N0T7eJPxieQx",
        "outputId": "ac744e11-9f71-4d2d-e3f2-0ef8f7e7dd78"
      },
      "outputs": [
        {
          "name": "stdout",
          "output_type": "stream",
          "text": [
            "12/12 [==============================] - 0s 7ms/step - loss: 1.0926 - accuracy: 0.6341\n"
          ]
        }
      ],
      "source": [
        "temp = conv_model.evaluate(x_test_mfcc2d, y_test_mfcc2d_onehot)"
      ]
    },
    {
      "cell_type": "markdown",
      "metadata": {
        "id": "CIkkJlh5gEFs"
      },
      "source": [
        "## 1d CNN 1d (mel + mfcc 1d)"
      ]
    },
    {
      "cell_type": "code",
      "execution_count": null,
      "metadata": {
        "colab": {
          "background_save": true
        },
        "id": "_Iu0hPmog26c"
      },
      "outputs": [],
      "source": [
        "# one hot encode the target \n",
        "lb = LabelEncoder()\n",
        "y_train_onehot = np_utils.to_categorical(lb.fit_transform(y_train)) # one hot ?\n",
        "y_test_onehot = np_utils.to_categorical(lb.fit_transform(y_test))"
      ]
    },
    {
      "cell_type": "code",
      "execution_count": null,
      "metadata": {
        "id": "4USvLplwmXC4"
      },
      "outputs": [],
      "source": [
        "# one hot encode the target \n",
        "lb = LabelEncoder()\n",
        "y_train_mfcc1d_onehot = np_utils.to_categorical(lb.fit_transform(y_train_mfcc1d)) # one hot ?\n",
        "y_test_mfcc1d_onehot = np_utils.to_categorical(lb.fit_transform(y_test_mfcc1d))"
      ]
    },
    {
      "cell_type": "code",
      "execution_count": null,
      "metadata": {
        "colab": {
          "base_uri": "https://localhost:8080/"
        },
        "id": "nxlJolR4i1NY",
        "outputId": "1b44aa3f-8cce-479f-9cb7-969c021fddbc"
      },
      "outputs": [
        {
          "name": "stdout",
          "output_type": "stream",
          "text": [
            "(2878, 168, 1)\n",
            "(960, 168, 1)\n"
          ]
        }
      ],
      "source": [
        "x_train_expand = np.expand_dims(x_train, axis=-1)\n",
        "x_test_expand = np.expand_dims(x_test, axis=-1)\n",
        "print(x_train_expand.shape)\n",
        "print(x_test_expand.shape)"
      ]
    },
    {
      "cell_type": "code",
      "execution_count": null,
      "metadata": {
        "colab": {
          "base_uri": "https://localhost:8080/"
        },
        "id": "0qapCds0mg0G",
        "outputId": "316f639e-902e-49e3-981e-b15ae395bf31"
      },
      "outputs": [
        {
          "name": "stdout",
          "output_type": "stream",
          "text": [
            "(2877, 40, 1)\n",
            "(960, 40, 1)\n"
          ]
        }
      ],
      "source": [
        "x_train_mfcc1d = np.expand_dims(x_train_mfcc1d, axis=-1)\n",
        "x_test_mfcc1d = np.expand_dims(x_test_mfcc1d, axis=-1)\n",
        "print(x_train_mfcc1d.shape)\n",
        "print(x_test_mfcc1d.shape)"
      ]
    },
    {
      "cell_type": "code",
      "execution_count": null,
      "metadata": {
        "colab": {
          "background_save": true
        },
        "id": "S1o4tKUWgHDG"
      },
      "outputs": [],
      "source": [
        "Model=Sequential()\n",
        "Model.add(Conv1D(256, kernel_size=5, strides=1, padding='same', activation='relu', input_shape=(x_train.shape[1], 1)))\n",
        "Model.add(MaxPooling1D(pool_size=5, strides = 2, padding = 'same'))\n",
        "\n",
        "Model.add(Conv1D(256, kernel_size=5, strides=1, padding='same', activation='relu'))\n",
        "Model.add(MaxPooling1D(pool_size=5, strides = 2, padding = 'same'))\n",
        "\n",
        "Model.add(Conv1D(128, kernel_size=5, strides=1, padding='same', activation='relu'))\n",
        "Model.add(MaxPooling1D(pool_size=5, strides = 2, padding = 'same'))\n",
        "Model.add(Dropout(0.2))\n",
        "\n",
        "Model.add(Conv1D(64, kernel_size=5, strides=1, padding='same', activation='relu'))\n",
        "Model.add(MaxPooling1D(pool_size=5, strides = 2, padding = 'same'))\n",
        "\n",
        "Model.add(Flatten())\n",
        "Model.add(Dense(units=32, activation='relu'))\n",
        "Model.add(Dropout(0.3))\n",
        "\n",
        "Model.add(Dense(units=8, activation='softmax'))"
      ]
    },
    {
      "cell_type": "code",
      "execution_count": null,
      "metadata": {
        "colab": {
          "background_save": true
        },
        "id": "aMIvJbtdgYD5"
      },
      "outputs": [],
      "source": [
        "Model.compile(optimizer = 'adam' , loss = 'categorical_crossentropy' , metrics = ['accuracy'])"
      ]
    },
    {
      "cell_type": "code",
      "execution_count": null,
      "metadata": {
        "id": "i1NsSM76gY0-"
      },
      "outputs": [],
      "source": [
        "# early_stop = tf.keras.callbacks.EarlyStopping(monitor=\"loss\",patience=3,mode=\"min\")"
      ]
    },
    {
      "cell_type": "code",
      "execution_count": null,
      "metadata": {
        "colab": {
          "background_save": true
        },
        "id": "6xiARMjhh8vu",
        "outputId": "499bd732-8ca0-461b-eedc-b367cd876c99"
      },
      "outputs": [
        {
          "name": "stdout",
          "output_type": "stream",
          "text": [
            "Model: \"sequential\"\n",
            "_________________________________________________________________\n",
            " Layer (type)                Output Shape              Param #   \n",
            "=================================================================\n",
            " conv1d (Conv1D)             (None, 168, 256)          1536      \n",
            "                                                                 \n",
            " max_pooling1d (MaxPooling1D  (None, 84, 256)          0         \n",
            " )                                                               \n",
            "                                                                 \n",
            " conv1d_1 (Conv1D)           (None, 84, 256)           327936    \n",
            "                                                                 \n",
            " max_pooling1d_1 (MaxPooling  (None, 42, 256)          0         \n",
            " 1D)                                                             \n",
            "                                                                 \n",
            " conv1d_2 (Conv1D)           (None, 42, 128)           163968    \n",
            "                                                                 \n",
            " max_pooling1d_2 (MaxPooling  (None, 21, 128)          0         \n",
            " 1D)                                                             \n",
            "                                                                 \n",
            " dropout (Dropout)           (None, 21, 128)           0         \n",
            "                                                                 \n",
            " conv1d_3 (Conv1D)           (None, 21, 64)            41024     \n",
            "                                                                 \n",
            " max_pooling1d_3 (MaxPooling  (None, 11, 64)           0         \n",
            " 1D)                                                             \n",
            "                                                                 \n",
            " flatten (Flatten)           (None, 704)               0         \n",
            "                                                                 \n",
            " dense (Dense)               (None, 32)                22560     \n",
            "                                                                 \n",
            " dropout_1 (Dropout)         (None, 32)                0         \n",
            "                                                                 \n",
            " dense_1 (Dense)             (None, 8)                 264       \n",
            "                                                                 \n",
            "=================================================================\n",
            "Total params: 557,288\n",
            "Trainable params: 557,288\n",
            "Non-trainable params: 0\n",
            "_________________________________________________________________\n"
          ]
        }
      ],
      "source": [
        "Model.summary()"
      ]
    },
    {
      "cell_type": "code",
      "execution_count": null,
      "metadata": {
        "colab": {
          "background_save": true
        },
        "id": "W_zBOxWCnuNm",
        "outputId": "acbe6496-a73c-40f4-ea41-3a683fad440c"
      },
      "outputs": [
        {
          "name": "stdout",
          "output_type": "stream",
          "text": [
            "(8638, 168)\n",
            "(8638, 168)\n"
          ]
        }
      ],
      "source": [
        "scaler_data = StandardScaler()\n",
        "\n",
        "x_train_scale = scaler_data.fit_transform(x_train)\n",
        "x_test_scale = scaler_data.transform(x_test)\n",
        "\n",
        "print(x_train.shape)\n",
        "print(x_train_scale.shape)"
      ]
    },
    {
      "cell_type": "code",
      "execution_count": null,
      "metadata": {
        "id": "ROieREeDgbVj"
      },
      "outputs": [],
      "source": [
        "history = Model.fit(x_train_scale, y_train_onehot, batch_size=32, epochs=50, validation_data=(x_test_scale, y_test_onehot))"
      ]
    },
    {
      "cell_type": "code",
      "execution_count": null,
      "metadata": {
        "id": "DaLz2Hhbo63-"
      },
      "outputs": [],
      "source": [
        "temp = Model.evaluate(x_test_scale, y_test_onehot)"
      ]
    },
    {
      "cell_type": "markdown",
      "metadata": {
        "id": "cigVcULGo64B"
      },
      "source": [
        "### loss & acc plot, heat map\n",
        "- Q) train acc < test acc? - small training set?"
      ]
    },
    {
      "cell_type": "code",
      "execution_count": null,
      "metadata": {
        "id": "yegMlZKho64B"
      },
      "outputs": [],
      "source": [
        "print(\"Accuracy of our model on test data : \" , Model.evaluate(x_test_scale, y_test_onehot)[1]*100 , \"%\")\n",
        "epochs = 50\n",
        "\n",
        "epochs = [i for i in range(epochs)] # epoch!\n",
        "fig , ax = plt.subplots(1,2)\n",
        "train_acc = history.history['accuracy']\n",
        "train_loss = history.history['loss']\n",
        "test_acc = history.history['val_accuracy']\n",
        "test_loss = history.history['val_loss']\n",
        "\n",
        "fig.set_size_inches(20,6)\n",
        "ax[0].plot(epochs , train_loss , label = 'Training Loss')\n",
        "ax[0].plot(epochs , test_loss , label = 'Testing Loss')\n",
        "ax[0].set_title('Training & Testing Loss')\n",
        "ax[0].legend()\n",
        "ax[0].set_xlabel(\"Epochs\")\n",
        "\n",
        "ax[1].plot(epochs , train_acc , label = 'Training Accuracy')\n",
        "ax[1].plot(epochs , test_acc , label = 'Testing Accuracy')\n",
        "ax[1].set_title('Training & Testing Accuracy')\n",
        "ax[1].legend()\n",
        "ax[1].set_xlabel(\"Epochs\")\n",
        "plt.show()"
      ]
    },
    {
      "cell_type": "code",
      "execution_count": null,
      "metadata": {
        "id": "Rjhl6cdco64B"
      },
      "outputs": [],
      "source": [
        "lb = LabelEncoder()\n",
        "emotion = ['neutral', 'calm', 'happy', 'sad', 'angry', 'fearful', 'disgust', 'surprised']\n",
        "lb.fit(emotion)\n",
        "\n",
        "pred_test = Model.predict(x_test_scale)\n",
        "\n",
        "# print(pred_test.shape)\n",
        "# print(np.argmax(pred_test, axis = 1))\n",
        "# print(np.argmax(pred_test, axis = 1).shape)\n",
        "\n",
        "pred_test = np.argmax(pred_test, axis = 1)\n",
        "y_pred = lb.inverse_transform(pred_test) ## number -> string (emotion)\n",
        "\n",
        "# print(y_pred.shape) # (358,)\n",
        "# print(y_test_mel2d.shape) # list. 358"
      ]
    },
    {
      "cell_type": "code",
      "execution_count": null,
      "metadata": {
        "colab": {
          "base_uri": "https://localhost:8080/",
          "height": 630
        },
        "id": "o4YVXuYMo64C",
        "outputId": "ff6bb16d-7ca2-4552-d79b-8851904538dd"
      },
      "outputs": [
        {
          "data": {
            "image/png": "[encoded data removed]",
            "text/plain": [
              "<Figure size 864x720 with 2 Axes>"
            ]
          },
          "metadata": {},
          "output_type": "display_data"
        }
      ],
      "source": [
        "cm = confusion_matrix(y_test, y_pred)\n",
        "plt.figure(figsize = (12, 10))\n",
        "# cm = pd.DataFrame(cm , index = [i for i in lb.categories_] , columns = [i for i in lb.categories_])\n",
        "cm = pd.DataFrame(cm , index = [i for i in emotion] , columns = [i for i in emotion])\n",
        "sns.heatmap(cm, linecolor='white', cmap='Blues', linewidth=1, annot=True, fmt='')\n",
        "plt.title('Confusion Matrix', size=20)\n",
        "plt.xlabel('Predicted Labels', size=14)\n",
        "plt.ylabel('Actual Labels', size=14)\n",
        "plt.show()"
      ]
    },
    {
      "cell_type": "markdown",
      "metadata": {
        "id": "rv0WCkm5iOx0"
      },
      "source": [
        "## MLP (mffc & mel 1d, mean)\n",
        "- accuracy: 50.56%\n",
        "\n"
      ]
    },
    {
      "cell_type": "code",
      "execution_count": null,
      "metadata": {
        "id": "P-ylQi2yiVIS"
      },
      "outputs": [],
      "source": [
        "# Initialize the Multi Layer Perceptron Classifier\n",
        "model=MLPClassifier(alpha=0.01, batch_size=256, epsilon=1e-08, hidden_layer_sizes=(300,), learning_rate='adaptive', max_iter=500)"
      ]
    },
    {
      "cell_type": "code",
      "execution_count": null,
      "metadata": {
        "id": "3LODnEEziVIT"
      },
      "outputs": [],
      "source": [
        "# Train the model\n",
        "clf = model.fit(x_train, y_train) # 2 sec"
      ]
    },
    {
      "cell_type": "code",
      "execution_count": null,
      "metadata": {
        "id": "kCIAnLFiiVIT"
      },
      "outputs": [],
      "source": [
        "# Predict for the test set\n",
        "y_pred = model.predict(x_test)"
      ]
    },
    {
      "cell_type": "code",
      "execution_count": null,
      "metadata": {
        "colab": {
          "base_uri": "https://localhost:8080/"
        },
        "id": "Dv8f7ifDiVIT",
        "outputId": "08990811-494c-4abd-f2f4-e54a90303cdf"
      },
      "outputs": [
        {
          "name": "stdout",
          "output_type": "stream",
          "text": [
            "Accuracy: 50.56%\n"
          ]
        }
      ],
      "source": [
        "# Calculate the accuracy of our model\n",
        "accuracy = accuracy_score(y_true=y_test, y_pred=y_pred)\n",
        "# Print the accuracy\n",
        "print(\"Accuracy: {:.2f}%\".format(accuracy*100))"
      ]
    },
    {
      "cell_type": "markdown",
      "metadata": {
        "id": "e3iwRSp7PsI-"
      },
      "source": [
        "## MLP (mfcc 1d, mean)\n",
        "- accuracy 44.01%"
      ]
    },
    {
      "cell_type": "code",
      "execution_count": null,
      "metadata": {
        "id": "c4C0t1_-rlGx"
      },
      "outputs": [],
      "source": [
        "# Initialize the Multi Layer Perceptron Classifier\n",
        "model=MLPClassifier(alpha=0.01, batch_size=256, epsilon=1e-08, hidden_layer_sizes=(300,), learning_rate='adaptive', max_iter=500)"
      ]
    },
    {
      "cell_type": "code",
      "execution_count": null,
      "metadata": {
        "id": "jC5uT6dWrs6L"
      },
      "outputs": [],
      "source": [
        "# Train the model\n",
        "clf = model.fit(x_train_mfcc1d,y_train_mfcc1d) # 1 sec"
      ]
    },
    {
      "cell_type": "code",
      "execution_count": null,
      "metadata": {
        "id": "WQ4azwWUr2i8"
      },
      "outputs": [],
      "source": [
        "# Predict for the test set\n",
        "y_pred_mfcc1d=model.predict(x_test_mfcc1d)"
      ]
    },
    {
      "cell_type": "code",
      "execution_count": null,
      "metadata": {
        "colab": {
          "base_uri": "https://localhost:8080/"
        },
        "id": "2kFQSunur6aw",
        "outputId": "fa0be389-25b4-421f-b4c1-b859ec145d03"
      },
      "outputs": [
        {
          "name": "stdout",
          "output_type": "stream",
          "text": [
            "Accuracy: 43.02%\n"
          ]
        }
      ],
      "source": [
        "# Calculate the accuracy of our model\n",
        "accuracy=accuracy_score(y_true=y_test_mfcc1d, y_pred=y_pred_mfcc1d)\n",
        "# Print the accuracy\n",
        "print(\"Accuracy: {:.2f}%\".format(accuracy*100))"
      ]
    },
    {
      "cell_type": "markdown",
      "metadata": {
        "id": "bD2tmaWPtrDa"
      },
      "source": [
        "## MLP (mel spectrogram 1d, flatten)\n",
        "\n",
        "- accuracy : 38.55%"
      ]
    },
    {
      "cell_type": "code",
      "execution_count": null,
      "metadata": {
        "id": "fvyCHZmppVKi"
      },
      "outputs": [],
      "source": [
        "# Initialize the Multi Layer Perceptron Classifier\n",
        "model = MLPClassifier(alpha=0.01, batch_size=256, epsilon=1e-08, hidden_layer_sizes=(300,), learning_rate='adaptive', max_iter=500)"
      ]
    },
    {
      "cell_type": "code",
      "execution_count": null,
      "metadata": {
        "id": "2DWc4WVjpWfI"
      },
      "outputs": [],
      "source": [
        "# Train the model\n",
        "clf = model.fit(x_train_mel1d, y_train_mel1d) # 3min 40 sec"
      ]
    },
    {
      "cell_type": "code",
      "execution_count": null,
      "metadata": {
        "id": "cjiPT5DypY6I"
      },
      "outputs": [],
      "source": [
        "# Predict for the test set\n",
        "y_pred_mel1d = model.predict(x_test_mel1d)"
      ]
    },
    {
      "cell_type": "code",
      "execution_count": null,
      "metadata": {
        "colab": {
          "base_uri": "https://localhost:8080/"
        },
        "id": "swvapSdepasV",
        "outputId": "7e391039-5858-4290-8ff9-a2f56015fce3"
      },
      "outputs": [
        {
          "name": "stdout",
          "output_type": "stream",
          "text": [
            "Accuracy: 38.55%\n"
          ]
        }
      ],
      "source": [
        "# Calculate the accuracy of our model\n",
        "accuracy=accuracy_score(y_true=y_test_mel1d, y_pred=y_pred_mel1d)\n",
        "# Print the accuracy\n",
        "print(\"Accuracy: {:.2f}%\".format(accuracy*100))"
      ]
    }
  ],
  "metadata": {
    "accelerator": "GPU",
    "colab": {
      "collapsed_sections": [
        "iZJfdJshATja",
        "FszzKHVdO9bm",
        "usGo6MJknHfX",
        "rasZJ-WYO5-9",
        "bL37297lPCGW",
        "dJzRUX4bPIc_",
        "e3iwRSp7PsI-",
        "UqmRqlRsQhF4",
        "Bhvlugc-pO_x",
        "C-2nb5dcq4ii",
        "jZlYeTmBiAvo"
      ],
      "machine_shape": "hm",
      "name": "ML_SER_final.ipynb",
      "provenance": [],
      "include_colab_link": true
    },
    "kernelspec": {
      "display_name": "Python 3",
      "name": "python3"
    },
    "language_info": {
      "name": "python"
    }
  },
  "nbformat": 4,
  "nbformat_minor": 0
}